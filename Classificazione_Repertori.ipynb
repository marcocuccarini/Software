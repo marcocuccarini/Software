{
  "nbformat": 4,
  "nbformat_minor": 0,
  "metadata": {
    "colab": {
      "name": "Classificazione_Repertori.ipynb",
      "provenance": [],
      "collapsed_sections": [],
      "machine_shape": "hm"
    },
    "kernelspec": {
      "name": "python3",
      "display_name": "Python 3"
    },
    "accelerator": "GPU",
    "widgets": {
      "application/vnd.jupyter.widget-state+json": {
        "731df092bf964e4fad159c00339c96b3": {
          "model_module": "@jupyter-widgets/controls",
          "model_name": "HBoxModel",
          "state": {
            "_view_name": "HBoxView",
            "_dom_classes": [],
            "_model_name": "HBoxModel",
            "_view_module": "@jupyter-widgets/controls",
            "_model_module_version": "1.5.0",
            "_view_count": null,
            "_view_module_version": "1.5.0",
            "box_style": "",
            "layout": "IPY_MODEL_b495343c31f44bb08cd4479f0edb6be0",
            "_model_module": "@jupyter-widgets/controls",
            "children": [
              "IPY_MODEL_57437c6e6fc34591aeebf7dade6d1c35",
              "IPY_MODEL_c8aba62a32cf48718f92de8ced03f0e5"
            ]
          }
        },
        "b495343c31f44bb08cd4479f0edb6be0": {
          "model_module": "@jupyter-widgets/base",
          "model_name": "LayoutModel",
          "state": {
            "_view_name": "LayoutView",
            "grid_template_rows": null,
            "right": null,
            "justify_content": null,
            "_view_module": "@jupyter-widgets/base",
            "overflow": null,
            "_model_module_version": "1.2.0",
            "_view_count": null,
            "flex_flow": null,
            "width": null,
            "min_width": null,
            "border": null,
            "align_items": null,
            "bottom": null,
            "_model_module": "@jupyter-widgets/base",
            "top": null,
            "grid_column": null,
            "overflow_y": null,
            "overflow_x": null,
            "grid_auto_flow": null,
            "grid_area": null,
            "grid_template_columns": null,
            "flex": null,
            "_model_name": "LayoutModel",
            "justify_items": null,
            "grid_row": null,
            "max_height": null,
            "align_content": null,
            "visibility": null,
            "align_self": null,
            "height": null,
            "min_height": null,
            "padding": null,
            "grid_auto_rows": null,
            "grid_gap": null,
            "max_width": null,
            "order": null,
            "_view_module_version": "1.2.0",
            "grid_template_areas": null,
            "object_position": null,
            "object_fit": null,
            "grid_auto_columns": null,
            "margin": null,
            "display": null,
            "left": null
          }
        },
        "57437c6e6fc34591aeebf7dade6d1c35": {
          "model_module": "@jupyter-widgets/controls",
          "model_name": "FloatProgressModel",
          "state": {
            "_view_name": "ProgressView",
            "style": "IPY_MODEL_99fdbb69ab9a4155bff852841f555d52",
            "_dom_classes": [],
            "description": "Downloading: 100%",
            "_model_name": "FloatProgressModel",
            "bar_style": "success",
            "max": 433,
            "_view_module": "@jupyter-widgets/controls",
            "_model_module_version": "1.5.0",
            "value": 433,
            "_view_count": null,
            "_view_module_version": "1.5.0",
            "orientation": "horizontal",
            "min": 0,
            "description_tooltip": null,
            "_model_module": "@jupyter-widgets/controls",
            "layout": "IPY_MODEL_6d744097377f4d9287455f87efccf38f"
          }
        },
        "c8aba62a32cf48718f92de8ced03f0e5": {
          "model_module": "@jupyter-widgets/controls",
          "model_name": "HTMLModel",
          "state": {
            "_view_name": "HTMLView",
            "style": "IPY_MODEL_ba3887fe0f594008a3e050e3e13d4cb8",
            "_dom_classes": [],
            "description": "",
            "_model_name": "HTMLModel",
            "placeholder": "​",
            "_view_module": "@jupyter-widgets/controls",
            "_model_module_version": "1.5.0",
            "value": " 433/433 [00:00&lt;00:00, 521B/s]",
            "_view_count": null,
            "_view_module_version": "1.5.0",
            "description_tooltip": null,
            "_model_module": "@jupyter-widgets/controls",
            "layout": "IPY_MODEL_4482238f35d44d2db912d2834c2d49fb"
          }
        },
        "99fdbb69ab9a4155bff852841f555d52": {
          "model_module": "@jupyter-widgets/controls",
          "model_name": "ProgressStyleModel",
          "state": {
            "_view_name": "StyleView",
            "_model_name": "ProgressStyleModel",
            "description_width": "initial",
            "_view_module": "@jupyter-widgets/base",
            "_model_module_version": "1.5.0",
            "_view_count": null,
            "_view_module_version": "1.2.0",
            "bar_color": null,
            "_model_module": "@jupyter-widgets/controls"
          }
        },
        "6d744097377f4d9287455f87efccf38f": {
          "model_module": "@jupyter-widgets/base",
          "model_name": "LayoutModel",
          "state": {
            "_view_name": "LayoutView",
            "grid_template_rows": null,
            "right": null,
            "justify_content": null,
            "_view_module": "@jupyter-widgets/base",
            "overflow": null,
            "_model_module_version": "1.2.0",
            "_view_count": null,
            "flex_flow": null,
            "width": null,
            "min_width": null,
            "border": null,
            "align_items": null,
            "bottom": null,
            "_model_module": "@jupyter-widgets/base",
            "top": null,
            "grid_column": null,
            "overflow_y": null,
            "overflow_x": null,
            "grid_auto_flow": null,
            "grid_area": null,
            "grid_template_columns": null,
            "flex": null,
            "_model_name": "LayoutModel",
            "justify_items": null,
            "grid_row": null,
            "max_height": null,
            "align_content": null,
            "visibility": null,
            "align_self": null,
            "height": null,
            "min_height": null,
            "padding": null,
            "grid_auto_rows": null,
            "grid_gap": null,
            "max_width": null,
            "order": null,
            "_view_module_version": "1.2.0",
            "grid_template_areas": null,
            "object_position": null,
            "object_fit": null,
            "grid_auto_columns": null,
            "margin": null,
            "display": null,
            "left": null
          }
        },
        "ba3887fe0f594008a3e050e3e13d4cb8": {
          "model_module": "@jupyter-widgets/controls",
          "model_name": "DescriptionStyleModel",
          "state": {
            "_view_name": "StyleView",
            "_model_name": "DescriptionStyleModel",
            "description_width": "",
            "_view_module": "@jupyter-widgets/base",
            "_model_module_version": "1.5.0",
            "_view_count": null,
            "_view_module_version": "1.2.0",
            "_model_module": "@jupyter-widgets/controls"
          }
        },
        "4482238f35d44d2db912d2834c2d49fb": {
          "model_module": "@jupyter-widgets/base",
          "model_name": "LayoutModel",
          "state": {
            "_view_name": "LayoutView",
            "grid_template_rows": null,
            "right": null,
            "justify_content": null,
            "_view_module": "@jupyter-widgets/base",
            "overflow": null,
            "_model_module_version": "1.2.0",
            "_view_count": null,
            "flex_flow": null,
            "width": null,
            "min_width": null,
            "border": null,
            "align_items": null,
            "bottom": null,
            "_model_module": "@jupyter-widgets/base",
            "top": null,
            "grid_column": null,
            "overflow_y": null,
            "overflow_x": null,
            "grid_auto_flow": null,
            "grid_area": null,
            "grid_template_columns": null,
            "flex": null,
            "_model_name": "LayoutModel",
            "justify_items": null,
            "grid_row": null,
            "max_height": null,
            "align_content": null,
            "visibility": null,
            "align_self": null,
            "height": null,
            "min_height": null,
            "padding": null,
            "grid_auto_rows": null,
            "grid_gap": null,
            "max_width": null,
            "order": null,
            "_view_module_version": "1.2.0",
            "grid_template_areas": null,
            "object_position": null,
            "object_fit": null,
            "grid_auto_columns": null,
            "margin": null,
            "display": null,
            "left": null
          }
        },
        "6025ccfc76a64d51aca463d0d5f30921": {
          "model_module": "@jupyter-widgets/controls",
          "model_name": "HBoxModel",
          "state": {
            "_view_name": "HBoxView",
            "_dom_classes": [],
            "_model_name": "HBoxModel",
            "_view_module": "@jupyter-widgets/controls",
            "_model_module_version": "1.5.0",
            "_view_count": null,
            "_view_module_version": "1.5.0",
            "box_style": "",
            "layout": "IPY_MODEL_e8d09fe06a8d4eea8858d90af2e6316b",
            "_model_module": "@jupyter-widgets/controls",
            "children": [
              "IPY_MODEL_d5b077bbd80d4b1ca0f6023005cef0e0",
              "IPY_MODEL_0ec4fd247e184edfa8b951dbbab0cf85"
            ]
          }
        },
        "e8d09fe06a8d4eea8858d90af2e6316b": {
          "model_module": "@jupyter-widgets/base",
          "model_name": "LayoutModel",
          "state": {
            "_view_name": "LayoutView",
            "grid_template_rows": null,
            "right": null,
            "justify_content": null,
            "_view_module": "@jupyter-widgets/base",
            "overflow": null,
            "_model_module_version": "1.2.0",
            "_view_count": null,
            "flex_flow": null,
            "width": null,
            "min_width": null,
            "border": null,
            "align_items": null,
            "bottom": null,
            "_model_module": "@jupyter-widgets/base",
            "top": null,
            "grid_column": null,
            "overflow_y": null,
            "overflow_x": null,
            "grid_auto_flow": null,
            "grid_area": null,
            "grid_template_columns": null,
            "flex": null,
            "_model_name": "LayoutModel",
            "justify_items": null,
            "grid_row": null,
            "max_height": null,
            "align_content": null,
            "visibility": null,
            "align_self": null,
            "height": null,
            "min_height": null,
            "padding": null,
            "grid_auto_rows": null,
            "grid_gap": null,
            "max_width": null,
            "order": null,
            "_view_module_version": "1.2.0",
            "grid_template_areas": null,
            "object_position": null,
            "object_fit": null,
            "grid_auto_columns": null,
            "margin": null,
            "display": null,
            "left": null
          }
        },
        "d5b077bbd80d4b1ca0f6023005cef0e0": {
          "model_module": "@jupyter-widgets/controls",
          "model_name": "FloatProgressModel",
          "state": {
            "_view_name": "ProgressView",
            "style": "IPY_MODEL_5928a37684a5431e96dcffe88fa1dd4f",
            "_dom_classes": [],
            "description": "Downloading: 100%",
            "_model_name": "FloatProgressModel",
            "bar_style": "success",
            "max": 242585,
            "_view_module": "@jupyter-widgets/controls",
            "_model_module_version": "1.5.0",
            "value": 242585,
            "_view_count": null,
            "_view_module_version": "1.5.0",
            "orientation": "horizontal",
            "min": 0,
            "description_tooltip": null,
            "_model_module": "@jupyter-widgets/controls",
            "layout": "IPY_MODEL_a4dc6f50914e4ad39b3a03b102e278a8"
          }
        },
        "0ec4fd247e184edfa8b951dbbab0cf85": {
          "model_module": "@jupyter-widgets/controls",
          "model_name": "HTMLModel",
          "state": {
            "_view_name": "HTMLView",
            "style": "IPY_MODEL_e1c641869ec44263b92af15bc3f23c8e",
            "_dom_classes": [],
            "description": "",
            "_model_name": "HTMLModel",
            "placeholder": "​",
            "_view_module": "@jupyter-widgets/controls",
            "_model_module_version": "1.5.0",
            "value": " 243k/243k [00:02&lt;00:00, 111kB/s]",
            "_view_count": null,
            "_view_module_version": "1.5.0",
            "description_tooltip": null,
            "_model_module": "@jupyter-widgets/controls",
            "layout": "IPY_MODEL_a4e28f65a37949ab9cc12ec297145adc"
          }
        },
        "5928a37684a5431e96dcffe88fa1dd4f": {
          "model_module": "@jupyter-widgets/controls",
          "model_name": "ProgressStyleModel",
          "state": {
            "_view_name": "StyleView",
            "_model_name": "ProgressStyleModel",
            "description_width": "initial",
            "_view_module": "@jupyter-widgets/base",
            "_model_module_version": "1.5.0",
            "_view_count": null,
            "_view_module_version": "1.2.0",
            "bar_color": null,
            "_model_module": "@jupyter-widgets/controls"
          }
        },
        "a4dc6f50914e4ad39b3a03b102e278a8": {
          "model_module": "@jupyter-widgets/base",
          "model_name": "LayoutModel",
          "state": {
            "_view_name": "LayoutView",
            "grid_template_rows": null,
            "right": null,
            "justify_content": null,
            "_view_module": "@jupyter-widgets/base",
            "overflow": null,
            "_model_module_version": "1.2.0",
            "_view_count": null,
            "flex_flow": null,
            "width": null,
            "min_width": null,
            "border": null,
            "align_items": null,
            "bottom": null,
            "_model_module": "@jupyter-widgets/base",
            "top": null,
            "grid_column": null,
            "overflow_y": null,
            "overflow_x": null,
            "grid_auto_flow": null,
            "grid_area": null,
            "grid_template_columns": null,
            "flex": null,
            "_model_name": "LayoutModel",
            "justify_items": null,
            "grid_row": null,
            "max_height": null,
            "align_content": null,
            "visibility": null,
            "align_self": null,
            "height": null,
            "min_height": null,
            "padding": null,
            "grid_auto_rows": null,
            "grid_gap": null,
            "max_width": null,
            "order": null,
            "_view_module_version": "1.2.0",
            "grid_template_areas": null,
            "object_position": null,
            "object_fit": null,
            "grid_auto_columns": null,
            "margin": null,
            "display": null,
            "left": null
          }
        },
        "e1c641869ec44263b92af15bc3f23c8e": {
          "model_module": "@jupyter-widgets/controls",
          "model_name": "DescriptionStyleModel",
          "state": {
            "_view_name": "StyleView",
            "_model_name": "DescriptionStyleModel",
            "description_width": "",
            "_view_module": "@jupyter-widgets/base",
            "_model_module_version": "1.5.0",
            "_view_count": null,
            "_view_module_version": "1.2.0",
            "_model_module": "@jupyter-widgets/controls"
          }
        },
        "a4e28f65a37949ab9cc12ec297145adc": {
          "model_module": "@jupyter-widgets/base",
          "model_name": "LayoutModel",
          "state": {
            "_view_name": "LayoutView",
            "grid_template_rows": null,
            "right": null,
            "justify_content": null,
            "_view_module": "@jupyter-widgets/base",
            "overflow": null,
            "_model_module_version": "1.2.0",
            "_view_count": null,
            "flex_flow": null,
            "width": null,
            "min_width": null,
            "border": null,
            "align_items": null,
            "bottom": null,
            "_model_module": "@jupyter-widgets/base",
            "top": null,
            "grid_column": null,
            "overflow_y": null,
            "overflow_x": null,
            "grid_auto_flow": null,
            "grid_area": null,
            "grid_template_columns": null,
            "flex": null,
            "_model_name": "LayoutModel",
            "justify_items": null,
            "grid_row": null,
            "max_height": null,
            "align_content": null,
            "visibility": null,
            "align_self": null,
            "height": null,
            "min_height": null,
            "padding": null,
            "grid_auto_rows": null,
            "grid_gap": null,
            "max_width": null,
            "order": null,
            "_view_module_version": "1.2.0",
            "grid_template_areas": null,
            "object_position": null,
            "object_fit": null,
            "grid_auto_columns": null,
            "margin": null,
            "display": null,
            "left": null
          }
        },
        "dcfd7a11b1cb40d58db251eec24e7a88": {
          "model_module": "@jupyter-widgets/controls",
          "model_name": "HBoxModel",
          "state": {
            "_view_name": "HBoxView",
            "_dom_classes": [],
            "_model_name": "HBoxModel",
            "_view_module": "@jupyter-widgets/controls",
            "_model_module_version": "1.5.0",
            "_view_count": null,
            "_view_module_version": "1.5.0",
            "box_style": "",
            "layout": "IPY_MODEL_4e69354531a84c7eb701a712044857b9",
            "_model_module": "@jupyter-widgets/controls",
            "children": [
              "IPY_MODEL_3473f70c72e74289a9ab850044a0f5a2",
              "IPY_MODEL_aa5537c5f0384889b545dba390c6c3e2"
            ]
          }
        },
        "4e69354531a84c7eb701a712044857b9": {
          "model_module": "@jupyter-widgets/base",
          "model_name": "LayoutModel",
          "state": {
            "_view_name": "LayoutView",
            "grid_template_rows": null,
            "right": null,
            "justify_content": null,
            "_view_module": "@jupyter-widgets/base",
            "overflow": null,
            "_model_module_version": "1.2.0",
            "_view_count": null,
            "flex_flow": null,
            "width": null,
            "min_width": null,
            "border": null,
            "align_items": null,
            "bottom": null,
            "_model_module": "@jupyter-widgets/base",
            "top": null,
            "grid_column": null,
            "overflow_y": null,
            "overflow_x": null,
            "grid_auto_flow": null,
            "grid_area": null,
            "grid_template_columns": null,
            "flex": null,
            "_model_name": "LayoutModel",
            "justify_items": null,
            "grid_row": null,
            "max_height": null,
            "align_content": null,
            "visibility": null,
            "align_self": null,
            "height": null,
            "min_height": null,
            "padding": null,
            "grid_auto_rows": null,
            "grid_gap": null,
            "max_width": null,
            "order": null,
            "_view_module_version": "1.2.0",
            "grid_template_areas": null,
            "object_position": null,
            "object_fit": null,
            "grid_auto_columns": null,
            "margin": null,
            "display": null,
            "left": null
          }
        },
        "3473f70c72e74289a9ab850044a0f5a2": {
          "model_module": "@jupyter-widgets/controls",
          "model_name": "FloatProgressModel",
          "state": {
            "_view_name": "ProgressView",
            "style": "IPY_MODEL_58cff9218c164dddb8fe6576816063f2",
            "_dom_classes": [],
            "description": "Downloading: 100%",
            "_model_name": "FloatProgressModel",
            "bar_style": "success",
            "max": 59,
            "_view_module": "@jupyter-widgets/controls",
            "_model_module_version": "1.5.0",
            "value": 59,
            "_view_count": null,
            "_view_module_version": "1.5.0",
            "orientation": "horizontal",
            "min": 0,
            "description_tooltip": null,
            "_model_module": "@jupyter-widgets/controls",
            "layout": "IPY_MODEL_c46227eca07f404e8e962d5a61d277ec"
          }
        },
        "aa5537c5f0384889b545dba390c6c3e2": {
          "model_module": "@jupyter-widgets/controls",
          "model_name": "HTMLModel",
          "state": {
            "_view_name": "HTMLView",
            "style": "IPY_MODEL_e3bd6e4405de499db3092cb019bfc279",
            "_dom_classes": [],
            "description": "",
            "_model_name": "HTMLModel",
            "placeholder": "​",
            "_view_module": "@jupyter-widgets/controls",
            "_model_module_version": "1.5.0",
            "value": " 59.0/59.0 [00:00&lt;00:00, 142B/s]",
            "_view_count": null,
            "_view_module_version": "1.5.0",
            "description_tooltip": null,
            "_model_module": "@jupyter-widgets/controls",
            "layout": "IPY_MODEL_a618928766c646139ae7cb49d89d6c47"
          }
        },
        "58cff9218c164dddb8fe6576816063f2": {
          "model_module": "@jupyter-widgets/controls",
          "model_name": "ProgressStyleModel",
          "state": {
            "_view_name": "StyleView",
            "_model_name": "ProgressStyleModel",
            "description_width": "initial",
            "_view_module": "@jupyter-widgets/base",
            "_model_module_version": "1.5.0",
            "_view_count": null,
            "_view_module_version": "1.2.0",
            "bar_color": null,
            "_model_module": "@jupyter-widgets/controls"
          }
        },
        "c46227eca07f404e8e962d5a61d277ec": {
          "model_module": "@jupyter-widgets/base",
          "model_name": "LayoutModel",
          "state": {
            "_view_name": "LayoutView",
            "grid_template_rows": null,
            "right": null,
            "justify_content": null,
            "_view_module": "@jupyter-widgets/base",
            "overflow": null,
            "_model_module_version": "1.2.0",
            "_view_count": null,
            "flex_flow": null,
            "width": null,
            "min_width": null,
            "border": null,
            "align_items": null,
            "bottom": null,
            "_model_module": "@jupyter-widgets/base",
            "top": null,
            "grid_column": null,
            "overflow_y": null,
            "overflow_x": null,
            "grid_auto_flow": null,
            "grid_area": null,
            "grid_template_columns": null,
            "flex": null,
            "_model_name": "LayoutModel",
            "justify_items": null,
            "grid_row": null,
            "max_height": null,
            "align_content": null,
            "visibility": null,
            "align_self": null,
            "height": null,
            "min_height": null,
            "padding": null,
            "grid_auto_rows": null,
            "grid_gap": null,
            "max_width": null,
            "order": null,
            "_view_module_version": "1.2.0",
            "grid_template_areas": null,
            "object_position": null,
            "object_fit": null,
            "grid_auto_columns": null,
            "margin": null,
            "display": null,
            "left": null
          }
        },
        "e3bd6e4405de499db3092cb019bfc279": {
          "model_module": "@jupyter-widgets/controls",
          "model_name": "DescriptionStyleModel",
          "state": {
            "_view_name": "StyleView",
            "_model_name": "DescriptionStyleModel",
            "description_width": "",
            "_view_module": "@jupyter-widgets/base",
            "_model_module_version": "1.5.0",
            "_view_count": null,
            "_view_module_version": "1.2.0",
            "_model_module": "@jupyter-widgets/controls"
          }
        },
        "a618928766c646139ae7cb49d89d6c47": {
          "model_module": "@jupyter-widgets/base",
          "model_name": "LayoutModel",
          "state": {
            "_view_name": "LayoutView",
            "grid_template_rows": null,
            "right": null,
            "justify_content": null,
            "_view_module": "@jupyter-widgets/base",
            "overflow": null,
            "_model_module_version": "1.2.0",
            "_view_count": null,
            "flex_flow": null,
            "width": null,
            "min_width": null,
            "border": null,
            "align_items": null,
            "bottom": null,
            "_model_module": "@jupyter-widgets/base",
            "top": null,
            "grid_column": null,
            "overflow_y": null,
            "overflow_x": null,
            "grid_auto_flow": null,
            "grid_area": null,
            "grid_template_columns": null,
            "flex": null,
            "_model_name": "LayoutModel",
            "justify_items": null,
            "grid_row": null,
            "max_height": null,
            "align_content": null,
            "visibility": null,
            "align_self": null,
            "height": null,
            "min_height": null,
            "padding": null,
            "grid_auto_rows": null,
            "grid_gap": null,
            "max_width": null,
            "order": null,
            "_view_module_version": "1.2.0",
            "grid_template_areas": null,
            "object_position": null,
            "object_fit": null,
            "grid_auto_columns": null,
            "margin": null,
            "display": null,
            "left": null
          }
        },
        "730aae8fdaff4bf892ccb6372410d559": {
          "model_module": "@jupyter-widgets/controls",
          "model_name": "HBoxModel",
          "state": {
            "_view_name": "HBoxView",
            "_dom_classes": [],
            "_model_name": "HBoxModel",
            "_view_module": "@jupyter-widgets/controls",
            "_model_module_version": "1.5.0",
            "_view_count": null,
            "_view_module_version": "1.5.0",
            "box_style": "",
            "layout": "IPY_MODEL_b2b5874660404bd092a1f1dc82fa14f2",
            "_model_module": "@jupyter-widgets/controls",
            "children": [
              "IPY_MODEL_923ded28e91942078c1b6675950aebe5",
              "IPY_MODEL_89fb6129963a41638f6ffa6c9b4b3e7e"
            ]
          }
        },
        "b2b5874660404bd092a1f1dc82fa14f2": {
          "model_module": "@jupyter-widgets/base",
          "model_name": "LayoutModel",
          "state": {
            "_view_name": "LayoutView",
            "grid_template_rows": null,
            "right": null,
            "justify_content": null,
            "_view_module": "@jupyter-widgets/base",
            "overflow": null,
            "_model_module_version": "1.2.0",
            "_view_count": null,
            "flex_flow": null,
            "width": null,
            "min_width": null,
            "border": null,
            "align_items": null,
            "bottom": null,
            "_model_module": "@jupyter-widgets/base",
            "top": null,
            "grid_column": null,
            "overflow_y": null,
            "overflow_x": null,
            "grid_auto_flow": null,
            "grid_area": null,
            "grid_template_columns": null,
            "flex": null,
            "_model_name": "LayoutModel",
            "justify_items": null,
            "grid_row": null,
            "max_height": null,
            "align_content": null,
            "visibility": null,
            "align_self": null,
            "height": null,
            "min_height": null,
            "padding": null,
            "grid_auto_rows": null,
            "grid_gap": null,
            "max_width": null,
            "order": null,
            "_view_module_version": "1.2.0",
            "grid_template_areas": null,
            "object_position": null,
            "object_fit": null,
            "grid_auto_columns": null,
            "margin": null,
            "display": null,
            "left": null
          }
        },
        "923ded28e91942078c1b6675950aebe5": {
          "model_module": "@jupyter-widgets/controls",
          "model_name": "FloatProgressModel",
          "state": {
            "_view_name": "ProgressView",
            "style": "IPY_MODEL_ed17929b343141a6ba817325f2af9688",
            "_dom_classes": [],
            "description": "Downloading: 100%",
            "_model_name": "FloatProgressModel",
            "bar_style": "success",
            "max": 445332528,
            "_view_module": "@jupyter-widgets/controls",
            "_model_module_version": "1.5.0",
            "value": 445332528,
            "_view_count": null,
            "_view_module_version": "1.5.0",
            "orientation": "horizontal",
            "min": 0,
            "description_tooltip": null,
            "_model_module": "@jupyter-widgets/controls",
            "layout": "IPY_MODEL_1a978564e27c4d22930b7f9067fe7989"
          }
        },
        "89fb6129963a41638f6ffa6c9b4b3e7e": {
          "model_module": "@jupyter-widgets/controls",
          "model_name": "HTMLModel",
          "state": {
            "_view_name": "HTMLView",
            "style": "IPY_MODEL_785e7a0413f843969e3efde77896abb2",
            "_dom_classes": [],
            "description": "",
            "_model_name": "HTMLModel",
            "placeholder": "​",
            "_view_module": "@jupyter-widgets/controls",
            "_model_module_version": "1.5.0",
            "value": " 445M/445M [00:09&lt;00:00, 47.9MB/s]",
            "_view_count": null,
            "_view_module_version": "1.5.0",
            "description_tooltip": null,
            "_model_module": "@jupyter-widgets/controls",
            "layout": "IPY_MODEL_d54e4e33588240de9817fe4e11a17136"
          }
        },
        "ed17929b343141a6ba817325f2af9688": {
          "model_module": "@jupyter-widgets/controls",
          "model_name": "ProgressStyleModel",
          "state": {
            "_view_name": "StyleView",
            "_model_name": "ProgressStyleModel",
            "description_width": "initial",
            "_view_module": "@jupyter-widgets/base",
            "_model_module_version": "1.5.0",
            "_view_count": null,
            "_view_module_version": "1.2.0",
            "bar_color": null,
            "_model_module": "@jupyter-widgets/controls"
          }
        },
        "1a978564e27c4d22930b7f9067fe7989": {
          "model_module": "@jupyter-widgets/base",
          "model_name": "LayoutModel",
          "state": {
            "_view_name": "LayoutView",
            "grid_template_rows": null,
            "right": null,
            "justify_content": null,
            "_view_module": "@jupyter-widgets/base",
            "overflow": null,
            "_model_module_version": "1.2.0",
            "_view_count": null,
            "flex_flow": null,
            "width": null,
            "min_width": null,
            "border": null,
            "align_items": null,
            "bottom": null,
            "_model_module": "@jupyter-widgets/base",
            "top": null,
            "grid_column": null,
            "overflow_y": null,
            "overflow_x": null,
            "grid_auto_flow": null,
            "grid_area": null,
            "grid_template_columns": null,
            "flex": null,
            "_model_name": "LayoutModel",
            "justify_items": null,
            "grid_row": null,
            "max_height": null,
            "align_content": null,
            "visibility": null,
            "align_self": null,
            "height": null,
            "min_height": null,
            "padding": null,
            "grid_auto_rows": null,
            "grid_gap": null,
            "max_width": null,
            "order": null,
            "_view_module_version": "1.2.0",
            "grid_template_areas": null,
            "object_position": null,
            "object_fit": null,
            "grid_auto_columns": null,
            "margin": null,
            "display": null,
            "left": null
          }
        },
        "785e7a0413f843969e3efde77896abb2": {
          "model_module": "@jupyter-widgets/controls",
          "model_name": "DescriptionStyleModel",
          "state": {
            "_view_name": "StyleView",
            "_model_name": "DescriptionStyleModel",
            "description_width": "",
            "_view_module": "@jupyter-widgets/base",
            "_model_module_version": "1.5.0",
            "_view_count": null,
            "_view_module_version": "1.2.0",
            "_model_module": "@jupyter-widgets/controls"
          }
        },
        "d54e4e33588240de9817fe4e11a17136": {
          "model_module": "@jupyter-widgets/base",
          "model_name": "LayoutModel",
          "state": {
            "_view_name": "LayoutView",
            "grid_template_rows": null,
            "right": null,
            "justify_content": null,
            "_view_module": "@jupyter-widgets/base",
            "overflow": null,
            "_model_module_version": "1.2.0",
            "_view_count": null,
            "flex_flow": null,
            "width": null,
            "min_width": null,
            "border": null,
            "align_items": null,
            "bottom": null,
            "_model_module": "@jupyter-widgets/base",
            "top": null,
            "grid_column": null,
            "overflow_y": null,
            "overflow_x": null,
            "grid_auto_flow": null,
            "grid_area": null,
            "grid_template_columns": null,
            "flex": null,
            "_model_name": "LayoutModel",
            "justify_items": null,
            "grid_row": null,
            "max_height": null,
            "align_content": null,
            "visibility": null,
            "align_self": null,
            "height": null,
            "min_height": null,
            "padding": null,
            "grid_auto_rows": null,
            "grid_gap": null,
            "max_width": null,
            "order": null,
            "_view_module_version": "1.2.0",
            "grid_template_areas": null,
            "object_position": null,
            "object_fit": null,
            "grid_auto_columns": null,
            "margin": null,
            "display": null,
            "left": null
          }
        }
      }
    }
  },
  "cells": [
    {
      "cell_type": "code",
      "metadata": {
        "id": "YdfKIqdzI9q-"
      },
      "source": [
        "%reload_ext autoreload\n",
        "%autoreload 2\n",
        "import os\n",
        "os.environ['CUDA_LAUNCH_BLOCKING'] = \"1\""
      ],
      "execution_count": null,
      "outputs": []
    },
    {
      "cell_type": "code",
      "metadata": {
        "id": "EoPYsd7MI6Pi"
      },
      "source": [
        "%%capture\n",
        "!pip install transformers"
      ],
      "execution_count": null,
      "outputs": []
    },
    {
      "cell_type": "code",
      "metadata": {
        "id": "IEf2tTkAI7IW"
      },
      "source": [
        "%%capture\n",
        "!pip install git+https://github.com/fastai/fastai\n"
      ],
      "execution_count": null,
      "outputs": []
    },
    {
      "cell_type": "code",
      "metadata": {
        "id": "d29PhYvjaUiW"
      },
      "source": [
        "from fastai.basics import *\n",
        "from fastai.text.all import *\n",
        "from fastai.callback.all import *\n",
        "from fastai.interpret import *\n",
        "import sys\n",
        "import IPython.utils.io\n",
        "\n",
        "from functools import partial\n",
        "\n",
        "from dsnlplib import *\n"
      ],
      "execution_count": null,
      "outputs": []
    },
    {
      "cell_type": "code",
      "metadata": {
        "id": "Y2867S9fdwRf"
      },
      "source": [
        "# Crea nuovo oggetto di configurazione di esperimento\n",
        "c = DSConfig()"
      ],
      "execution_count": null,
      "outputs": []
    },
    {
      "cell_type": "code",
      "metadata": {
        "id": "tg52VdpUCu4q"
      },
      "source": [
        "# Batch size\n",
        "c.bs = 32\n",
        "\n",
        "# Lunghezza massima delle sequenze (512 è il default di Bert)\n",
        "c.max_seq_len = 512  \n",
        "\n",
        "# Parametro Eps per ottimizzatore AdamW\n",
        "c.eps=0.0001\n",
        "\n",
        "# Learning rate\n",
        "c.lr=1e-6\n",
        "\n",
        "# Numero massimo di epoch\n",
        "c.epochs=2000\n",
        "\n",
        "# Numero massimo di epoch per cui la validation loss può non migliorare, prima dello stop del training\n",
        "c.patience=20\n",
        "\n",
        "# Utilizza funzione di attivazione ReLU prima dell'ultimo livello\n",
        "c.use_activ = True"
      ],
      "execution_count": null,
      "outputs": []
    },
    {
      "cell_type": "code",
      "metadata": {
        "id": "mLGWbBdGcD12"
      },
      "source": [
        "# Lista dei pesi di pre-addestramento da utilizzare nell'esperimento\n",
        "c.pretraineds = ['dbmdz/bert-base-italian-xxl-uncased', \n",
        "               #'m-polignano-uniba/bert_uncased_L-12_H-768_A-12_italian_alb3rt0'\n",
        "               ]\n",
        "\n",
        "# Lista dei modelli da utilizzare nell'esperimento\n",
        "c.models = [\n",
        "            (BertClfier,empty_config),\n",
        "            (BertLast4ClsTokenClfier,empty_config),\n",
        "            (BertLast4ClsTokenDenseClfier,empty_config),\n",
        "            (BertLast4CnnClfier, cnn_config),\n",
        "            (BertLast4PadCnnClfier, cnn_config),\n",
        "]"
      ],
      "execution_count": null,
      "outputs": []
    },
    {
      "cell_type": "code",
      "metadata": {
        "id": "7Hx5HDgq7Ndj"
      },
      "source": [
        "# Modello da utilizzare per la run\n",
        "c.pretrain_id = c.pretraineds[0]"
      ],
      "execution_count": null,
      "outputs": []
    },
    {
      "cell_type": "code",
      "metadata": {
        "id": "WxEltKPUgcut"
      },
      "source": [
        "# Path dei dataframe di train e e test\n",
        "c.df_path = 'data/texts2.1.max_512.train.balanced_rep.separate_q.csv'\n",
        "c.test_df_path = 'data/texts2.1.max_512.test.balanced_rep.separate_q.csv'\n"
      ],
      "execution_count": null,
      "outputs": []
    },
    {
      "cell_type": "code",
      "metadata": {
        "id": "33cZbXAQM1rF"
      },
      "source": [
        "# ID (rispetto a quanto in c.models) del modello da usare per la run\n",
        "c.model_idx = 0"
      ],
      "execution_count": null,
      "outputs": []
    },
    {
      "cell_type": "code",
      "metadata": {
        "id": "jYRw45ByM3je"
      },
      "source": [
        "# Colonna dei dataframe (train e test) con l'etichetta\n",
        "c.label_attr = 'Rep'"
      ],
      "execution_count": null,
      "outputs": []
    },
    {
      "cell_type": "code",
      "metadata": {
        "id": "75-SXP52UQSN"
      },
      "source": [
        "# Utilizza come input sia la domanda che la risposta (altrimenti il dataloader usa solo la risposta)\n",
        "c.use_qa = True"
      ],
      "execution_count": null,
      "outputs": []
    },
    {
      "cell_type": "code",
      "metadata": {
        "id": "zP5N-xLGQwA3"
      },
      "source": [
        "# Esegue 10-fold validation\n",
        "c.cross_validation = True"
      ],
      "execution_count": null,
      "outputs": []
    },
    {
      "cell_type": "code",
      "metadata": {
        "id": "QXasZQTVecW5",
        "outputId": "4ac028fd-617f-4251-fb91-42eba3f600db",
        "colab": {
          "base_uri": "https://localhost:8080/",
          "height": 1000,
          "referenced_widgets": [
            "731df092bf964e4fad159c00339c96b3",
            "b495343c31f44bb08cd4479f0edb6be0",
            "57437c6e6fc34591aeebf7dade6d1c35",
            "c8aba62a32cf48718f92de8ced03f0e5",
            "99fdbb69ab9a4155bff852841f555d52",
            "6d744097377f4d9287455f87efccf38f",
            "ba3887fe0f594008a3e050e3e13d4cb8",
            "4482238f35d44d2db912d2834c2d49fb",
            "6025ccfc76a64d51aca463d0d5f30921",
            "e8d09fe06a8d4eea8858d90af2e6316b",
            "d5b077bbd80d4b1ca0f6023005cef0e0",
            "0ec4fd247e184edfa8b951dbbab0cf85",
            "5928a37684a5431e96dcffe88fa1dd4f",
            "a4dc6f50914e4ad39b3a03b102e278a8",
            "e1c641869ec44263b92af15bc3f23c8e",
            "a4e28f65a37949ab9cc12ec297145adc",
            "dcfd7a11b1cb40d58db251eec24e7a88",
            "4e69354531a84c7eb701a712044857b9",
            "3473f70c72e74289a9ab850044a0f5a2",
            "aa5537c5f0384889b545dba390c6c3e2",
            "58cff9218c164dddb8fe6576816063f2",
            "c46227eca07f404e8e962d5a61d277ec",
            "e3bd6e4405de499db3092cb019bfc279",
            "a618928766c646139ae7cb49d89d6c47"
          ]
        }
      },
      "source": [
        "# Inizializza esperimento\n",
        "exp = DSExperiment(c)"
      ],
      "execution_count": null,
      "outputs": [
        {
          "output_type": "stream",
          "text": [
            "Enter a name for this experiment: 206\n",
            "Resuming experiment named: 206\n"
          ],
          "name": "stdout"
        },
        {
          "output_type": "display_data",
          "data": {
            "application/vnd.jupyter.widget-view+json": {
              "model_id": "731df092bf964e4fad159c00339c96b3",
              "version_minor": 0,
              "version_major": 2
            },
            "text/plain": [
              "HBox(children=(FloatProgress(value=0.0, description='Downloading', max=433.0, style=ProgressStyle(description_…"
            ]
          },
          "metadata": {
            "tags": []
          }
        },
        {
          "output_type": "stream",
          "text": [
            "\n"
          ],
          "name": "stdout"
        },
        {
          "output_type": "display_data",
          "data": {
            "application/vnd.jupyter.widget-view+json": {
              "model_id": "6025ccfc76a64d51aca463d0d5f30921",
              "version_minor": 0,
              "version_major": 2
            },
            "text/plain": [
              "HBox(children=(FloatProgress(value=0.0, description='Downloading', max=242585.0, style=ProgressStyle(descripti…"
            ]
          },
          "metadata": {
            "tags": []
          }
        },
        {
          "output_type": "stream",
          "text": [
            "\n"
          ],
          "name": "stdout"
        },
        {
          "output_type": "display_data",
          "data": {
            "application/vnd.jupyter.widget-view+json": {
              "model_id": "dcfd7a11b1cb40d58db251eec24e7a88",
              "version_minor": 0,
              "version_major": 2
            },
            "text/plain": [
              "HBox(children=(FloatProgress(value=0.0, description='Downloading', max=59.0, style=ProgressStyle(description_w…"
            ]
          },
          "metadata": {
            "tags": []
          }
        },
        {
          "output_type": "stream",
          "text": [
            "\n",
            "\n",
            "\n",
            "Weights: dbmdz/bert-base-italian-xxl-uncased\n",
            "Model: BertClfier\n",
            "Exp name: 206\n",
            "Training conf:\n",
            "df_path: data/texts2.1.max_512.train.balanced_rep.separate_q.csv\n",
            "test_df_path: data/texts2.1.max_512.test.balanced_rep.separate_q.csv\n",
            "bs: 32\n",
            "max_seq_len: 512\n",
            "sentence_pair: False\n",
            "eps: 0.0001\n",
            "lr: 1e-06\n",
            "epochs: 2000\n",
            "patience: 20\n",
            "plateau_patience: 5\n",
            "pretraineds: ['dbmdz/bert-base-italian-xxl-uncased']\n",
            "pretrain_id: dbmdz/bert-base-italian-xxl-uncased\n",
            "models: [(<class 'dsnlplib.models.BertClfier'>, <function empty_config at 0x7f29ce6e9d90>), (<class 'dsnlplib.models.BertLast4ClsTokenClfier'>, <function empty_config at 0x7f29ce6e9d90>), (<class 'dsnlplib.models.BertLast4ClsTokenDenseClfier'>, <function empty_config at 0x7f29ce6e9d90>), (<class 'dsnlplib.models.BertLast4CnnClfier'>, <function cnn_config at 0x7f29ce6e9e18>), (<class 'dsnlplib.models.BertLast4PadCnnClfier'>, <function cnn_config at 0x7f29ce6e9e18>)]\n",
            "results: {'valid': {'loss': [1.9644321203231812], 'accuracy': [0.38963964581489563], 'fbeta': [0.3410323497687747], 'mcc': [0.3518271924436428], 'rocauc': [0.8955507063193539]}, 'test': {'loss': [2.0018739700317383], 'accuracy': [0.39634427428245544], 'fbeta': [0.31038183928099544], 'mcc': [0.3469065479834973], 'rocauc': [0.8714690564632537]}}\n",
            "n_splits: 1\n",
            "use_activ: True\n",
            "freeze_to: 1\n",
            "kernel_num: 3\n",
            "kernel_sizes: [2, 3, 4]\n",
            "embed_dim: 768\n",
            "hidden_dropout_prob: 0.1\n",
            "multi_class: False\n",
            "multi_label: False\n",
            "num_labels: 23\n",
            "use_qa: True\n",
            "cross_validation: True\n",
            "double: False\n",
            "label_smoothing: False\n",
            "learner_datalist: [('dbmdz/bert-base-italian-xxl-uncased/2020-09-14_11:13:26 BertClfier - lr: 1e-06', array([   0,    1,    2, ..., 8871, 8873, 8874]), array([  16,   19,   35,   44,   47,   49,   73,  106,  128,  130,  145,\n",
            "        146,  158,  164,  175,  184,  226,  229,  235,  243,  244,  257,\n",
            "        259,  260,  270,  278,  297,  305,  318,  326,  331,  334,  335,\n",
            "        338,  340,  363,  371,  376,  378,  383,  386,  387,  402,  405,\n",
            "        422,  435,  443,  446,  450,  454,  457,  458,  469,  476,  493,\n",
            "        537,  538,  544,  554,  555,  558,  572,  582,  587,  597,  598,\n",
            "        604,  632,  647,  655,  663,  674,  676,  681,  687,  690,  703,\n",
            "        707,  721,  722,  723,  745,  795,  814,  828,  830,  834,  837,\n",
            "        845,  848,  852,  858,  859,  879,  886,  897,  926,  940,  941,\n",
            "        944,  945,  982,  986,  989,  990,  998, 1000, 1021, 1022, 1031,\n",
            "       1043, 1052, 1060, 1066, 1082, 1083, 1087, 1098, 1103, 1128, 1130,\n",
            "       1145, 1174, 1175, 1177, 1201, 1207, 1219, 1233, 1236, 1243, 1249,\n",
            "       1263, 1269, 1276, 1277, 1286, 1293, 1298, 1315, 1322, 1324, 1330,\n",
            "       1354, 1369, 1381, 1383, 1411, 1417, 1465, 1474, 1484, 1496, 1503,\n",
            "       1523, 1526, 1536, 1541, 1546, 1550, 1555, 1557, 1571, 1587, 1588,\n",
            "       1606, 1640, 1646, 1648, 1668, 1669, 1679, 1695, 1698, 1707, 1716,\n",
            "       1729, 1739, 1740, 1744, 1747, 1752, 1754, 1792, 1801, 1810, 1811,\n",
            "       1814, 1817, 1825, 1827, 1828, 1830, 1848, 1849, 1879, 1891, 1902,\n",
            "       1903, 1909, 1926, 1949, 1982, 1996, 2009, 2017, 2022, 2027, 2028,\n",
            "       2034, 2041, 2079, 2087, 2089, 2090, 2095, 2108, 2109, 2123, 2132,\n",
            "       2135, 2137, 2150, 2156, 2168, 2181, 2182, 2195, 2197, 2200, 2203,\n",
            "       2219, 2228, 2231, 2239, 2249, 2253, 2272, 2281, 2282, 2283, 2291,\n",
            "       2308, 2310, 2316, 2326, 2334, 2345, 2348, 2349, 2352, 2358, 2366,\n",
            "       2367, 2372, 2381, 2395, 2401, 2424, 2435, 2438, 2451, 2452, 2455,\n",
            "       2460, 2464, 2472, 2473, 2475, 2501, 2506, 2514, 2524, 2533, 2541,\n",
            "       2544, 2553, 2554, 2588, 2595, 2603, 2628, 2629, 2643, 2655, 2673,\n",
            "       2685, 2686, 2689, 2695, 2705, 2723, 2725, 2753, 2760, 2766, 2776,\n",
            "       2785, 2798, 2803, 2804, 2817, 2823, 2837, 2843, 2845, 2849, 2868,\n",
            "       2872, 2875, 2892, 2894, 2920, 2922, 2975, 2979, 2990, 2994, 2996,\n",
            "       3001, 3007, 3013, 3017, 3019, 3025, 3039, 3041, 3043, 3046, 3048,\n",
            "       3050, 3055, 3057, 3061, 3065, 3068, 3074, 3075, 3076, 3077, 3094,\n",
            "       3111, 3115, 3118, 3121, 3127, 3130, 3142, 3146, 3150, 3154, 3155,\n",
            "       3157, 3172, 3187, 3194, 3200, 3206, 3221, 3252, 3256, 3268, 3290,\n",
            "       3294, 3310, 3313, 3316, 3318, 3331, 3334, 3339, 3344, 3347, 3372,\n",
            "       3389, 3410, 3414, 3423, 3425, 3435, 3449, 3456, 3470, 3487, 3497,\n",
            "       3501, 3509, 3527, 3528, 3566, 3567, 3572, 3575, 3576, 3584, 3586,\n",
            "       3593, 3598, 3614, 3644, 3654, 3660, 3672, 3673, 3686, 3691, 3692,\n",
            "       3717, 3719, 3720, 3744, 3750, 3751, 3763, 3765, 3771, 3792, 3795,\n",
            "       3801, 3830, 3837, 3850, 3852, 3864, 3866, 3877, 3886, 3897, 3899,\n",
            "       3906, 3909, 3923, 3937, 3946, 3960, 3967, 3978, 3997, 4003, 4006,\n",
            "       4016, 4019, 4021, 4036, 4042, 4054, 4057, 4061, 4074, 4077, 4085,\n",
            "       4098, 4104, 4110, 4116, 4163, 4170, 4183, 4189, 4190, 4214, 4215,\n",
            "       4216, 4219, 4232, 4250, 4255, 4259, 4268, 4307, 4310, 4338, 4349,\n",
            "       4353, 4360, 4376, 4396, 4401, 4428, 4441, 4462, 4468, 4469, 4471,\n",
            "       4486, 4488, 4491, 4519, 4520, 4534, 4552, 4558, 4565, 4576, 4579,\n",
            "       4606, 4635, 4637, 4640, 4643, 4650, 4657, 4665, 4666, 4673, 4702,\n",
            "       4712, 4716, 4726, 4738, 4744, 4751, 4753, 4758, 4760, 4806, 4810,\n",
            "       4846, 4854, 4867, 4885, 4900, 4919, 4932, 4934, 4941, 4952, 4966,\n",
            "       4976, 4998, 4999, 5001, 5002, 5012, 5016, 5018, 5027, 5028, 5030,\n",
            "       5035, 5045, 5070, 5104, 5134, 5137, 5147, 5151, 5159, 5168, 5181,\n",
            "       5188, 5211, 5222, 5223, 5241, 5246, 5248, 5251, 5275, 5278, 5296,\n",
            "       5298, 5299, 5301, 5314, 5330, 5338, 5359, 5370, 5377, 5420, 5427,\n",
            "       5432, 5447, 5456, 5463, 5472, 5477, 5491, 5507, 5512, 5514, 5529,\n",
            "       5530, 5531, 5547, 5552, 5575, 5596, 5597, 5598, 5610, 5622, 5627,\n",
            "       5634, 5635, 5639, 5665, 5669, 5674, 5690, 5706, 5757, 5759, 5763,\n",
            "       5778, 5788, 5799, 5809, 5811, 5824, 5830, 5854, 5856, 5868, 5877,\n",
            "       5926, 5939, 5943, 5948, 5952, 5972, 5987, 5993, 6013, 6016, 6026,\n",
            "       6062, 6068, 6071, 6090, 6101, 6113, 6146, 6149, 6157, 6177, 6178,\n",
            "       6182, 6186, 6187, 6195, 6198, 6239, 6293, 6296, 6301, 6304, 6306,\n",
            "       6327, 6362, 6363, 6383, 6393, 6396, 6419, 6424, 6446, 6454, 6456,\n",
            "       6480, 6491, 6498, 6515, 6523, 6560, 6565, 6573, 6584, 6587, 6604,\n",
            "       6611, 6629, 6664, 6687, 6697, 6699, 6712, 6719, 6731, 6735, 6748,\n",
            "       6752, 6765, 6795, 6802, 6804, 6806, 6808, 6812, 6836, 6838, 6848,\n",
            "       6862, 6864, 6867, 6869, 6895, 6900, 6908, 6946, 6967, 6978, 6986,\n",
            "       7003, 7013, 7017, 7035, 7043, 7055, 7090, 7103, 7118, 7146, 7148,\n",
            "       7162, 7183, 7187, 7202, 7204, 7209, 7211, 7215, 7216, 7223, 7226,\n",
            "       7231, 7236, 7252, 7253, 7262, 7271, 7275, 7282, 7283, 7296, 7312,\n",
            "       7320, 7330, 7332, 7334, 7342, 7343, 7349, 7378, 7393, 7419, 7433,\n",
            "       7443, 7454, 7459, 7466, 7467, 7471, 7483, 7499, 7506, 7507, 7520,\n",
            "       7529, 7530, 7551, 7560, 7567, 7571, 7592, 7653, 7660, 7676, 7680,\n",
            "       7696, 7700, 7709, 7714, 7728, 7778, 7780, 7786, 7787, 7789, 7793,\n",
            "       7800, 7809, 7814, 7815, 7818, 7827, 7831, 7832, 7835, 7840, 7851,\n",
            "       7860, 7878, 7885, 7893, 7902, 7928, 7935, 7937, 7948, 7964, 7991,\n",
            "       7994, 7996, 7997, 8000, 8013, 8024, 8026, 8029, 8046, 8051, 8054,\n",
            "       8060, 8062, 8077, 8120, 8130, 8137, 8141, 8142, 8159, 8166, 8167,\n",
            "       8175, 8186, 8197, 8201, 8211, 8231, 8237, 8246, 8249, 8292, 8298,\n",
            "       8310, 8326, 8336, 8342, 8358, 8368, 8386, 8389, 8401, 8410, 8437,\n",
            "       8440, 8459, 8466, 8468, 8487, 8490, 8496, 8501, 8515, 8517, 8531,\n",
            "       8535, 8561, 8568, 8579, 8605, 8609, 8615, 8637, 8646, 8657, 8681,\n",
            "       8705, 8708, 8722, 8729, 8741, 8744, 8752, 8753, 8764, 8804, 8805,\n",
            "       8812, 8817, 8830, 8838, 8844, 8847, 8867, 8872]))]\n",
            "started: True\n",
            "over: True\n",
            "model_idx: 0\n",
            "label_attr: Rep\n",
            "model_cls: <class 'dsnlplib.models.BertClfier'>\n",
            "model_class_name: BertClfier\n",
            "tf_config\n",
            "split_series: [(array([   0,    1,    2, ..., 8871, 8873, 8874]), array([  16,   19,   35,   44,   47,   49,   73,  106,  128,  130,  145,\n",
            "        146,  158,  164,  175,  184,  226,  229,  235,  243,  244,  257,\n",
            "        259,  260,  270,  278,  297,  305,  318,  326,  331,  334,  335,\n",
            "        338,  340,  363,  371,  376,  378,  383,  386,  387,  402,  405,\n",
            "        422,  435,  443,  446,  450,  454,  457,  458,  469,  476,  493,\n",
            "        537,  538,  544,  554,  555,  558,  572,  582,  587,  597,  598,\n",
            "        604,  632,  647,  655,  663,  674,  676,  681,  687,  690,  703,\n",
            "        707,  721,  722,  723,  745,  795,  814,  828,  830,  834,  837,\n",
            "        845,  848,  852,  858,  859,  879,  886,  897,  926,  940,  941,\n",
            "        944,  945,  982,  986,  989,  990,  998, 1000, 1021, 1022, 1031,\n",
            "       1043, 1052, 1060, 1066, 1082, 1083, 1087, 1098, 1103, 1128, 1130,\n",
            "       1145, 1174, 1175, 1177, 1201, 1207, 1219, 1233, 1236, 1243, 1249,\n",
            "       1263, 1269, 1276, 1277, 1286, 1293, 1298, 1315, 1322, 1324, 1330,\n",
            "       1354, 1369, 1381, 1383, 1411, 1417, 1465, 1474, 1484, 1496, 1503,\n",
            "       1523, 1526, 1536, 1541, 1546, 1550, 1555, 1557, 1571, 1587, 1588,\n",
            "       1606, 1640, 1646, 1648, 1668, 1669, 1679, 1695, 1698, 1707, 1716,\n",
            "       1729, 1739, 1740, 1744, 1747, 1752, 1754, 1792, 1801, 1810, 1811,\n",
            "       1814, 1817, 1825, 1827, 1828, 1830, 1848, 1849, 1879, 1891, 1902,\n",
            "       1903, 1909, 1926, 1949, 1982, 1996, 2009, 2017, 2022, 2027, 2028,\n",
            "       2034, 2041, 2079, 2087, 2089, 2090, 2095, 2108, 2109, 2123, 2132,\n",
            "       2135, 2137, 2150, 2156, 2168, 2181, 2182, 2195, 2197, 2200, 2203,\n",
            "       2219, 2228, 2231, 2239, 2249, 2253, 2272, 2281, 2282, 2283, 2291,\n",
            "       2308, 2310, 2316, 2326, 2334, 2345, 2348, 2349, 2352, 2358, 2366,\n",
            "       2367, 2372, 2381, 2395, 2401, 2424, 2435, 2438, 2451, 2452, 2455,\n",
            "       2460, 2464, 2472, 2473, 2475, 2501, 2506, 2514, 2524, 2533, 2541,\n",
            "       2544, 2553, 2554, 2588, 2595, 2603, 2628, 2629, 2643, 2655, 2673,\n",
            "       2685, 2686, 2689, 2695, 2705, 2723, 2725, 2753, 2760, 2766, 2776,\n",
            "       2785, 2798, 2803, 2804, 2817, 2823, 2837, 2843, 2845, 2849, 2868,\n",
            "       2872, 2875, 2892, 2894, 2920, 2922, 2975, 2979, 2990, 2994, 2996,\n",
            "       3001, 3007, 3013, 3017, 3019, 3025, 3039, 3041, 3043, 3046, 3048,\n",
            "       3050, 3055, 3057, 3061, 3065, 3068, 3074, 3075, 3076, 3077, 3094,\n",
            "       3111, 3115, 3118, 3121, 3127, 3130, 3142, 3146, 3150, 3154, 3155,\n",
            "       3157, 3172, 3187, 3194, 3200, 3206, 3221, 3252, 3256, 3268, 3290,\n",
            "       3294, 3310, 3313, 3316, 3318, 3331, 3334, 3339, 3344, 3347, 3372,\n",
            "       3389, 3410, 3414, 3423, 3425, 3435, 3449, 3456, 3470, 3487, 3497,\n",
            "       3501, 3509, 3527, 3528, 3566, 3567, 3572, 3575, 3576, 3584, 3586,\n",
            "       3593, 3598, 3614, 3644, 3654, 3660, 3672, 3673, 3686, 3691, 3692,\n",
            "       3717, 3719, 3720, 3744, 3750, 3751, 3763, 3765, 3771, 3792, 3795,\n",
            "       3801, 3830, 3837, 3850, 3852, 3864, 3866, 3877, 3886, 3897, 3899,\n",
            "       3906, 3909, 3923, 3937, 3946, 3960, 3967, 3978, 3997, 4003, 4006,\n",
            "       4016, 4019, 4021, 4036, 4042, 4054, 4057, 4061, 4074, 4077, 4085,\n",
            "       4098, 4104, 4110, 4116, 4163, 4170, 4183, 4189, 4190, 4214, 4215,\n",
            "       4216, 4219, 4232, 4250, 4255, 4259, 4268, 4307, 4310, 4338, 4349,\n",
            "       4353, 4360, 4376, 4396, 4401, 4428, 4441, 4462, 4468, 4469, 4471,\n",
            "       4486, 4488, 4491, 4519, 4520, 4534, 4552, 4558, 4565, 4576, 4579,\n",
            "       4606, 4635, 4637, 4640, 4643, 4650, 4657, 4665, 4666, 4673, 4702,\n",
            "       4712, 4716, 4726, 4738, 4744, 4751, 4753, 4758, 4760, 4806, 4810,\n",
            "       4846, 4854, 4867, 4885, 4900, 4919, 4932, 4934, 4941, 4952, 4966,\n",
            "       4976, 4998, 4999, 5001, 5002, 5012, 5016, 5018, 5027, 5028, 5030,\n",
            "       5035, 5045, 5070, 5104, 5134, 5137, 5147, 5151, 5159, 5168, 5181,\n",
            "       5188, 5211, 5222, 5223, 5241, 5246, 5248, 5251, 5275, 5278, 5296,\n",
            "       5298, 5299, 5301, 5314, 5330, 5338, 5359, 5370, 5377, 5420, 5427,\n",
            "       5432, 5447, 5456, 5463, 5472, 5477, 5491, 5507, 5512, 5514, 5529,\n",
            "       5530, 5531, 5547, 5552, 5575, 5596, 5597, 5598, 5610, 5622, 5627,\n",
            "       5634, 5635, 5639, 5665, 5669, 5674, 5690, 5706, 5757, 5759, 5763,\n",
            "       5778, 5788, 5799, 5809, 5811, 5824, 5830, 5854, 5856, 5868, 5877,\n",
            "       5926, 5939, 5943, 5948, 5952, 5972, 5987, 5993, 6013, 6016, 6026,\n",
            "       6062, 6068, 6071, 6090, 6101, 6113, 6146, 6149, 6157, 6177, 6178,\n",
            "       6182, 6186, 6187, 6195, 6198, 6239, 6293, 6296, 6301, 6304, 6306,\n",
            "       6327, 6362, 6363, 6383, 6393, 6396, 6419, 6424, 6446, 6454, 6456,\n",
            "       6480, 6491, 6498, 6515, 6523, 6560, 6565, 6573, 6584, 6587, 6604,\n",
            "       6611, 6629, 6664, 6687, 6697, 6699, 6712, 6719, 6731, 6735, 6748,\n",
            "       6752, 6765, 6795, 6802, 6804, 6806, 6808, 6812, 6836, 6838, 6848,\n",
            "       6862, 6864, 6867, 6869, 6895, 6900, 6908, 6946, 6967, 6978, 6986,\n",
            "       7003, 7013, 7017, 7035, 7043, 7055, 7090, 7103, 7118, 7146, 7148,\n",
            "       7162, 7183, 7187, 7202, 7204, 7209, 7211, 7215, 7216, 7223, 7226,\n",
            "       7231, 7236, 7252, 7253, 7262, 7271, 7275, 7282, 7283, 7296, 7312,\n",
            "       7320, 7330, 7332, 7334, 7342, 7343, 7349, 7378, 7393, 7419, 7433,\n",
            "       7443, 7454, 7459, 7466, 7467, 7471, 7483, 7499, 7506, 7507, 7520,\n",
            "       7529, 7530, 7551, 7560, 7567, 7571, 7592, 7653, 7660, 7676, 7680,\n",
            "       7696, 7700, 7709, 7714, 7728, 7778, 7780, 7786, 7787, 7789, 7793,\n",
            "       7800, 7809, 7814, 7815, 7818, 7827, 7831, 7832, 7835, 7840, 7851,\n",
            "       7860, 7878, 7885, 7893, 7902, 7928, 7935, 7937, 7948, 7964, 7991,\n",
            "       7994, 7996, 7997, 8000, 8013, 8024, 8026, 8029, 8046, 8051, 8054,\n",
            "       8060, 8062, 8077, 8120, 8130, 8137, 8141, 8142, 8159, 8166, 8167,\n",
            "       8175, 8186, 8197, 8201, 8211, 8231, 8237, 8246, 8249, 8292, 8298,\n",
            "       8310, 8326, 8336, 8342, 8358, 8368, 8386, 8389, 8401, 8410, 8437,\n",
            "       8440, 8459, 8466, 8468, 8487, 8490, 8496, 8501, 8515, 8517, 8531,\n",
            "       8535, 8561, 8568, 8579, 8605, 8609, 8615, 8637, 8646, 8657, 8681,\n",
            "       8705, 8708, 8722, 8729, 8741, 8744, 8752, 8753, 8764, 8804, 8805,\n",
            "       8812, 8817, 8830, 8838, 8844, 8847, 8867, 8872]))]\n",
            "useRocAuc: True\n",
            "complete_split_series: [(array([   0,    1,    2, ..., 8871, 8873, 8874]), array([  16,   19,   35,   44,   47,   49,   73,  106,  128,  130,  145,\n",
            "        146,  158,  164,  175,  184,  226,  229,  235,  243,  244,  257,\n",
            "        259,  260,  270,  278,  297,  305,  318,  326,  331,  334,  335,\n",
            "        338,  340,  363,  371,  376,  378,  383,  386,  387,  402,  405,\n",
            "        422,  435,  443,  446,  450,  454,  457,  458,  469,  476,  493,\n",
            "        537,  538,  544,  554,  555,  558,  572,  582,  587,  597,  598,\n",
            "        604,  632,  647,  655,  663,  674,  676,  681,  687,  690,  703,\n",
            "        707,  721,  722,  723,  745,  795,  814,  828,  830,  834,  837,\n",
            "        845,  848,  852,  858,  859,  879,  886,  897,  926,  940,  941,\n",
            "        944,  945,  982,  986,  989,  990,  998, 1000, 1021, 1022, 1031,\n",
            "       1043, 1052, 1060, 1066, 1082, 1083, 1087, 1098, 1103, 1128, 1130,\n",
            "       1145, 1174, 1175, 1177, 1201, 1207, 1219, 1233, 1236, 1243, 1249,\n",
            "       1263, 1269, 1276, 1277, 1286, 1293, 1298, 1315, 1322, 1324, 1330,\n",
            "       1354, 1369, 1381, 1383, 1411, 1417, 1465, 1474, 1484, 1496, 1503,\n",
            "       1523, 1526, 1536, 1541, 1546, 1550, 1555, 1557, 1571, 1587, 1588,\n",
            "       1606, 1640, 1646, 1648, 1668, 1669, 1679, 1695, 1698, 1707, 1716,\n",
            "       1729, 1739, 1740, 1744, 1747, 1752, 1754, 1792, 1801, 1810, 1811,\n",
            "       1814, 1817, 1825, 1827, 1828, 1830, 1848, 1849, 1879, 1891, 1902,\n",
            "       1903, 1909, 1926, 1949, 1982, 1996, 2009, 2017, 2022, 2027, 2028,\n",
            "       2034, 2041, 2079, 2087, 2089, 2090, 2095, 2108, 2109, 2123, 2132,\n",
            "       2135, 2137, 2150, 2156, 2168, 2181, 2182, 2195, 2197, 2200, 2203,\n",
            "       2219, 2228, 2231, 2239, 2249, 2253, 2272, 2281, 2282, 2283, 2291,\n",
            "       2308, 2310, 2316, 2326, 2334, 2345, 2348, 2349, 2352, 2358, 2366,\n",
            "       2367, 2372, 2381, 2395, 2401, 2424, 2435, 2438, 2451, 2452, 2455,\n",
            "       2460, 2464, 2472, 2473, 2475, 2501, 2506, 2514, 2524, 2533, 2541,\n",
            "       2544, 2553, 2554, 2588, 2595, 2603, 2628, 2629, 2643, 2655, 2673,\n",
            "       2685, 2686, 2689, 2695, 2705, 2723, 2725, 2753, 2760, 2766, 2776,\n",
            "       2785, 2798, 2803, 2804, 2817, 2823, 2837, 2843, 2845, 2849, 2868,\n",
            "       2872, 2875, 2892, 2894, 2920, 2922, 2975, 2979, 2990, 2994, 2996,\n",
            "       3001, 3007, 3013, 3017, 3019, 3025, 3039, 3041, 3043, 3046, 3048,\n",
            "       3050, 3055, 3057, 3061, 3065, 3068, 3074, 3075, 3076, 3077, 3094,\n",
            "       3111, 3115, 3118, 3121, 3127, 3130, 3142, 3146, 3150, 3154, 3155,\n",
            "       3157, 3172, 3187, 3194, 3200, 3206, 3221, 3252, 3256, 3268, 3290,\n",
            "       3294, 3310, 3313, 3316, 3318, 3331, 3334, 3339, 3344, 3347, 3372,\n",
            "       3389, 3410, 3414, 3423, 3425, 3435, 3449, 3456, 3470, 3487, 3497,\n",
            "       3501, 3509, 3527, 3528, 3566, 3567, 3572, 3575, 3576, 3584, 3586,\n",
            "       3593, 3598, 3614, 3644, 3654, 3660, 3672, 3673, 3686, 3691, 3692,\n",
            "       3717, 3719, 3720, 3744, 3750, 3751, 3763, 3765, 3771, 3792, 3795,\n",
            "       3801, 3830, 3837, 3850, 3852, 3864, 3866, 3877, 3886, 3897, 3899,\n",
            "       3906, 3909, 3923, 3937, 3946, 3960, 3967, 3978, 3997, 4003, 4006,\n",
            "       4016, 4019, 4021, 4036, 4042, 4054, 4057, 4061, 4074, 4077, 4085,\n",
            "       4098, 4104, 4110, 4116, 4163, 4170, 4183, 4189, 4190, 4214, 4215,\n",
            "       4216, 4219, 4232, 4250, 4255, 4259, 4268, 4307, 4310, 4338, 4349,\n",
            "       4353, 4360, 4376, 4396, 4401, 4428, 4441, 4462, 4468, 4469, 4471,\n",
            "       4486, 4488, 4491, 4519, 4520, 4534, 4552, 4558, 4565, 4576, 4579,\n",
            "       4606, 4635, 4637, 4640, 4643, 4650, 4657, 4665, 4666, 4673, 4702,\n",
            "       4712, 4716, 4726, 4738, 4744, 4751, 4753, 4758, 4760, 4806, 4810,\n",
            "       4846, 4854, 4867, 4885, 4900, 4919, 4932, 4934, 4941, 4952, 4966,\n",
            "       4976, 4998, 4999, 5001, 5002, 5012, 5016, 5018, 5027, 5028, 5030,\n",
            "       5035, 5045, 5070, 5104, 5134, 5137, 5147, 5151, 5159, 5168, 5181,\n",
            "       5188, 5211, 5222, 5223, 5241, 5246, 5248, 5251, 5275, 5278, 5296,\n",
            "       5298, 5299, 5301, 5314, 5330, 5338, 5359, 5370, 5377, 5420, 5427,\n",
            "       5432, 5447, 5456, 5463, 5472, 5477, 5491, 5507, 5512, 5514, 5529,\n",
            "       5530, 5531, 5547, 5552, 5575, 5596, 5597, 5598, 5610, 5622, 5627,\n",
            "       5634, 5635, 5639, 5665, 5669, 5674, 5690, 5706, 5757, 5759, 5763,\n",
            "       5778, 5788, 5799, 5809, 5811, 5824, 5830, 5854, 5856, 5868, 5877,\n",
            "       5926, 5939, 5943, 5948, 5952, 5972, 5987, 5993, 6013, 6016, 6026,\n",
            "       6062, 6068, 6071, 6090, 6101, 6113, 6146, 6149, 6157, 6177, 6178,\n",
            "       6182, 6186, 6187, 6195, 6198, 6239, 6293, 6296, 6301, 6304, 6306,\n",
            "       6327, 6362, 6363, 6383, 6393, 6396, 6419, 6424, 6446, 6454, 6456,\n",
            "       6480, 6491, 6498, 6515, 6523, 6560, 6565, 6573, 6584, 6587, 6604,\n",
            "       6611, 6629, 6664, 6687, 6697, 6699, 6712, 6719, 6731, 6735, 6748,\n",
            "       6752, 6765, 6795, 6802, 6804, 6806, 6808, 6812, 6836, 6838, 6848,\n",
            "       6862, 6864, 6867, 6869, 6895, 6900, 6908, 6946, 6967, 6978, 6986,\n",
            "       7003, 7013, 7017, 7035, 7043, 7055, 7090, 7103, 7118, 7146, 7148,\n",
            "       7162, 7183, 7187, 7202, 7204, 7209, 7211, 7215, 7216, 7223, 7226,\n",
            "       7231, 7236, 7252, 7253, 7262, 7271, 7275, 7282, 7283, 7296, 7312,\n",
            "       7320, 7330, 7332, 7334, 7342, 7343, 7349, 7378, 7393, 7419, 7433,\n",
            "       7443, 7454, 7459, 7466, 7467, 7471, 7483, 7499, 7506, 7507, 7520,\n",
            "       7529, 7530, 7551, 7560, 7567, 7571, 7592, 7653, 7660, 7676, 7680,\n",
            "       7696, 7700, 7709, 7714, 7728, 7778, 7780, 7786, 7787, 7789, 7793,\n",
            "       7800, 7809, 7814, 7815, 7818, 7827, 7831, 7832, 7835, 7840, 7851,\n",
            "       7860, 7878, 7885, 7893, 7902, 7928, 7935, 7937, 7948, 7964, 7991,\n",
            "       7994, 7996, 7997, 8000, 8013, 8024, 8026, 8029, 8046, 8051, 8054,\n",
            "       8060, 8062, 8077, 8120, 8130, 8137, 8141, 8142, 8159, 8166, 8167,\n",
            "       8175, 8186, 8197, 8201, 8211, 8231, 8237, 8246, 8249, 8292, 8298,\n",
            "       8310, 8326, 8336, 8342, 8358, 8368, 8386, 8389, 8401, 8410, 8437,\n",
            "       8440, 8459, 8466, 8468, 8487, 8490, 8496, 8501, 8515, 8517, 8531,\n",
            "       8535, 8561, 8568, 8579, 8605, 8609, 8615, 8637, 8646, 8657, 8681,\n",
            "       8705, 8708, 8722, 8729, 8741, 8744, 8752, 8753, 8764, 8804, 8805,\n",
            "       8812, 8817, 8830, 8838, 8844, 8847, 8867, 8872])), (array([   0,    1,    3, ..., 8871, 8872, 8874]), array([   2,   21,   24,   36,   45,   58,   61,  105,  123,  132,  147,\n",
            "        154,  177,  179,  180,  200,  201,  215,  218,  223,  228,  232,\n",
            "        274,  286,  315,  333,  346,  350,  360,  362,  366,  390,  396,\n",
            "        400,  431,  434,  438,  470,  477,  483,  495,  499,  501,  504,\n",
            "        525,  532,  536,  540,  560,  562,  579,  592,  594,  601,  618,\n",
            "        626,  631,  633,  638,  645,  651,  657,  671,  691,  692,  717,\n",
            "        720,  727,  734,  736,  743,  762,  770,  781,  785,  806,  819,\n",
            "        850,  854,  855,  857,  867,  876,  881,  887,  892,  910,  927,\n",
            "        937,  938,  943,  955,  971,  979,  987,  995,  999, 1007, 1012,\n",
            "       1027, 1042, 1062, 1071, 1079, 1089, 1099, 1106, 1109, 1116, 1124,\n",
            "       1129, 1151, 1152, 1159, 1163, 1171, 1186, 1188, 1189, 1218, 1224,\n",
            "       1225, 1228, 1254, 1256, 1261, 1284, 1318, 1342, 1352, 1391, 1395,\n",
            "       1402, 1404, 1412, 1413, 1420, 1422, 1427, 1451, 1458, 1462, 1467,\n",
            "       1470, 1475, 1491, 1521, 1527, 1535, 1537, 1547, 1564, 1568, 1602,\n",
            "       1607, 1616, 1617, 1628, 1629, 1633, 1653, 1664, 1670, 1673, 1681,\n",
            "       1694, 1724, 1736, 1782, 1788, 1791, 1819, 1834, 1844, 1853, 1854,\n",
            "       1857, 1859, 1882, 1913, 1927, 1929, 1935, 1937, 1941, 1943, 1944,\n",
            "       1946, 1947, 1953, 1993, 2008, 2015, 2019, 2031, 2049, 2068, 2073,\n",
            "       2076, 2084, 2096, 2098, 2102, 2134, 2142, 2169, 2177, 2190, 2204,\n",
            "       2216, 2217, 2251, 2252, 2257, 2266, 2288, 2294, 2317, 2323, 2324,\n",
            "       2329, 2332, 2346, 2356, 2380, 2383, 2385, 2386, 2391, 2409, 2427,\n",
            "       2428, 2443, 2447, 2448, 2454, 2468, 2482, 2483, 2509, 2522, 2528,\n",
            "       2529, 2530, 2535, 2543, 2565, 2580, 2591, 2592, 2601, 2611, 2630,\n",
            "       2632, 2633, 2637, 2641, 2658, 2667, 2709, 2716, 2720, 2722, 2726,\n",
            "       2737, 2740, 2745, 2749, 2751, 2755, 2815, 2825, 2831, 2832, 2836,\n",
            "       2841, 2853, 2882, 2906, 2909, 2917, 2924, 2928, 2932, 2933, 2934,\n",
            "       2957, 2958, 2959, 2970, 2980, 3002, 3003, 3008, 3020, 3021, 3026,\n",
            "       3035, 3036, 3042, 3044, 3053, 3063, 3079, 3120, 3123, 3129, 3148,\n",
            "       3159, 3160, 3162, 3227, 3240, 3261, 3287, 3320, 3322, 3336, 3345,\n",
            "       3346, 3350, 3351, 3361, 3376, 3390, 3398, 3401, 3409, 3438, 3450,\n",
            "       3458, 3461, 3469, 3472, 3475, 3478, 3482, 3485, 3502, 3518, 3547,\n",
            "       3548, 3549, 3580, 3581, 3596, 3608, 3613, 3632, 3639, 3643, 3648,\n",
            "       3685, 3693, 3703, 3713, 3738, 3749, 3754, 3755, 3756, 3772, 3780,\n",
            "       3782, 3786, 3791, 3793, 3794, 3803, 3805, 3810, 3811, 3820, 3823,\n",
            "       3833, 3835, 3842, 3855, 3857, 3858, 3869, 3870, 3882, 3898, 3911,\n",
            "       3921, 3977, 3979, 3996, 4002, 4023, 4026, 4032, 4033, 4080, 4093,\n",
            "       4108, 4119, 4128, 4131, 4134, 4135, 4138, 4139, 4145, 4151, 4152,\n",
            "       4158, 4188, 4200, 4202, 4207, 4211, 4217, 4229, 4231, 4236, 4245,\n",
            "       4247, 4251, 4260, 4276, 4278, 4280, 4287, 4289, 4303, 4311, 4315,\n",
            "       4326, 4333, 4336, 4339, 4340, 4347, 4362, 4369, 4375, 4381, 4386,\n",
            "       4388, 4397, 4414, 4416, 4422, 4430, 4433, 4438, 4447, 4454, 4460,\n",
            "       4461, 4476, 4482, 4512, 4516, 4535, 4544, 4545, 4568, 4569, 4571,\n",
            "       4578, 4615, 4660, 4663, 4664, 4670, 4672, 4680, 4691, 4719, 4754,\n",
            "       4756, 4777, 4792, 4796, 4799, 4801, 4803, 4804, 4828, 4830, 4837,\n",
            "       4849, 4857, 4863, 4865, 4886, 4894, 4898, 4899, 4922, 4924, 4933,\n",
            "       4946, 4948, 4960, 4984, 4985, 5022, 5025, 5044, 5050, 5069, 5073,\n",
            "       5079, 5087, 5090, 5091, 5108, 5110, 5111, 5140, 5153, 5156, 5157,\n",
            "       5172, 5183, 5197, 5198, 5199, 5203, 5231, 5234, 5260, 5267, 5290,\n",
            "       5307, 5309, 5318, 5344, 5349, 5360, 5362, 5405, 5410, 5416, 5430,\n",
            "       5431, 5434, 5439, 5468, 5473, 5485, 5488, 5493, 5496, 5506, 5511,\n",
            "       5516, 5518, 5536, 5540, 5553, 5555, 5572, 5591, 5608, 5609, 5650,\n",
            "       5651, 5658, 5678, 5711, 5730, 5746, 5747, 5748, 5753, 5769, 5779,\n",
            "       5795, 5802, 5825, 5851, 5860, 5865, 5913, 5917, 5933, 5934, 5950,\n",
            "       5963, 5964, 5978, 5999, 6004, 6006, 6009, 6012, 6038, 6041, 6044,\n",
            "       6050, 6052, 6074, 6077, 6107, 6110, 6120, 6123, 6125, 6128, 6131,\n",
            "       6136, 6139, 6150, 6153, 6169, 6171, 6201, 6207, 6219, 6254, 6257,\n",
            "       6275, 6277, 6278, 6279, 6302, 6305, 6311, 6315, 6344, 6351, 6360,\n",
            "       6365, 6375, 6381, 6384, 6401, 6404, 6407, 6412, 6420, 6421, 6430,\n",
            "       6449, 6457, 6481, 6483, 6488, 6492, 6494, 6501, 6505, 6527, 6531,\n",
            "       6535, 6547, 6561, 6570, 6576, 6577, 6594, 6625, 6631, 6632, 6638,\n",
            "       6645, 6648, 6680, 6682, 6684, 6701, 6713, 6724, 6734, 6741, 6749,\n",
            "       6778, 6797, 6816, 6831, 6847, 6849, 6868, 6878, 6880, 6884, 6902,\n",
            "       6906, 6913, 6919, 6943, 6944, 6947, 6955, 6965, 6975, 6977, 6990,\n",
            "       7001, 7002, 7021, 7029, 7034, 7038, 7042, 7047, 7054, 7058, 7086,\n",
            "       7096, 7099, 7109, 7119, 7121, 7125, 7127, 7147, 7155, 7165, 7174,\n",
            "       7175, 7178, 7180, 7191, 7195, 7208, 7210, 7212, 7259, 7292, 7297,\n",
            "       7298, 7305, 7319, 7348, 7355, 7368, 7386, 7398, 7400, 7405, 7406,\n",
            "       7416, 7432, 7490, 7513, 7519, 7525, 7538, 7539, 7549, 7564, 7566,\n",
            "       7581, 7586, 7595, 7598, 7612, 7614, 7634, 7640, 7648, 7658, 7664,\n",
            "       7667, 7686, 7687, 7698, 7702, 7705, 7706, 7711, 7731, 7736, 7745,\n",
            "       7762, 7772, 7784, 7822, 7846, 7881, 7889, 7891, 7897, 7899, 7901,\n",
            "       7903, 7918, 7925, 7932, 7939, 7945, 7953, 7957, 7958, 7959, 7967,\n",
            "       7972, 7978, 7995, 8004, 8005, 8022, 8055, 8074, 8081, 8086, 8092,\n",
            "       8100, 8103, 8108, 8111, 8114, 8119, 8121, 8125, 8135, 8150, 8155,\n",
            "       8157, 8176, 8181, 8187, 8188, 8194, 8212, 8232, 8261, 8274, 8291,\n",
            "       8317, 8320, 8337, 8339, 8347, 8349, 8356, 8371, 8378, 8402, 8403,\n",
            "       8411, 8413, 8426, 8428, 8443, 8449, 8467, 8470, 8498, 8527, 8536,\n",
            "       8538, 8548, 8563, 8566, 8570, 8573, 8585, 8586, 8591, 8593, 8594,\n",
            "       8603, 8617, 8620, 8621, 8628, 8631, 8633, 8636, 8638, 8649, 8655,\n",
            "       8656, 8665, 8674, 8724, 8726, 8731, 8749, 8756, 8758, 8760, 8769,\n",
            "       8774, 8778, 8794, 8798, 8827, 8843, 8870, 8873])), (array([   0,    1,    2, ..., 8872, 8873, 8874]), array([   4,   26,   27,   31,   37,   50,   55,   59,   67,   72,   99,\n",
            "        107,  119,  125,  178,  186,  188,  204,  227,  248,  273,  275,\n",
            "        295,  306,  323,  325,  345,  353,  372,  375,  382,  398,  404,\n",
            "        423,  437,  442,  453,  463,  491,  509,  518,  543,  547,  549,\n",
            "        550,  557,  589,  596,  605,  609,  612,  616,  646,  649,  685,\n",
            "        706,  715,  718,  725,  731,  759,  763,  765,  769,  780,  782,\n",
            "        783,  784,  799,  812,  813,  835,  841,  842,  847,  865,  868,\n",
            "        896,  913,  916,  933,  949,  960,  966,  997, 1033, 1046, 1061,\n",
            "       1067, 1069, 1078, 1080, 1091, 1096, 1104, 1110, 1133, 1135, 1140,\n",
            "       1141, 1148, 1155, 1164, 1176, 1180, 1184, 1192, 1202, 1206, 1208,\n",
            "       1227, 1231, 1238, 1245, 1266, 1281, 1283, 1295, 1299, 1300, 1304,\n",
            "       1329, 1332, 1359, 1361, 1364, 1370, 1393, 1394, 1409, 1410, 1416,\n",
            "       1428, 1437, 1446, 1464, 1468, 1479, 1481, 1482, 1487, 1493, 1511,\n",
            "       1516, 1518, 1533, 1534, 1539, 1542, 1551, 1573, 1581, 1604, 1619,\n",
            "       1638, 1647, 1654, 1655, 1678, 1682, 1687, 1696, 1703, 1728, 1730,\n",
            "       1738, 1741, 1743, 1748, 1749, 1750, 1761, 1773, 1777, 1784, 1799,\n",
            "       1800, 1804, 1808, 1809, 1813, 1815, 1821, 1823, 1842, 1883, 1889,\n",
            "       1899, 1904, 1905, 1906, 1914, 1918, 1954, 1962, 1964, 1965, 1966,\n",
            "       1967, 1970, 1971, 1979, 1988, 2018, 2021, 2051, 2055, 2056, 2057,\n",
            "       2059, 2083, 2085, 2094, 2115, 2118, 2119, 2126, 2130, 2139, 2143,\n",
            "       2145, 2158, 2165, 2171, 2176, 2180, 2183, 2193, 2201, 2221, 2227,\n",
            "       2241, 2262, 2263, 2264, 2278, 2295, 2318, 2319, 2331, 2361, 2362,\n",
            "       2384, 2388, 2389, 2393, 2394, 2408, 2415, 2420, 2426, 2437, 2457,\n",
            "       2461, 2462, 2495, 2511, 2521, 2526, 2540, 2555, 2570, 2575, 2585,\n",
            "       2598, 2605, 2622, 2636, 2652, 2661, 2668, 2676, 2682, 2692, 2693,\n",
            "       2700, 2701, 2702, 2712, 2724, 2758, 2768, 2770, 2777, 2789, 2790,\n",
            "       2793, 2799, 2828, 2833, 2834, 2835, 2838, 2840, 2846, 2850, 2865,\n",
            "       2870, 2877, 2878, 2880, 2886, 2887, 2893, 2897, 2908, 2912, 2918,\n",
            "       2919, 2925, 2942, 2945, 2947, 2981, 3023, 3027, 3029, 3056, 3090,\n",
            "       3100, 3106, 3110, 3112, 3113, 3126, 3133, 3149, 3153, 3169, 3179,\n",
            "       3184, 3186, 3197, 3203, 3224, 3233, 3236, 3260, 3266, 3275, 3283,\n",
            "       3303, 3335, 3337, 3354, 3371, 3387, 3388, 3393, 3394, 3400, 3415,\n",
            "       3422, 3424, 3430, 3441, 3453, 3454, 3481, 3486, 3504, 3507, 3511,\n",
            "       3522, 3530, 3531, 3535, 3558, 3574, 3590, 3599, 3628, 3629, 3633,\n",
            "       3669, 3670, 3687, 3695, 3726, 3729, 3731, 3742, 3748, 3770, 3781,\n",
            "       3790, 3800, 3814, 3818, 3826, 3829, 3853, 3856, 3884, 3885, 3892,\n",
            "       3893, 3917, 3929, 3934, 3953, 3957, 3959, 3980, 3991, 3993, 3995,\n",
            "       4024, 4030, 4034, 4079, 4099, 4102, 4109, 4111, 4113, 4130, 4137,\n",
            "       4149, 4159, 4167, 4191, 4195, 4205, 4221, 4223, 4230, 4249, 4258,\n",
            "       4261, 4262, 4269, 4283, 4284, 4288, 4323, 4327, 4350, 4351, 4358,\n",
            "       4364, 4404, 4410, 4412, 4423, 4501, 4502, 4505, 4526, 4529, 4532,\n",
            "       4537, 4539, 4551, 4566, 4572, 4587, 4589, 4611, 4626, 4632, 4652,\n",
            "       4653, 4662, 4671, 4678, 4682, 4693, 4707, 4730, 4737, 4739, 4741,\n",
            "       4749, 4750, 4766, 4791, 4802, 4807, 4815, 4819, 4824, 4827, 4829,\n",
            "       4832, 4842, 4843, 4844, 4876, 4882, 4884, 4887, 4893, 4914, 4950,\n",
            "       4953, 4956, 4965, 4979, 4993, 4995, 5014, 5019, 5021, 5036, 5041,\n",
            "       5058, 5060, 5067, 5068, 5094, 5095, 5097, 5100, 5105, 5112, 5117,\n",
            "       5154, 5180, 5193, 5196, 5205, 5209, 5218, 5219, 5225, 5253, 5254,\n",
            "       5268, 5276, 5280, 5287, 5291, 5292, 5320, 5328, 5329, 5336, 5340,\n",
            "       5343, 5355, 5365, 5380, 5397, 5404, 5407, 5418, 5423, 5426, 5446,\n",
            "       5452, 5459, 5464, 5467, 5476, 5484, 5486, 5517, 5519, 5524, 5535,\n",
            "       5563, 5576, 5587, 5593, 5616, 5617, 5618, 5625, 5628, 5630, 5649,\n",
            "       5664, 5666, 5670, 5684, 5697, 5703, 5708, 5713, 5716, 5720, 5722,\n",
            "       5724, 5729, 5743, 5755, 5764, 5776, 5781, 5783, 5800, 5805, 5813,\n",
            "       5814, 5821, 5828, 5841, 5855, 5857, 5862, 5873, 5884, 5888, 5890,\n",
            "       5893, 5898, 5902, 5905, 5911, 5936, 5957, 5968, 5977, 5982, 5989,\n",
            "       5992, 6017, 6018, 6028, 6032, 6039, 6048, 6069, 6079, 6082, 6094,\n",
            "       6104, 6114, 6116, 6119, 6130, 6142, 6145, 6154, 6156, 6158, 6203,\n",
            "       6204, 6208, 6214, 6221, 6228, 6229, 6236, 6238, 6243, 6247, 6255,\n",
            "       6256, 6260, 6268, 6281, 6284, 6290, 6295, 6308, 6312, 6316, 6326,\n",
            "       6338, 6339, 6342, 6356, 6380, 6413, 6415, 6422, 6426, 6434, 6437,\n",
            "       6458, 6474, 6496, 6524, 6525, 6530, 6542, 6550, 6562, 6575, 6589,\n",
            "       6621, 6627, 6630, 6643, 6647, 6649, 6655, 6685, 6690, 6694, 6698,\n",
            "       6705, 6722, 6737, 6742, 6743, 6745, 6747, 6760, 6777, 6783, 6784,\n",
            "       6800, 6803, 6830, 6841, 6856, 6858, 6865, 6883, 6909, 6916, 6922,\n",
            "       6936, 6951, 6964, 6998, 7000, 7010, 7022, 7025, 7060, 7110, 7124,\n",
            "       7128, 7130, 7137, 7142, 7151, 7160, 7166, 7173, 7177, 7192, 7196,\n",
            "       7205, 7230, 7242, 7254, 7266, 7279, 7291, 7294, 7306, 7308, 7317,\n",
            "       7336, 7344, 7365, 7366, 7380, 7381, 7395, 7409, 7426, 7449, 7456,\n",
            "       7458, 7465, 7485, 7516, 7526, 7535, 7574, 7578, 7583, 7587, 7626,\n",
            "       7627, 7635, 7656, 7668, 7675, 7679, 7691, 7692, 7703, 7723, 7752,\n",
            "       7757, 7764, 7769, 7777, 7790, 7797, 7811, 7825, 7843, 7867, 7872,\n",
            "       7883, 7884, 7890, 7929, 7943, 7963, 7985, 8002, 8038, 8039, 8045,\n",
            "       8052, 8053, 8064, 8071, 8080, 8087, 8097, 8098, 8106, 8123, 8139,\n",
            "       8144, 8154, 8162, 8170, 8179, 8196, 8213, 8216, 8223, 8225, 8236,\n",
            "       8244, 8250, 8257, 8266, 8271, 8273, 8283, 8284, 8288, 8296, 8311,\n",
            "       8313, 8318, 8330, 8334, 8350, 8357, 8360, 8387, 8393, 8418, 8446,\n",
            "       8447, 8452, 8453, 8458, 8462, 8481, 8484, 8491, 8504, 8509, 8555,\n",
            "       8582, 8584, 8596, 8598, 8612, 8613, 8623, 8641, 8647, 8668, 8670,\n",
            "       8685, 8692, 8702, 8706, 8710, 8719, 8725, 8730, 8732, 8739, 8757,\n",
            "       8767, 8780, 8791, 8816, 8831, 8836, 8839, 8842])), (array([   0,    2,    3, ..., 8872, 8873, 8874]), array([   1,    9,   10,   11,   28,   75,   77,   78,   80,   83,   84,\n",
            "         90,   92,   97,  118,  129,  152,  196,  202,  209,  217,  220,\n",
            "        234,  236,  241,  269,  272,  293,  299,  304,  307,  321,  354,\n",
            "        356,  365,  380,  407,  414,  417,  424,  441,  452,  455,  466,\n",
            "        474,  475,  484,  486,  487,  500,  524,  528,  542,  565,  586,\n",
            "        624,  627,  630,  650,  658,  668,  669,  672,  682,  711,  733,\n",
            "        735,  741,  748,  753,  771,  777,  787,  789,  800,  802,  804,\n",
            "        818,  824,  827,  836,  838,  840,  843,  844,  870,  874,  878,\n",
            "        884,  891,  907,  911,  953,  967,  968,  973,  975,  988,  991,\n",
            "        993, 1010, 1014, 1023, 1024, 1041, 1070, 1084, 1092, 1107, 1117,\n",
            "       1121, 1132, 1136, 1194, 1204, 1210, 1212, 1214, 1244, 1250, 1252,\n",
            "       1260, 1265, 1268, 1278, 1288, 1302, 1303, 1320, 1357, 1363, 1371,\n",
            "       1396, 1398, 1401, 1414, 1419, 1423, 1452, 1456, 1466, 1489, 1500,\n",
            "       1501, 1502, 1506, 1509, 1513, 1514, 1529, 1540, 1544, 1548, 1556,\n",
            "       1560, 1570, 1576, 1583, 1591, 1597, 1598, 1605, 1610, 1612, 1613,\n",
            "       1615, 1618, 1622, 1632, 1634, 1658, 1660, 1688, 1689, 1691, 1692,\n",
            "       1733, 1742, 1746, 1758, 1774, 1794, 1807, 1816, 1826, 1829, 1858,\n",
            "       1870, 1917, 1940, 1950, 1951, 1955, 1959, 1980, 1995, 1998, 2001,\n",
            "       2003, 2004, 2016, 2024, 2030, 2032, 2047, 2053, 2058, 2063, 2081,\n",
            "       2088, 2100, 2105, 2125, 2138, 2152, 2161, 2215, 2224, 2225, 2240,\n",
            "       2256, 2260, 2275, 2286, 2298, 2302, 2320, 2335, 2355, 2369, 2373,\n",
            "       2377, 2378, 2397, 2413, 2445, 2463, 2465, 2477, 2488, 2517, 2545,\n",
            "       2556, 2559, 2563, 2567, 2572, 2583, 2593, 2594, 2596, 2597, 2602,\n",
            "       2609, 2648, 2649, 2656, 2691, 2727, 2734, 2735, 2741, 2747, 2752,\n",
            "       2769, 2772, 2773, 2781, 2791, 2795, 2801, 2816, 2820, 2829, 2855,\n",
            "       2857, 2862, 2871, 2889, 2914, 2921, 2926, 2941, 2944, 2966, 2976,\n",
            "       2987, 2989, 2993, 3034, 3038, 3047, 3082, 3087, 3088, 3092, 3101,\n",
            "       3119, 3125, 3137, 3168, 3185, 3198, 3199, 3213, 3215, 3220, 3222,\n",
            "       3228, 3231, 3238, 3248, 3259, 3262, 3272, 3274, 3276, 3285, 3293,\n",
            "       3297, 3307, 3319, 3333, 3342, 3343, 3367, 3380, 3382, 3385, 3395,\n",
            "       3407, 3427, 3429, 3446, 3468, 3494, 3495, 3498, 3499, 3503, 3510,\n",
            "       3520, 3537, 3550, 3551, 3568, 3571, 3579, 3587, 3601, 3621, 3630,\n",
            "       3634, 3656, 3657, 3662, 3678, 3697, 3700, 3714, 3718, 3727, 3746,\n",
            "       3778, 3798, 3804, 3807, 3828, 3834, 3848, 3874, 3889, 3902, 3907,\n",
            "       3914, 3931, 3935, 3940, 3950, 3956, 3963, 3965, 3972, 3973, 3981,\n",
            "       3985, 3986, 3988, 3994, 4007, 4015, 4017, 4029, 4038, 4043, 4045,\n",
            "       4056, 4072, 4076, 4114, 4118, 4127, 4133, 4144, 4150, 4166, 4171,\n",
            "       4198, 4225, 4235, 4239, 4242, 4244, 4264, 4282, 4285, 4319, 4320,\n",
            "       4328, 4346, 4361, 4368, 4372, 4373, 4393, 4402, 4411, 4420, 4429,\n",
            "       4432, 4435, 4440, 4443, 4451, 4459, 4466, 4467, 4478, 4484, 4495,\n",
            "       4504, 4508, 4513, 4522, 4523, 4546, 4553, 4562, 4586, 4588, 4593,\n",
            "       4610, 4614, 4619, 4639, 4642, 4655, 4661, 4668, 4686, 4688, 4698,\n",
            "       4709, 4714, 4720, 4745, 4752, 4761, 4770, 4782, 4784, 4787, 4793,\n",
            "       4797, 4808, 4813, 4836, 4852, 4856, 4877, 4916, 4931, 4935, 4951,\n",
            "       4963, 4970, 4994, 4997, 5031, 5040, 5043, 5048, 5071, 5083, 5086,\n",
            "       5106, 5115, 5118, 5119, 5124, 5125, 5127, 5130, 5131, 5132, 5133,\n",
            "       5149, 5164, 5171, 5176, 5189, 5192, 5214, 5239, 5264, 5311, 5322,\n",
            "       5325, 5331, 5337, 5351, 5364, 5376, 5385, 5388, 5389, 5392, 5399,\n",
            "       5406, 5421, 5442, 5454, 5475, 5481, 5483, 5494, 5526, 5534, 5541,\n",
            "       5558, 5569, 5601, 5614, 5626, 5632, 5637, 5638, 5643, 5645, 5652,\n",
            "       5655, 5657, 5659, 5668, 5679, 5689, 5692, 5712, 5723, 5727, 5738,\n",
            "       5739, 5750, 5754, 5771, 5782, 5785, 5787, 5789, 5845, 5850, 5863,\n",
            "       5875, 5880, 5897, 5908, 5910, 5921, 5929, 5931, 5937, 5940, 5958,\n",
            "       5974, 6003, 6005, 6019, 6024, 6053, 6057, 6058, 6059, 6063, 6081,\n",
            "       6102, 6117, 6133, 6134, 6165, 6166, 6170, 6175, 6192, 6193, 6196,\n",
            "       6234, 6252, 6276, 6280, 6299, 6307, 6322, 6333, 6349, 6357, 6371,\n",
            "       6386, 6387, 6392, 6400, 6414, 6447, 6467, 6469, 6470, 6476, 6477,\n",
            "       6478, 6479, 6482, 6502, 6503, 6504, 6509, 6511, 6518, 6534, 6538,\n",
            "       6554, 6556, 6558, 6579, 6586, 6590, 6597, 6603, 6607, 6608, 6613,\n",
            "       6636, 6639, 6644, 6651, 6652, 6656, 6665, 6678, 6689, 6692, 6703,\n",
            "       6704, 6709, 6714, 6723, 6730, 6751, 6762, 6763, 6771, 6780, 6781,\n",
            "       6782, 6789, 6791, 6801, 6811, 6814, 6819, 6833, 6840, 6851, 6876,\n",
            "       6898, 6899, 6907, 6920, 6928, 6950, 6952, 6953, 6960, 6980, 6984,\n",
            "       6985, 6987, 7037, 7039, 7041, 7062, 7064, 7066, 7079, 7094, 7101,\n",
            "       7107, 7115, 7129, 7143, 7156, 7161, 7172, 7188, 7199, 7203, 7219,\n",
            "       7240, 7241, 7244, 7245, 7273, 7280, 7290, 7307, 7313, 7326, 7346,\n",
            "       7361, 7371, 7372, 7374, 7375, 7383, 7396, 7407, 7451, 7472, 7474,\n",
            "       7475, 7478, 7479, 7488, 7491, 7495, 7498, 7500, 7511, 7518, 7546,\n",
            "       7553, 7554, 7565, 7572, 7573, 7582, 7597, 7599, 7605, 7607, 7617,\n",
            "       7619, 7620, 7625, 7631, 7641, 7643, 7645, 7657, 7670, 7682, 7708,\n",
            "       7710, 7727, 7729, 7737, 7739, 7740, 7767, 7774, 7816, 7823, 7838,\n",
            "       7855, 7862, 7868, 7875, 7882, 7908, 7910, 7917, 7920, 7930, 7931,\n",
            "       7940, 7941, 7946, 8003, 8011, 8034, 8036, 8042, 8057, 8061, 8070,\n",
            "       8079, 8093, 8101, 8110, 8113, 8124, 8140, 8148, 8152, 8177, 8185,\n",
            "       8190, 8195, 8202, 8229, 8245, 8252, 8272, 8277, 8278, 8303, 8306,\n",
            "       8315, 8316, 8343, 8353, 8364, 8372, 8376, 8381, 8390, 8392, 8395,\n",
            "       8415, 8429, 8430, 8436, 8448, 8461, 8474, 8483, 8512, 8518, 8519,\n",
            "       8522, 8523, 8533, 8537, 8549, 8556, 8564, 8572, 8577, 8592, 8604,\n",
            "       8614, 8622, 8626, 8629, 8644, 8661, 8664, 8671, 8673, 8676, 8677,\n",
            "       8682, 8688, 8695, 8697, 8700, 8701, 8709, 8711, 8714, 8715, 8745,\n",
            "       8754, 8761, 8762, 8772, 8782, 8784, 8809, 8837])), (array([   1,    2,    3, ..., 8872, 8873, 8874]), array([   0,   13,   25,   53,   56,   57,   64,   65,   86,  100,  101,\n",
            "        110,  113,  117,  131,  133,  140,  144,  150,  155,  159,  161,\n",
            "        174,  182,  190,  193,  197,  203,  216,  221,  250,  252,  254,\n",
            "        255,  262,  264,  266,  268,  271,  296,  300,  309,  314,  322,\n",
            "        324,  329,  342,  344,  349,  357,  377,  379,  395,  410,  420,\n",
            "        425,  428,  432,  440,  464,  489,  492,  506,  511,  512,  522,\n",
            "        548,  553,  573,  575,  577,  580,  581,  584,  602,  608,  620,\n",
            "        637,  652,  664,  667,  678,  684,  686,  700,  705,  708,  713,\n",
            "        719,  729,  740,  746,  773,  774,  776,  793,  796,  809,  811,\n",
            "        821,  822,  846,  872,  889,  900,  920,  931,  932,  934,  954,\n",
            "        963,  964,  984, 1002, 1008, 1029, 1038, 1053, 1056, 1059, 1064,\n",
            "       1090, 1095, 1112, 1113, 1160, 1170, 1182, 1187, 1190, 1216, 1221,\n",
            "       1222, 1248, 1282, 1287, 1309, 1310, 1325, 1328, 1346, 1350, 1356,\n",
            "       1375, 1386, 1387, 1397, 1434, 1436, 1440, 1476, 1477, 1508, 1528,\n",
            "       1532, 1558, 1567, 1575, 1585, 1625, 1631, 1649, 1651, 1667, 1697,\n",
            "       1710, 1712, 1713, 1718, 1723, 1737, 1771, 1785, 1787, 1793, 1802,\n",
            "       1831, 1836, 1839, 1860, 1866, 1871, 1872, 1873, 1901, 1933, 1934,\n",
            "       1936, 1948, 1956, 1969, 1977, 1983, 1984, 1986, 2007, 2025, 2035,\n",
            "       2038, 2040, 2046, 2086, 2099, 2107, 2112, 2113, 2127, 2141, 2170,\n",
            "       2172, 2179, 2199, 2210, 2229, 2232, 2234, 2236, 2243, 2245, 2246,\n",
            "       2258, 2279, 2296, 2297, 2307, 2311, 2322, 2325, 2347, 2354, 2359,\n",
            "       2360, 2419, 2422, 2430, 2436, 2441, 2466, 2467, 2479, 2480, 2489,\n",
            "       2492, 2503, 2504, 2516, 2534, 2558, 2566, 2568, 2569, 2571, 2578,\n",
            "       2590, 2644, 2650, 2666, 2670, 2672, 2674, 2688, 2696, 2708, 2711,\n",
            "       2744, 2757, 2765, 2779, 2788, 2796, 2805, 2848, 2861, 2864, 2866,\n",
            "       2873, 2876, 2896, 2900, 2902, 2916, 2929, 2936, 2954, 2968, 2969,\n",
            "       2998, 3006, 3009, 3012, 3028, 3060, 3066, 3072, 3080, 3099, 3109,\n",
            "       3147, 3151, 3181, 3191, 3202, 3209, 3217, 3232, 3234, 3245, 3247,\n",
            "       3251, 3255, 3264, 3291, 3298, 3304, 3323, 3332, 3373, 3386, 3399,\n",
            "       3406, 3419, 3428, 3431, 3434, 3459, 3460, 3464, 3471, 3489, 3513,\n",
            "       3533, 3557, 3607, 3610, 3617, 3636, 3638, 3658, 3663, 3671, 3690,\n",
            "       3698, 3711, 3725, 3732, 3759, 3802, 3806, 3819, 3824, 3836, 3847,\n",
            "       3859, 3861, 3868, 3872, 3878, 3883, 3947, 3949, 3955, 3966, 3974,\n",
            "       3975, 3998, 4000, 4008, 4014, 4018, 4041, 4050, 4059, 4060, 4063,\n",
            "       4068, 4071, 4084, 4094, 4095, 4105, 4115, 4121, 4142, 4165, 4177,\n",
            "       4181, 4192, 4193, 4194, 4201, 4210, 4212, 4218, 4220, 4224, 4246,\n",
            "       4254, 4256, 4266, 4286, 4291, 4293, 4294, 4299, 4309, 4337, 4352,\n",
            "       4371, 4377, 4378, 4390, 4391, 4408, 4426, 4427, 4437, 4455, 4510,\n",
            "       4521, 4525, 4528, 4533, 4538, 4541, 4547, 4548, 4563, 4573, 4575,\n",
            "       4590, 4594, 4597, 4607, 4612, 4618, 4620, 4636, 4647, 4659, 4674,\n",
            "       4679, 4695, 4696, 4713, 4728, 4733, 4736, 4755, 4769, 4785, 4795,\n",
            "       4817, 4833, 4860, 4861, 4880, 4883, 4888, 4897, 4904, 4907, 4909,\n",
            "       4910, 4917, 4918, 4921, 4925, 4928, 4938, 4944, 4949, 4968, 4972,\n",
            "       4975, 4983, 4986, 4990, 4992, 5005, 5008, 5029, 5039, 5057, 5066,\n",
            "       5072, 5076, 5077, 5080, 5093, 5099, 5107, 5109, 5121, 5155, 5169,\n",
            "       5184, 5190, 5191, 5195, 5202, 5204, 5206, 5226, 5227, 5236, 5252,\n",
            "       5273, 5282, 5286, 5288, 5289, 5302, 5303, 5312, 5316, 5321, 5324,\n",
            "       5335, 5367, 5371, 5372, 5374, 5375, 5393, 5395, 5411, 5425, 5448,\n",
            "       5489, 5500, 5509, 5525, 5545, 5556, 5560, 5584, 5594, 5605, 5611,\n",
            "       5613, 5623, 5640, 5641, 5644, 5654, 5656, 5685, 5688, 5693, 5695,\n",
            "       5699, 5704, 5710, 5740, 5762, 5765, 5774, 5775, 5791, 5804, 5807,\n",
            "       5823, 5826, 5833, 5835, 5837, 5839, 5842, 5858, 5867, 5870, 5876,\n",
            "       5885, 5901, 5914, 5932, 5935, 5946, 5954, 5955, 5961, 5976, 5990,\n",
            "       5991, 5995, 5997, 6000, 6021, 6029, 6033, 6036, 6049, 6065, 6070,\n",
            "       6073, 6099, 6121, 6129, 6132, 6141, 6159, 6162, 6163, 6181, 6183,\n",
            "       6205, 6217, 6223, 6232, 6242, 6244, 6245, 6265, 6267, 6273, 6283,\n",
            "       6294, 6313, 6331, 6332, 6345, 6350, 6353, 6388, 6403, 6405, 6423,\n",
            "       6425, 6432, 6445, 6462, 6464, 6466, 6487, 6490, 6493, 6506, 6507,\n",
            "       6510, 6521, 6526, 6537, 6541, 6546, 6548, 6549, 6568, 6598, 6615,\n",
            "       6622, 6633, 6657, 6659, 6668, 6669, 6674, 6733, 6739, 6744, 6753,\n",
            "       6766, 6769, 6775, 6799, 6815, 6817, 6822, 6827, 6837, 6855, 6861,\n",
            "       6871, 6873, 6874, 6875, 6901, 6912, 6931, 6934, 6937, 6959, 6991,\n",
            "       6992, 7005, 7009, 7012, 7014, 7052, 7069, 7070, 7074, 7088, 7100,\n",
            "       7102, 7104, 7112, 7113, 7116, 7117, 7126, 7131, 7140, 7154, 7164,\n",
            "       7167, 7170, 7171, 7179, 7181, 7186, 7207, 7222, 7246, 7247, 7249,\n",
            "       7251, 7256, 7257, 7276, 7287, 7289, 7310, 7315, 7335, 7359, 7384,\n",
            "       7387, 7389, 7403, 7404, 7410, 7411, 7413, 7414, 7421, 7428, 7431,\n",
            "       7434, 7439, 7447, 7457, 7461, 7462, 7476, 7484, 7497, 7508, 7537,\n",
            "       7545, 7555, 7562, 7563, 7580, 7590, 7596, 7601, 7608, 7609, 7615,\n",
            "       7624, 7628, 7630, 7649, 7651, 7652, 7655, 7672, 7681, 7699, 7741,\n",
            "       7742, 7744, 7747, 7755, 7759, 7761, 7779, 7782, 7791, 7794, 7805,\n",
            "       7821, 7824, 7839, 7850, 7857, 7858, 7859, 7861, 7895, 7911, 7923,\n",
            "       7927, 7947, 7954, 7960, 7965, 8009, 8028, 8030, 8049, 8065, 8068,\n",
            "       8078, 8088, 8102, 8136, 8145, 8156, 8160, 8164, 8173, 8178, 8182,\n",
            "       8189, 8203, 8207, 8220, 8243, 8259, 8295, 8321, 8329, 8345, 8351,\n",
            "       8352, 8355, 8366, 8374, 8380, 8394, 8405, 8419, 8432, 8433, 8450,\n",
            "       8457, 8477, 8479, 8493, 8505, 8507, 8508, 8513, 8524, 8532, 8543,\n",
            "       8552, 8553, 8554, 8558, 8560, 8567, 8574, 8580, 8583, 8589, 8595,\n",
            "       8602, 8619, 8635, 8645, 8653, 8660, 8662, 8663, 8684, 8696, 8704,\n",
            "       8712, 8716, 8727, 8733, 8743, 8765, 8766, 8768, 8781, 8802, 8803,\n",
            "       8825, 8826, 8829, 8832, 8840, 8848, 8859, 8868])), (array([   0,    1,    2, ..., 8872, 8873, 8874]), array([   5,   32,   42,   46,   60,   68,   93,  104,  112,  127,  134,\n",
            "        141,  142,  170,  173,  185,  187,  192,  194,  210,  219,  225,\n",
            "        245,  251,  263,  280,  283,  285,  291,  327,  328,  332,  339,\n",
            "        341,  348,  373,  374,  394,  399,  403,  408,  411,  413,  415,\n",
            "        416,  426,  449,  451,  462,  465,  471,  472,  482,  485,  488,\n",
            "        503,  513,  521,  529,  563,  568,  571,  583,  599,  607,  617,\n",
            "        623,  625,  629,  635,  640,  643,  660,  677,  712,  742,  764,\n",
            "        778,  786,  790,  794,  803,  808,  826,  831,  832,  839,  849,\n",
            "        861,  871,  890,  899,  904,  923,  924,  928,  992,  994, 1005,\n",
            "       1009, 1018, 1020, 1040, 1044, 1047, 1057, 1076, 1094, 1097, 1101,\n",
            "       1115, 1120, 1122, 1139, 1144, 1149, 1169, 1181, 1191, 1193, 1196,\n",
            "       1203, 1205, 1213, 1223, 1232, 1251, 1285, 1291, 1292, 1301, 1317,\n",
            "       1331, 1333, 1353, 1368, 1376, 1382, 1408, 1415, 1421, 1426, 1430,\n",
            "       1442, 1448, 1457, 1485, 1486, 1488, 1495, 1497, 1519, 1552, 1562,\n",
            "       1569, 1584, 1586, 1589, 1590, 1599, 1620, 1641, 1657, 1674, 1676,\n",
            "       1683, 1704, 1708, 1715, 1721, 1722, 1726, 1727, 1731, 1734, 1735,\n",
            "       1755, 1770, 1772, 1780, 1790, 1820, 1822, 1846, 1852, 1856, 1861,\n",
            "       1876, 1877, 1885, 1886, 1890, 1898, 1915, 1932, 1952, 1961, 1972,\n",
            "       1987, 1989, 1990, 1991, 2000, 2002, 2005, 2006, 2012, 2026, 2039,\n",
            "       2066, 2074, 2078, 2093, 2111, 2114, 2116, 2122, 2131, 2153, 2186,\n",
            "       2191, 2196, 2206, 2213, 2214, 2235, 2237, 2255, 2259, 2269, 2270,\n",
            "       2274, 2280, 2289, 2293, 2303, 2309, 2339, 2340, 2344, 2364, 2370,\n",
            "       2396, 2398, 2421, 2470, 2474, 2490, 2493, 2505, 2510, 2512, 2518,\n",
            "       2539, 2561, 2574, 2576, 2616, 2617, 2619, 2631, 2639, 2698, 2699,\n",
            "       2713, 2714, 2717, 2721, 2743, 2746, 2748, 2756, 2762, 2764, 2784,\n",
            "       2807, 2809, 2812, 2818, 2821, 2827, 2830, 2859, 2895, 2901, 2903,\n",
            "       2915, 2930, 2950, 2971, 2972, 2974, 2991, 2992, 3010, 3033, 3049,\n",
            "       3051, 3067, 3069, 3071, 3083, 3102, 3105, 3107, 3114, 3117, 3183,\n",
            "       3188, 3190, 3207, 3226, 3241, 3242, 3258, 3263, 3269, 3271, 3286,\n",
            "       3296, 3308, 3317, 3338, 3357, 3362, 3364, 3369, 3381, 3403, 3416,\n",
            "       3420, 3432, 3437, 3444, 3455, 3462, 3479, 3488, 3491, 3512, 3514,\n",
            "       3519, 3524, 3529, 3536, 3539, 3542, 3554, 3556, 3560, 3563, 3564,\n",
            "       3570, 3578, 3583, 3589, 3591, 3597, 3600, 3604, 3611, 3625, 3645,\n",
            "       3652, 3664, 3666, 3682, 3688, 3689, 3708, 3709, 3710, 3745, 3747,\n",
            "       3757, 3764, 3779, 3788, 3789, 3816, 3817, 3827, 3838, 3843, 3846,\n",
            "       3851, 3880, 3905, 3913, 3920, 3925, 3952, 3954, 3958, 3968, 3971,\n",
            "       3999, 4011, 4020, 4031, 4046, 4053, 4062, 4067, 4069, 4081, 4083,\n",
            "       4088, 4089, 4096, 4097, 4106, 4146, 4154, 4176, 4178, 4179, 4184,\n",
            "       4196, 4222, 4226, 4253, 4275, 4279, 4297, 4300, 4302, 4312, 4316,\n",
            "       4332, 4334, 4366, 4367, 4380, 4387, 4392, 4398, 4399, 4417, 4419,\n",
            "       4431, 4434, 4442, 4446, 4485, 4494, 4498, 4499, 4514, 4524, 4550,\n",
            "       4557, 4567, 4599, 4601, 4602, 4608, 4622, 4623, 4628, 4638, 4644,\n",
            "       4675, 4683, 4694, 4699, 4703, 4717, 4722, 4723, 4729, 4731, 4743,\n",
            "       4763, 4764, 4765, 4768, 4774, 4776, 4781, 4786, 4811, 4841, 4850,\n",
            "       4855, 4862, 4864, 4869, 4870, 4874, 4954, 4955, 4959, 4971, 4977,\n",
            "       4991, 4996, 5009, 5011, 5047, 5053, 5065, 5089, 5103, 5152, 5166,\n",
            "       5173, 5185, 5210, 5212, 5213, 5224, 5240, 5243, 5250, 5258, 5274,\n",
            "       5279, 5284, 5293, 5323, 5327, 5342, 5346, 5373, 5394, 5408, 5409,\n",
            "       5429, 5440, 5444, 5458, 5465, 5469, 5470, 5471, 5479, 5482, 5501,\n",
            "       5510, 5528, 5532, 5549, 5551, 5554, 5559, 5574, 5579, 5588, 5599,\n",
            "       5604, 5606, 5615, 5620, 5631, 5636, 5647, 5653, 5663, 5683, 5698,\n",
            "       5700, 5705, 5728, 5734, 5737, 5766, 5796, 5797, 5806, 5810, 5818,\n",
            "       5822, 5831, 5847, 5874, 5878, 5879, 5889, 5896, 5903, 5906, 5915,\n",
            "       5930, 5938, 5942, 5949, 5953, 5960, 5980, 6011, 6023, 6027, 6037,\n",
            "       6043, 6080, 6086, 6118, 6138, 6147, 6151, 6152, 6164, 6167, 6168,\n",
            "       6176, 6179, 6184, 6188, 6197, 6200, 6202, 6209, 6210, 6215, 6220,\n",
            "       6222, 6230, 6251, 6258, 6288, 6297, 6309, 6317, 6318, 6325, 6328,\n",
            "       6341, 6343, 6355, 6369, 6370, 6372, 6382, 6385, 6390, 6395, 6399,\n",
            "       6406, 6416, 6431, 6433, 6441, 6453, 6468, 6485, 6497, 6513, 6514,\n",
            "       6519, 6533, 6540, 6551, 6566, 6580, 6582, 6601, 6612, 6614, 6616,\n",
            "       6626, 6628, 6635, 6641, 6646, 6650, 6667, 6671, 6681, 6688, 6708,\n",
            "       6725, 6729, 6746, 6750, 6757, 6764, 6776, 6787, 6790, 6807, 6823,\n",
            "       6824, 6825, 6846, 6850, 6852, 6866, 6877, 6881, 6885, 6897, 6903,\n",
            "       6917, 6923, 6926, 6938, 6956, 6957, 6973, 6979, 6982, 6993, 7007,\n",
            "       7016, 7026, 7028, 7033, 7040, 7049, 7050, 7059, 7063, 7067, 7068,\n",
            "       7093, 7106, 7114, 7120, 7132, 7141, 7150, 7163, 7185, 7198, 7220,\n",
            "       7221, 7229, 7237, 7239, 7258, 7265, 7270, 7278, 7295, 7321, 7337,\n",
            "       7352, 7353, 7362, 7369, 7388, 7397, 7399, 7401, 7415, 7417, 7427,\n",
            "       7435, 7445, 7477, 7494, 7512, 7514, 7521, 7534, 7542, 7544, 7569,\n",
            "       7576, 7579, 7600, 7611, 7622, 7638, 7646, 7647, 7661, 7662, 7666,\n",
            "       7678, 7712, 7715, 7738, 7743, 7750, 7760, 7771, 7788, 7796, 7799,\n",
            "       7829, 7830, 7844, 7848, 7849, 7866, 7876, 7877, 7879, 7904, 7906,\n",
            "       7915, 7933, 7936, 7938, 7944, 7955, 7966, 7990, 7999, 8017, 8019,\n",
            "       8027, 8035, 8043, 8048, 8056, 8066, 8075, 8089, 8090, 8107, 8117,\n",
            "       8126, 8127, 8147, 8151, 8153, 8172, 8183, 8191, 8199, 8204, 8221,\n",
            "       8224, 8248, 8253, 8254, 8264, 8293, 8304, 8312, 8325, 8328, 8338,\n",
            "       8341, 8354, 8370, 8384, 8400, 8414, 8422, 8423, 8424, 8431, 8435,\n",
            "       8441, 8444, 8445, 8454, 8455, 8456, 8489, 8506, 8516, 8526, 8528,\n",
            "       8529, 8559, 8565, 8569, 8578, 8587, 8590, 8611, 8630, 8634, 8642,\n",
            "       8650, 8683, 8687, 8720, 8728, 8736, 8738, 8746, 8759, 8763, 8779,\n",
            "       8785, 8786, 8795, 8796, 8813, 8818, 8820])), (array([   0,    1,    2, ..., 8872, 8873, 8874]), array([   3,   14,   15,   34,   39,   48,   51,   52,   63,   69,   71,\n",
            "         76,   87,   96,  103,  108,  109,  120,  126,  136,  137,  138,\n",
            "        139,  143,  148,  168,  169,  171,  172,  183,  189,  212,  230,\n",
            "        233,  238,  249,  256,  265,  287,  294,  302,  312,  317,  336,\n",
            "        343,  347,  351,  355,  358,  367,  397,  412,  418,  421,  430,\n",
            "        433,  480,  505,  514,  523,  531,  534,  539,  556,  567,  591,\n",
            "        595,  606,  614,  661,  688,  689,  699,  702,  704,  709,  714,\n",
            "        728,  732,  738,  747,  750,  754,  758,  760,  767,  810,  833,\n",
            "        866,  893,  895,  903,  917,  925,  930,  950,  951,  957,  970,\n",
            "        972,  980,  985,  996, 1004, 1011, 1015, 1016, 1017, 1025, 1028,\n",
            "       1034, 1036, 1039, 1045, 1054, 1075, 1086, 1108, 1118, 1125, 1126,\n",
            "       1131, 1153, 1172, 1179, 1183, 1197, 1199, 1209, 1215, 1217, 1226,\n",
            "       1234, 1258, 1264, 1272, 1297, 1305, 1306, 1312, 1316, 1319, 1327,\n",
            "       1338, 1339, 1348, 1365, 1366, 1406, 1429, 1432, 1433, 1445, 1450,\n",
            "       1454, 1455, 1459, 1472, 1480, 1492, 1505, 1510, 1512, 1522, 1538,\n",
            "       1545, 1559, 1561, 1572, 1577, 1580, 1593, 1601, 1637, 1642, 1643,\n",
            "       1656, 1671, 1686, 1693, 1700, 1705, 1714, 1717, 1759, 1762, 1764,\n",
            "       1765, 1768, 1779, 1783, 1803, 1805, 1812, 1818, 1832, 1837, 1850,\n",
            "       1855, 1863, 1865, 1868, 1884, 1887, 1893, 1919, 1921, 1922, 1976,\n",
            "       1978, 1981, 1992, 2010, 2037, 2042, 2044, 2067, 2072, 2075, 2077,\n",
            "       2082, 2091, 2097, 2104, 2124, 2136, 2144, 2147, 2149, 2151, 2157,\n",
            "       2162, 2163, 2166, 2173, 2175, 2187, 2211, 2218, 2223, 2238, 2242,\n",
            "       2250, 2254, 2261, 2265, 2284, 2300, 2327, 2336, 2341, 2350, 2351,\n",
            "       2353, 2357, 2363, 2375, 2382, 2403, 2412, 2423, 2429, 2433, 2434,\n",
            "       2471, 2476, 2485, 2487, 2499, 2507, 2513, 2523, 2531, 2546, 2548,\n",
            "       2562, 2579, 2604, 2613, 2618, 2642, 2646, 2653, 2659, 2663, 2675,\n",
            "       2681, 2707, 2718, 2719, 2729, 2730, 2732, 2763, 2775, 2778, 2794,\n",
            "       2797, 2810, 2819, 2844, 2847, 2867, 2888, 2905, 2911, 2938, 2943,\n",
            "       2946, 2951, 2963, 2967, 2978, 2985, 3005, 3011, 3016, 3022, 3030,\n",
            "       3070, 3081, 3084, 3091, 3093, 3096, 3103, 3132, 3134, 3135, 3138,\n",
            "       3144, 3156, 3170, 3189, 3211, 3214, 3219, 3229, 3230, 3243, 3250,\n",
            "       3253, 3254, 3278, 3295, 3302, 3312, 3321, 3324, 3341, 3349, 3352,\n",
            "       3355, 3363, 3366, 3374, 3375, 3383, 3404, 3417, 3447, 3452, 3457,\n",
            "       3463, 3465, 3467, 3483, 3484, 3493, 3496, 3515, 3521, 3545, 3555,\n",
            "       3565, 3573, 3577, 3594, 3618, 3631, 3641, 3647, 3651, 3659, 3681,\n",
            "       3684, 3701, 3704, 3705, 3733, 3737, 3741, 3768, 3796, 3799, 3812,\n",
            "       3815, 3825, 3832, 3840, 3860, 3865, 3867, 3875, 3890, 3891, 3903,\n",
            "       3904, 3915, 3916, 3924, 3928, 3930, 3932, 3933, 3941, 3944, 3969,\n",
            "       4004, 4010, 4012, 4037, 4100, 4107, 4122, 4125, 4129, 4161, 4162,\n",
            "       4175, 4180, 4199, 4233, 4257, 4267, 4271, 4274, 4292, 4298, 4301,\n",
            "       4304, 4306, 4314, 4318, 4335, 4342, 4345, 4363, 4370, 4394, 4400,\n",
            "       4413, 4421, 4436, 4472, 4475, 4481, 4487, 4500, 4530, 4555, 4574,\n",
            "       4598, 4609, 4613, 4621, 4625, 4627, 4631, 4641, 4649, 4651, 4654,\n",
            "       4681, 4697, 4701, 4705, 4710, 4725, 4732, 4734, 4747, 4762, 4773,\n",
            "       4775, 4780, 4798, 4800, 4835, 4840, 4847, 4848, 4853, 4859, 4868,\n",
            "       4871, 4873, 4878, 4912, 4915, 4927, 4957, 4961, 4969, 4978, 4981,\n",
            "       4982, 4989, 5000, 5006, 5007, 5020, 5032, 5042, 5049, 5054, 5055,\n",
            "       5059, 5061, 5081, 5084, 5085, 5098, 5126, 5128, 5135, 5136, 5139,\n",
            "       5142, 5143, 5148, 5150, 5187, 5200, 5207, 5230, 5233, 5237, 5242,\n",
            "       5244, 5256, 5259, 5263, 5269, 5281, 5283, 5285, 5295, 5300, 5304,\n",
            "       5308, 5315, 5326, 5363, 5378, 5401, 5414, 5415, 5424, 5433, 5438,\n",
            "       5453, 5455, 5462, 5497, 5502, 5513, 5520, 5521, 5533, 5537, 5543,\n",
            "       5546, 5561, 5568, 5570, 5589, 5624, 5662, 5673, 5676, 5682, 5714,\n",
            "       5736, 5742, 5744, 5760, 5770, 5773, 5792, 5793, 5794, 5815, 5816,\n",
            "       5827, 5836, 5846, 5853, 5892, 5895, 5899, 5919, 5920, 5925, 5941,\n",
            "       5969, 5975, 5983, 5984, 6031, 6054, 6056, 6075, 6083, 6084, 6085,\n",
            "       6088, 6089, 6091, 6096, 6098, 6108, 6112, 6115, 6135, 6140, 6144,\n",
            "       6161, 6185, 6199, 6213, 6227, 6248, 6264, 6269, 6270, 6271, 6282,\n",
            "       6287, 6289, 6303, 6310, 6314, 6329, 6330, 6334, 6346, 6348, 6352,\n",
            "       6361, 6364, 6367, 6368, 6374, 6394, 6408, 6429, 6440, 6444, 6455,\n",
            "       6475, 6495, 6499, 6500, 6512, 6522, 6536, 6555, 6567, 6571, 6572,\n",
            "       6583, 6588, 6592, 6605, 6606, 6618, 6620, 6658, 6660, 6661, 6711,\n",
            "       6716, 6727, 6736, 6755, 6770, 6786, 6796, 6809, 6829, 6832, 6839,\n",
            "       6842, 6859, 6870, 6893, 6894, 6905, 6915, 6918, 6930, 6942, 6945,\n",
            "       6949, 6958, 6966, 6970, 6995, 6996, 7008, 7020, 7030, 7044, 7046,\n",
            "       7053, 7056, 7057, 7065, 7095, 7105, 7111, 7123, 7138, 7144, 7145,\n",
            "       7152, 7158, 7182, 7184, 7193, 7200, 7206, 7214, 7217, 7261, 7272,\n",
            "       7284, 7288, 7300, 7301, 7324, 7333, 7347, 7367, 7379, 7392, 7424,\n",
            "       7440, 7453, 7486, 7487, 7504, 7510, 7517, 7522, 7523, 7527, 7552,\n",
            "       7575, 7594, 7603, 7604, 7616, 7629, 7633, 7642, 7654, 7663, 7719,\n",
            "       7751, 7785, 7801, 7804, 7807, 7819, 7820, 7828, 7847, 7854, 7863,\n",
            "       7870, 7880, 7892, 7898, 7900, 7913, 7922, 7926, 7968, 7971, 7974,\n",
            "       7977, 7980, 7981, 7984, 7987, 8006, 8018, 8025, 8040, 8044, 8076,\n",
            "       8085, 8091, 8095, 8099, 8105, 8115, 8122, 8132, 8138, 8163, 8169,\n",
            "       8205, 8208, 8214, 8218, 8222, 8234, 8238, 8239, 8241, 8286, 8290,\n",
            "       8294, 8305, 8307, 8314, 8332, 8333, 8344, 8346, 8365, 8367, 8369,\n",
            "       8375, 8377, 8385, 8388, 8391, 8399, 8407, 8408, 8409, 8442, 8475,\n",
            "       8480, 8482, 8485, 8488, 8499, 8503, 8510, 8520, 8544, 8551, 8575,\n",
            "       8599, 8601, 8610, 8627, 8640, 8659, 8689, 8694, 8703, 8721, 8748,\n",
            "       8755, 8775, 8777, 8787, 8790, 8806, 8808, 8811, 8814, 8815, 8821,\n",
            "       8834, 8835, 8852, 8861, 8862, 8863, 8865])), (array([   0,    1,    2, ..., 8872, 8873, 8874]), array([   8,   22,   54,   70,   85,   89,   91,   95,  114,  115,  116,\n",
            "        149,  151,  153,  157,  165,  181,  195,  198,  207,  214,  224,\n",
            "        237,  240,  246,  281,  289,  290,  303,  352,  359,  364,  370,\n",
            "        392,  419,  447,  448,  460,  461,  468,  479,  481,  490,  494,\n",
            "        498,  507,  508,  510,  515,  527,  530,  566,  570,  578,  588,\n",
            "        590,  613,  615,  639,  648,  656,  659,  662,  666,  670,  679,\n",
            "        683,  693,  696,  724,  726,  730,  749,  751,  756,  766,  772,\n",
            "        775,  779,  805,  816,  820,  851,  860,  863,  869,  875,  877,\n",
            "        883,  898,  902,  906,  908,  929,  947,  952,  965,  981, 1001,\n",
            "       1006, 1019, 1030, 1048, 1049, 1051, 1063, 1068, 1074, 1077, 1100,\n",
            "       1111, 1134, 1137, 1138, 1147, 1150, 1154, 1168, 1220, 1229, 1230,\n",
            "       1237, 1240, 1259, 1262, 1267, 1274, 1290, 1296, 1307, 1314, 1321,\n",
            "       1323, 1334, 1335, 1337, 1344, 1360, 1362, 1367, 1373, 1374, 1377,\n",
            "       1390, 1424, 1435, 1443, 1447, 1453, 1469, 1471, 1473, 1478, 1499,\n",
            "       1504, 1507, 1517, 1520, 1549, 1563, 1578, 1603, 1609, 1611, 1623,\n",
            "       1624, 1663, 1672, 1677, 1699, 1702, 1725, 1745, 1756, 1760, 1775,\n",
            "       1786, 1835, 1838, 1840, 1841, 1845, 1862, 1864, 1880, 1881, 1895,\n",
            "       1900, 1907, 1916, 1925, 1928, 1938, 1939, 1945, 1968, 1974, 1985,\n",
            "       1997, 1999, 2011, 2036, 2048, 2052, 2061, 2062, 2069, 2080, 2101,\n",
            "       2120, 2128, 2140, 2146, 2159, 2160, 2164, 2184, 2202, 2207, 2212,\n",
            "       2222, 2226, 2230, 2247, 2271, 2277, 2287, 2290, 2301, 2312, 2338,\n",
            "       2342, 2343, 2368, 2387, 2399, 2400, 2402, 2404, 2405, 2407, 2410,\n",
            "       2416, 2418, 2444, 2449, 2469, 2478, 2486, 2494, 2515, 2520, 2542,\n",
            "       2547, 2551, 2564, 2573, 2606, 2607, 2614, 2623, 2627, 2645, 2651,\n",
            "       2660, 2664, 2665, 2669, 2671, 2680, 2687, 2690, 2697, 2704, 2706,\n",
            "       2728, 2731, 2738, 2739, 2742, 2761, 2767, 2774, 2783, 2787, 2792,\n",
            "       2806, 2814, 2839, 2852, 2874, 2883, 2898, 2913, 2923, 2931, 2949,\n",
            "       2961, 2962, 2965, 2984, 2986, 2997, 3014, 3018, 3037, 3058, 3059,\n",
            "       3078, 3097, 3122, 3128, 3139, 3141, 3158, 3167, 3174, 3176, 3180,\n",
            "       3182, 3192, 3196, 3210, 3216, 3218, 3223, 3225, 3249, 3273, 3277,\n",
            "       3279, 3280, 3281, 3284, 3301, 3306, 3314, 3325, 3326, 3330, 3340,\n",
            "       3368, 3370, 3377, 3379, 3397, 3412, 3426, 3445, 3474, 3500, 3516,\n",
            "       3517, 3532, 3538, 3544, 3546, 3561, 3582, 3585, 3588, 3592, 3606,\n",
            "       3615, 3616, 3620, 3637, 3640, 3649, 3668, 3677, 3680, 3707, 3722,\n",
            "       3724, 3728, 3730, 3739, 3740, 3767, 3774, 3777, 3797, 3809, 3845,\n",
            "       3849, 3863, 3871, 3876, 3879, 3881, 3887, 3894, 3901, 3910, 3918,\n",
            "       3919, 3927, 3936, 3961, 3964, 3983, 3990, 4001, 4005, 4009, 4013,\n",
            "       4022, 4035, 4044, 4052, 4058, 4070, 4073, 4082, 4087, 4103, 4120,\n",
            "       4143, 4153, 4172, 4173, 4182, 4185, 4187, 4204, 4206, 4209, 4240,\n",
            "       4252, 4263, 4265, 4305, 4325, 4330, 4331, 4343, 4354, 4356, 4365,\n",
            "       4374, 4384, 4389, 4395, 4403, 4415, 4418, 4424, 4425, 4439, 4448,\n",
            "       4458, 4463, 4470, 4473, 4479, 4489, 4497, 4503, 4509, 4517, 4527,\n",
            "       4543, 4556, 4561, 4577, 4581, 4585, 4596, 4600, 4616, 4617, 4667,\n",
            "       4687, 4708, 4711, 4740, 4746, 4772, 4778, 4783, 4794, 4809, 4812,\n",
            "       4820, 4821, 4822, 4825, 4826, 4831, 4834, 4838, 4858, 4872, 4892,\n",
            "       4901, 4930, 4936, 4939, 4940, 4942, 4945, 4962, 4973, 4980, 4987,\n",
            "       4988, 5033, 5038, 5046, 5051, 5052, 5056, 5062, 5074, 5075, 5088,\n",
            "       5092, 5096, 5101, 5120, 5123, 5129, 5141, 5144, 5160, 5161, 5162,\n",
            "       5167, 5174, 5178, 5179, 5194, 5201, 5208, 5220, 5245, 5249, 5255,\n",
            "       5265, 5294, 5297, 5305, 5319, 5339, 5348, 5350, 5354, 5369, 5383,\n",
            "       5386, 5387, 5396, 5400, 5413, 5417, 5428, 5445, 5449, 5451, 5460,\n",
            "       5466, 5495, 5508, 5527, 5539, 5548, 5562, 5564, 5565, 5573, 5586,\n",
            "       5592, 5595, 5603, 5607, 5633, 5646, 5660, 5667, 5681, 5686, 5687,\n",
            "       5694, 5702, 5717, 5719, 5733, 5751, 5756, 5772, 5786, 5790, 5798,\n",
            "       5801, 5817, 5829, 5849, 5852, 5859, 5872, 5883, 5891, 5894, 5904,\n",
            "       5916, 5918, 5922, 5928, 5944, 5951, 5959, 5966, 5967, 5970, 5971,\n",
            "       5985, 5994, 6002, 6014, 6015, 6022, 6042, 6060, 6066, 6078, 6092,\n",
            "       6103, 6105, 6111, 6174, 6190, 6212, 6218, 6225, 6241, 6250, 6253,\n",
            "       6262, 6286, 6291, 6300, 6323, 6336, 6347, 6366, 6378, 6389, 6409,\n",
            "       6438, 6443, 6459, 6460, 6472, 6473, 6484, 6517, 6520, 6539, 6552,\n",
            "       6581, 6595, 6617, 6619, 6634, 6642, 6653, 6654, 6663, 6670, 6672,\n",
            "       6673, 6720, 6721, 6754, 6756, 6758, 6759, 6767, 6772, 6774, 6779,\n",
            "       6785, 6788, 6798, 6805, 6820, 6821, 6844, 6857, 6879, 6904, 6924,\n",
            "       6927, 6933, 6939, 6940, 6961, 6963, 6968, 6969, 6976, 6989, 6997,\n",
            "       6999, 7006, 7031, 7032, 7071, 7072, 7075, 7078, 7083, 7084, 7085,\n",
            "       7092, 7097, 7135, 7136, 7139, 7153, 7169, 7189, 7218, 7224, 7225,\n",
            "       7228, 7255, 7268, 7269, 7293, 7299, 7303, 7304, 7309, 7311, 7314,\n",
            "       7323, 7325, 7339, 7350, 7351, 7356, 7358, 7364, 7370, 7373, 7376,\n",
            "       7385, 7394, 7429, 7437, 7438, 7448, 7460, 7481, 7492, 7493, 7496,\n",
            "       7501, 7502, 7528, 7532, 7536, 7547, 7550, 7558, 7570, 7589, 7593,\n",
            "       7602, 7621, 7623, 7671, 7674, 7683, 7684, 7688, 7689, 7695, 7697,\n",
            "       7718, 7722, 7749, 7766, 7770, 7776, 7798, 7808, 7837, 7841, 7842,\n",
            "       7856, 7864, 7869, 7886, 7888, 7912, 7942, 7956, 7961, 7962, 7979,\n",
            "       8001, 8007, 8008, 8010, 8012, 8020, 8021, 8037, 8041, 8059, 8063,\n",
            "       8069, 8073, 8082, 8083, 8104, 8143, 8146, 8158, 8192, 8198, 8215,\n",
            "       8226, 8227, 8233, 8240, 8242, 8263, 8265, 8276, 8282, 8285, 8301,\n",
            "       8302, 8323, 8327, 8335, 8340, 8348, 8359, 8361, 8363, 8373, 8404,\n",
            "       8417, 8438, 8451, 8464, 8472, 8486, 8492, 8495, 8541, 8557, 8562,\n",
            "       8581, 8597, 8607, 8624, 8639, 8648, 8654, 8666, 8667, 8672, 8678,\n",
            "       8686, 8690, 8707, 8735, 8770, 8771, 8783, 8789, 8793, 8799, 8810,\n",
            "       8828, 8845, 8849, 8856, 8857, 8866, 8869])), (array([   0,    1,    2, ..., 8870, 8872, 8873]), array([   6,    7,   29,   33,   38,   40,   43,   62,   66,   79,   81,\n",
            "         82,   88,  111,  121,  122,  124,  156,  160,  162,  166,  167,\n",
            "        199,  205,  206,  208,  213,  231,  247,  253,  258,  261,  277,\n",
            "        310,  311,  319,  320,  330,  337,  381,  384,  393,  401,  406,\n",
            "        429,  439,  444,  456,  459,  467,  473,  496,  517,  520,  535,\n",
            "        541,  561,  564,  569,  574,  576,  619,  634,  636,  641,  653,\n",
            "        654,  665,  673,  680,  694,  695,  698,  737,  739,  744,  761,\n",
            "        788,  791,  798,  801,  815,  823,  825,  856,  864,  880,  882,\n",
            "        885,  905,  914,  918,  919,  921,  922,  936,  942,  948,  958,\n",
            "        959,  961,  962,  976,  977,  978,  983, 1013, 1035, 1037, 1065,\n",
            "       1072, 1085, 1093, 1127, 1156, 1158, 1161, 1162, 1165, 1167, 1173,\n",
            "       1178, 1198, 1200, 1211, 1235, 1255, 1257, 1275, 1308, 1311, 1340,\n",
            "       1341, 1345, 1347, 1355, 1358, 1379, 1380, 1385, 1392, 1399, 1400,\n",
            "       1403, 1425, 1439, 1444, 1449, 1463, 1483, 1490, 1494, 1524, 1525,\n",
            "       1543, 1554, 1565, 1566, 1574, 1579, 1592, 1594, 1595, 1608, 1614,\n",
            "       1621, 1627, 1630, 1635, 1639, 1644, 1650, 1652, 1659, 1662, 1665,\n",
            "       1666, 1675, 1685, 1690, 1701, 1706, 1719, 1751, 1753, 1769, 1776,\n",
            "       1778, 1781, 1797, 1798, 1806, 1824, 1833, 1843, 1847, 1851, 1869,\n",
            "       1874, 1875, 1888, 1896, 1897, 1908, 1923, 1924, 1931, 1942, 1957,\n",
            "       1958, 1994, 2013, 2014, 2020, 2033, 2045, 2054, 2060, 2064, 2070,\n",
            "       2071, 2103, 2121, 2129, 2133, 2148, 2154, 2194, 2198, 2205, 2209,\n",
            "       2220, 2248, 2267, 2268, 2273, 2285, 2299, 2304, 2305, 2313, 2315,\n",
            "       2330, 2333, 2365, 2374, 2390, 2406, 2414, 2417, 2425, 2432, 2439,\n",
            "       2446, 2450, 2453, 2456, 2481, 2484, 2496, 2497, 2508, 2527, 2532,\n",
            "       2538, 2549, 2557, 2560, 2577, 2582, 2584, 2612, 2620, 2624, 2634,\n",
            "       2635, 2647, 2654, 2662, 2678, 2736, 2750, 2754, 2780, 2782, 2786,\n",
            "       2802, 2808, 2811, 2813, 2822, 2842, 2856, 2858, 2863, 2881, 2884,\n",
            "       2885, 2910, 2927, 2935, 2937, 2948, 2964, 2973, 2977, 2983, 2988,\n",
            "       2999, 3000, 3024, 3032, 3052, 3062, 3085, 3089, 3098, 3104, 3108,\n",
            "       3116, 3131, 3136, 3140, 3143, 3161, 3164, 3165, 3173, 3193, 3195,\n",
            "       3205, 3208, 3235, 3239, 3244, 3282, 3288, 3299, 3300, 3311, 3328,\n",
            "       3329, 3358, 3392, 3396, 3402, 3405, 3408, 3411, 3413, 3421, 3436,\n",
            "       3439, 3448, 3451, 3466, 3477, 3492, 3525, 3534, 3540, 3541, 3543,\n",
            "       3552, 3559, 3595, 3602, 3609, 3622, 3623, 3624, 3626, 3635, 3650,\n",
            "       3653, 3655, 3674, 3675, 3676, 3694, 3699, 3721, 3723, 3734, 3735,\n",
            "       3736, 3743, 3753, 3760, 3761, 3766, 3773, 3775, 3783, 3785, 3787,\n",
            "       3808, 3813, 3831, 3862, 3895, 3896, 3912, 3926, 3943, 3945, 3976,\n",
            "       3984, 3989, 4025, 4028, 4039, 4051, 4065, 4066, 4075, 4078, 4086,\n",
            "       4123, 4126, 4132, 4186, 4197, 4203, 4208, 4213, 4234, 4241, 4243,\n",
            "       4248, 4270, 4272, 4277, 4295, 4296, 4313, 4324, 4341, 4344, 4348,\n",
            "       4359, 4382, 4407, 4445, 4449, 4452, 4464, 4480, 4490, 4492, 4496,\n",
            "       4515, 4518, 4531, 4540, 4549, 4554, 4560, 4564, 4570, 4582, 4583,\n",
            "       4591, 4592, 4605, 4624, 4629, 4630, 4646, 4648, 4669, 4677, 4684,\n",
            "       4685, 4689, 4704, 4735, 4742, 4748, 4767, 4779, 4789, 4814, 4818,\n",
            "       4823, 4845, 4851, 4879, 4889, 4890, 4891, 4896, 4902, 4905, 4906,\n",
            "       4911, 4926, 4958, 5003, 5015, 5024, 5034, 5102, 5113, 5116, 5122,\n",
            "       5145, 5146, 5158, 5163, 5165, 5170, 5186, 5217, 5238, 5247, 5257,\n",
            "       5261, 5266, 5272, 5313, 5317, 5333, 5347, 5353, 5357, 5366, 5379,\n",
            "       5381, 5390, 5391, 5398, 5419, 5436, 5443, 5450, 5457, 5474, 5478,\n",
            "       5480, 5504, 5515, 5523, 5538, 5542, 5550, 5557, 5577, 5578, 5580,\n",
            "       5585, 5600, 5602, 5612, 5619, 5642, 5648, 5661, 5677, 5696, 5709,\n",
            "       5715, 5718, 5725, 5732, 5741, 5758, 5761, 5767, 5768, 5819, 5820,\n",
            "       5838, 5843, 5844, 5848, 5861, 5864, 5866, 5871, 5882, 5886, 5887,\n",
            "       5900, 5907, 5909, 5927, 5945, 5947, 5973, 5979, 5981, 5988, 5996,\n",
            "       5998, 6010, 6020, 6030, 6035, 6064, 6087, 6093, 6100, 6124, 6126,\n",
            "       6127, 6137, 6143, 6148, 6155, 6172, 6173, 6189, 6191, 6194, 6206,\n",
            "       6211, 6226, 6231, 6233, 6237, 6249, 6263, 6272, 6274, 6319, 6321,\n",
            "       6324, 6337, 6358, 6359, 6376, 6397, 6398, 6442, 6448, 6463, 6465,\n",
            "       6508, 6516, 6528, 6529, 6557, 6559, 6563, 6564, 6574, 6578, 6593,\n",
            "       6600, 6623, 6624, 6640, 6666, 6679, 6683, 6691, 6693, 6700, 6702,\n",
            "       6717, 6718, 6792, 6793, 6794, 6810, 6813, 6818, 6826, 6835, 6843,\n",
            "       6845, 6854, 6872, 6882, 6886, 6887, 6888, 6910, 6911, 6914, 6925,\n",
            "       6941, 6948, 6954, 6962, 6974, 6981, 6994, 7004, 7015, 7018, 7023,\n",
            "       7045, 7051, 7061, 7073, 7080, 7081, 7082, 7087, 7089, 7091, 7108,\n",
            "       7122, 7133, 7149, 7159, 7168, 7176, 7190, 7194, 7232, 7233, 7238,\n",
            "       7250, 7260, 7264, 7267, 7274, 7277, 7281, 7302, 7329, 7331, 7338,\n",
            "       7345, 7354, 7363, 7382, 7390, 7408, 7412, 7420, 7422, 7423, 7425,\n",
            "       7430, 7441, 7444, 7450, 7455, 7463, 7468, 7469, 7473, 7489, 7503,\n",
            "       7505, 7509, 7515, 7524, 7531, 7541, 7543, 7548, 7557, 7559, 7577,\n",
            "       7588, 7606, 7613, 7632, 7636, 7637, 7659, 7665, 7669, 7673, 7677,\n",
            "       7694, 7704, 7720, 7732, 7734, 7735, 7746, 7756, 7763, 7768, 7773,\n",
            "       7781, 7783, 7795, 7803, 7806, 7810, 7826, 7833, 7853, 7865, 7887,\n",
            "       7894, 7909, 7914, 7916, 7919, 7921, 7934, 7952, 7969, 7986, 7988,\n",
            "       7989, 7993, 7998, 8014, 8031, 8050, 8067, 8094, 8109, 8112, 8118,\n",
            "       8129, 8131, 8133, 8134, 8161, 8180, 8184, 8200, 8206, 8217, 8228,\n",
            "       8230, 8235, 8247, 8255, 8260, 8262, 8267, 8268, 8270, 8275, 8279,\n",
            "       8287, 8299, 8331, 8362, 8379, 8396, 8397, 8412, 8416, 8420, 8425,\n",
            "       8427, 8439, 8465, 8471, 8473, 8497, 8514, 8530, 8539, 8545, 8546,\n",
            "       8550, 8606, 8616, 8618, 8625, 8658, 8669, 8679, 8680, 8691, 8693,\n",
            "       8698, 8717, 8723, 8740, 8747, 8750, 8776, 8801, 8822, 8823, 8824,\n",
            "       8833, 8850, 8851, 8854, 8864, 8871, 8874])), (array([   0,    1,    2, ..., 8872, 8873, 8874]), array([  12,   17,   18,   20,   23,   30,   41,   74,   94,   98,  102,\n",
            "        135,  163,  176,  191,  211,  222,  239,  242,  267,  276,  279,\n",
            "        282,  284,  288,  292,  298,  301,  308,  313,  316,  361,  368,\n",
            "        369,  385,  388,  389,  391,  409,  427,  436,  445,  478,  497,\n",
            "        502,  516,  519,  526,  533,  545,  546,  551,  552,  559,  585,\n",
            "        593,  600,  603,  610,  611,  621,  622,  628,  642,  644,  675,\n",
            "        697,  701,  710,  716,  752,  755,  757,  768,  792,  797,  807,\n",
            "        817,  829,  853,  862,  873,  888,  894,  901,  909,  912,  915,\n",
            "        935,  939,  946,  956,  969,  974, 1003, 1026, 1032, 1050, 1055,\n",
            "       1058, 1073, 1081, 1088, 1102, 1105, 1114, 1119, 1123, 1142, 1143,\n",
            "       1146, 1157, 1166, 1185, 1195, 1239, 1241, 1242, 1246, 1247, 1253,\n",
            "       1270, 1271, 1273, 1279, 1280, 1289, 1294, 1313, 1326, 1336, 1343,\n",
            "       1349, 1351, 1372, 1378, 1384, 1388, 1389, 1405, 1407, 1418, 1431,\n",
            "       1438, 1441, 1460, 1461, 1498, 1515, 1530, 1531, 1553, 1582, 1596,\n",
            "       1600, 1626, 1636, 1645, 1661, 1680, 1684, 1709, 1711, 1720, 1732,\n",
            "       1757, 1763, 1766, 1767, 1789, 1795, 1796, 1867, 1878, 1892, 1894,\n",
            "       1910, 1911, 1912, 1920, 1930, 1960, 1963, 1973, 1975, 2023, 2029,\n",
            "       2043, 2050, 2065, 2092, 2106, 2110, 2117, 2155, 2167, 2174, 2178,\n",
            "       2185, 2188, 2189, 2192, 2208, 2233, 2244, 2276, 2292, 2306, 2314,\n",
            "       2321, 2328, 2337, 2371, 2376, 2379, 2392, 2411, 2431, 2440, 2442,\n",
            "       2458, 2459, 2491, 2498, 2500, 2502, 2519, 2525, 2536, 2537, 2550,\n",
            "       2552, 2581, 2586, 2587, 2589, 2599, 2600, 2608, 2610, 2615, 2621,\n",
            "       2625, 2626, 2638, 2640, 2657, 2677, 2679, 2683, 2684, 2694, 2703,\n",
            "       2710, 2715, 2733, 2759, 2771, 2800, 2824, 2826, 2851, 2854, 2860,\n",
            "       2869, 2879, 2890, 2891, 2899, 2904, 2907, 2939, 2940, 2952, 2953,\n",
            "       2955, 2956, 2960, 2982, 2995, 3004, 3015, 3031, 3040, 3045, 3054,\n",
            "       3064, 3073, 3086, 3095, 3124, 3145, 3152, 3163, 3166, 3171, 3175,\n",
            "       3177, 3178, 3201, 3204, 3212, 3237, 3246, 3257, 3265, 3267, 3270,\n",
            "       3289, 3292, 3305, 3309, 3315, 3327, 3348, 3353, 3356, 3359, 3360,\n",
            "       3365, 3378, 3384, 3391, 3418, 3433, 3440, 3442, 3443, 3473, 3476,\n",
            "       3480, 3490, 3505, 3506, 3508, 3523, 3526, 3553, 3562, 3569, 3603,\n",
            "       3605, 3612, 3619, 3627, 3642, 3646, 3661, 3665, 3667, 3679, 3683,\n",
            "       3696, 3702, 3706, 3712, 3715, 3716, 3752, 3758, 3762, 3769, 3776,\n",
            "       3784, 3821, 3822, 3839, 3841, 3844, 3854, 3873, 3888, 3900, 3908,\n",
            "       3922, 3938, 3939, 3942, 3948, 3951, 3962, 3970, 3982, 3987, 3992,\n",
            "       4027, 4040, 4047, 4048, 4049, 4055, 4064, 4090, 4091, 4092, 4101,\n",
            "       4112, 4117, 4124, 4136, 4140, 4141, 4147, 4148, 4155, 4156, 4157,\n",
            "       4160, 4164, 4168, 4169, 4174, 4227, 4228, 4237, 4238, 4273, 4281,\n",
            "       4290, 4308, 4317, 4321, 4322, 4329, 4355, 4357, 4379, 4383, 4385,\n",
            "       4405, 4406, 4409, 4444, 4450, 4453, 4456, 4457, 4465, 4474, 4477,\n",
            "       4483, 4493, 4506, 4507, 4511, 4536, 4542, 4559, 4580, 4584, 4595,\n",
            "       4603, 4604, 4633, 4634, 4645, 4656, 4658, 4676, 4690, 4692, 4700,\n",
            "       4706, 4715, 4718, 4721, 4724, 4727, 4757, 4759, 4771, 4788, 4790,\n",
            "       4805, 4816, 4839, 4866, 4875, 4881, 4895, 4903, 4908, 4913, 4920,\n",
            "       4923, 4929, 4937, 4943, 4947, 4964, 4967, 4974, 5004, 5010, 5013,\n",
            "       5017, 5023, 5026, 5037, 5063, 5064, 5078, 5082, 5114, 5138, 5175,\n",
            "       5177, 5182, 5215, 5216, 5221, 5228, 5229, 5232, 5235, 5262, 5270,\n",
            "       5271, 5277, 5306, 5310, 5332, 5334, 5341, 5345, 5352, 5356, 5358,\n",
            "       5361, 5368, 5382, 5384, 5402, 5403, 5412, 5422, 5435, 5437, 5441,\n",
            "       5461, 5487, 5490, 5492, 5498, 5499, 5503, 5505, 5522, 5544, 5566,\n",
            "       5567, 5571, 5581, 5582, 5583, 5590, 5621, 5629, 5671, 5672, 5675,\n",
            "       5680, 5691, 5701, 5707, 5721, 5726, 5731, 5735, 5745, 5749, 5752,\n",
            "       5777, 5780, 5784, 5803, 5808, 5812, 5832, 5834, 5840, 5869, 5881,\n",
            "       5912, 5923, 5924, 5956, 5962, 5965, 5986, 6001, 6007, 6008, 6025,\n",
            "       6034, 6040, 6045, 6046, 6047, 6051, 6055, 6061, 6067, 6072, 6076,\n",
            "       6095, 6097, 6106, 6109, 6122, 6160, 6180, 6216, 6224, 6235, 6240,\n",
            "       6246, 6259, 6261, 6266, 6285, 6292, 6298, 6320, 6335, 6340, 6354,\n",
            "       6373, 6377, 6379, 6391, 6402, 6410, 6411, 6417, 6418, 6427, 6428,\n",
            "       6435, 6436, 6439, 6450, 6451, 6452, 6461, 6471, 6486, 6489, 6532,\n",
            "       6543, 6544, 6545, 6553, 6569, 6585, 6591, 6596, 6599, 6602, 6609,\n",
            "       6610, 6637, 6662, 6675, 6676, 6677, 6686, 6695, 6696, 6706, 6707,\n",
            "       6710, 6715, 6726, 6728, 6732, 6738, 6740, 6761, 6768, 6773, 6828,\n",
            "       6834, 6853, 6860, 6863, 6889, 6890, 6891, 6892, 6896, 6921, 6929,\n",
            "       6932, 6935, 6971, 6972, 6983, 6988, 7011, 7019, 7024, 7027, 7036,\n",
            "       7048, 7076, 7077, 7098, 7134, 7157, 7197, 7201, 7213, 7227, 7234,\n",
            "       7235, 7243, 7248, 7263, 7285, 7286, 7316, 7318, 7322, 7327, 7328,\n",
            "       7340, 7341, 7357, 7360, 7377, 7391, 7402, 7418, 7436, 7442, 7446,\n",
            "       7452, 7464, 7470, 7480, 7482, 7533, 7540, 7556, 7561, 7568, 7584,\n",
            "       7585, 7591, 7610, 7618, 7639, 7644, 7650, 7685, 7690, 7693, 7701,\n",
            "       7707, 7713, 7716, 7717, 7721, 7724, 7725, 7726, 7730, 7733, 7748,\n",
            "       7753, 7754, 7758, 7765, 7775, 7792, 7802, 7812, 7813, 7817, 7834,\n",
            "       7836, 7845, 7852, 7871, 7873, 7874, 7896, 7905, 7907, 7924, 7949,\n",
            "       7950, 7951, 7970, 7973, 7975, 7976, 7982, 7983, 7992, 8015, 8016,\n",
            "       8023, 8032, 8033, 8047, 8058, 8072, 8084, 8096, 8116, 8128, 8149,\n",
            "       8165, 8168, 8171, 8174, 8193, 8209, 8210, 8219, 8251, 8256, 8258,\n",
            "       8269, 8280, 8281, 8289, 8297, 8300, 8308, 8309, 8319, 8322, 8324,\n",
            "       8382, 8383, 8398, 8406, 8421, 8434, 8460, 8463, 8469, 8476, 8478,\n",
            "       8494, 8500, 8502, 8511, 8521, 8525, 8534, 8540, 8542, 8547, 8571,\n",
            "       8576, 8588, 8600, 8608, 8632, 8643, 8651, 8652, 8675, 8699, 8713,\n",
            "       8718, 8734, 8737, 8742, 8751, 8773, 8788, 8792, 8797, 8800, 8807,\n",
            "       8819, 8841, 8846, 8853, 8855, 8858, 8860]))]\n",
            "averages: {'valid': {'loss': 1.9644321203231812, 'accuracy': 0.38963964581489563, 'fbeta': 0.3410323497687747, 'mcc': 0.3518271924436428, 'rocauc': 0.8955507063193539}, 'test': {'loss': 2.0018739700317383, 'accuracy': 0.39634427428245544, 'fbeta': 0.31038183928099544, 'mcc': 0.3469065479834973, 'rocauc': 0.8714690564632537}}\n",
            "confusion_matrices: {'valid': [array([[ 1,  0,  0,  0,  0,  0,  0,  0,  1,  0,  0,  0,  0,  0,  0,  1,\n",
            "         0,  0,  0,  0,  0,  0,  0],\n",
            "       [ 1,  8,  0,  1,  0,  0,  0,  1,  0,  0,  1,  5,  1,  0,  0,  1,\n",
            "         0,  0,  0,  0,  0,  0,  1],\n",
            "       [ 0,  1,  9,  0,  2,  0,  1,  1,  1,  1,  3,  4,  3,  1,  4,  3,\n",
            "         1,  2,  1,  0,  1,  2,  3],\n",
            "       [ 0,  0,  0,  3,  0,  0,  0,  0,  0,  0,  2,  0,  1,  0,  0,  0,\n",
            "         0,  0,  1,  0,  1,  1,  3],\n",
            "       [ 0,  1,  0,  0,  7,  0,  1,  0,  0,  0,  0,  0,  0,  0,  0,  1,\n",
            "         0,  1,  0,  0,  0,  0,  1],\n",
            "       [ 0,  0,  0,  1,  0,  1,  0,  0,  0,  0,  0,  1,  0,  0,  0,  0,\n",
            "         0,  0,  0,  0,  0,  0,  1],\n",
            "       [ 0,  0,  1,  0,  3,  1, 19,  0,  1,  0,  0,  1,  0,  0,  0,  0,\n",
            "         0,  0,  0,  0,  0,  0,  2],\n",
            "       [ 0,  1,  1,  3,  2,  5,  9, 69,  2,  3,  5,  4,  1,  0,  3,  0,\n",
            "         2,  5,  3,  8,  5,  5,  3],\n",
            "       [ 1,  0,  0,  0,  0,  0,  1,  1, 11,  0,  1,  1,  0,  1,  1,  0,\n",
            "         0,  1,  0,  3,  0,  0,  0],\n",
            "       [ 0,  0,  4,  4,  0,  0,  2,  3,  3,  4,  1,  0,  0,  0,  6,  2,\n",
            "         0,  2,  2,  2,  2,  0,  2],\n",
            "       [ 0,  1,  6,  2,  3,  0,  7,  5,  4,  5, 57,  2,  3,  0,  6,  5,\n",
            "         1,  1,  0,  0,  5,  6,  3],\n",
            "       [ 0,  2,  1,  1,  0,  1,  3,  2,  0,  0,  0, 10,  1,  0,  0,  0,\n",
            "         0,  0,  0,  0,  0,  2,  2],\n",
            "       [ 0,  3,  0,  5,  1,  0,  2,  0,  0,  0,  0,  1,  8,  0,  0,  2,\n",
            "         0,  1,  0,  1,  2,  0,  0],\n",
            "       [ 1,  0,  0,  0,  0,  0,  0,  1,  1,  1,  1,  0,  0, 20,  0,  0,\n",
            "         0,  0,  0,  0,  2,  0,  0],\n",
            "       [ 0,  0,  1,  2,  0,  0,  1,  0,  1,  0,  2,  1,  1,  0, 31,  0,\n",
            "         1,  3,  0,  0,  1,  1,  2],\n",
            "       [ 0,  0,  1,  0,  0,  0,  0,  1,  1,  1,  0,  0,  0,  1,  0,  7,\n",
            "         1,  1,  2,  0,  0,  2,  0],\n",
            "       [ 0,  1,  0,  1,  0,  0,  0,  0,  0,  1,  0,  0,  2,  0,  0,  0,\n",
            "         6,  2,  0,  2,  1,  0,  0],\n",
            "       [ 1,  1,  0,  0,  0,  0,  0,  0,  0,  0,  0,  1,  1,  0,  1,  2,\n",
            "         0, 14,  0,  0,  1,  2,  0],\n",
            "       [ 0,  0,  0,  1,  0,  0,  0,  0,  0,  0,  0,  0,  0,  1,  0,  1,\n",
            "         1,  0,  4,  0,  0,  0,  0],\n",
            "       [ 0,  0,  0,  0,  0,  0,  0,  0,  5,  0,  0,  0,  1,  0,  0,  0,\n",
            "         0,  1,  1,  5,  0,  0,  1],\n",
            "       [ 2,  4, 11,  3,  7,  1,  4, 13, 13,  3, 22,  3, 10,  5,  8,  1,\n",
            "         4,  9,  1,  2, 22,  7,  0],\n",
            "       [ 1,  1,  2,  0,  1,  0,  2,  2,  1,  1,  2,  1,  0,  0,  2,  0,\n",
            "         1,  1,  0,  1,  1, 15,  3],\n",
            "       [ 0,  2,  1,  2,  1,  2,  0,  1,  1,  2,  2,  1,  2,  1,  2,  0,\n",
            "         1,  1,  0,  1,  0,  6, 15]])], 'test': [array([[  0,   1,   0,   0,   2,   0,   2,   0,   0,   0,   0,   0,   0,\n",
            "          0,   0,   1,   2,   2,   0,   0,   0,   0,   2],\n",
            "       [  0,  48,   1,   2,   1,   2,   1,   6,   1,   0,   5,  20,  16,\n",
            "          0,   4,   2,   1,   0,   0,   1,   0,   3,   5],\n",
            "       [  0,   7,  33,  10,   7,   4,   8,   6,   5,  15,  12,  10,   5,\n",
            "         12,  15,   6,   5,   6,   2,   1,   3,   3,  22],\n",
            "       [  0,   2,   1,  22,   1,   0,   1,   2,   3,   2,   1,   5,   0,\n",
            "          0,   0,   2,   2,   1,   0,   1,   2,   7,   3],\n",
            "       [  0,   1,   7,   0,  50,   0,   2,   3,   0,   1,  17,   0,   1,\n",
            "          0,   3,   2,   0,   4,   0,   0,   8,   3,   4],\n",
            "       [  0,   0,   0,   1,   0,   1,   1,   1,   0,   0,   0,   0,   0,\n",
            "          0,   0,   2,   0,   0,   0,   0,   1,   1,   0],\n",
            "       [  0,   1,   3,   5,  17,   0,  86,   3,   1,   2,   8,   2,   0,\n",
            "          0,   5,   1,   1,   0,   0,   0,   0,   1,   1],\n",
            "       [  2,  40,  26,  29,  12,   7,  16, 352,  18,  36, 169,  17,   6,\n",
            "          5,  11,  12,   6,   5,   6,   9,  19,  24,   4],\n",
            "       [  1,   0,   0,   2,   0,   0,   2,   2,  27,   0,   0,   2,   1,\n",
            "          0,   4,   1,   1,   2,   2,   6,   0,   0,   0],\n",
            "       [  0,   2,  12,   5,  14,   1,   5,  10,   0,  20,  16,   1,   1,\n",
            "          4,   7,   7,   1,   2,   1,   3,   3,   1,  10],\n",
            "       [  0,  15,  19,  13,  24,   0,  26,  19,  10,  13, 489,   9,   3,\n",
            "          6,  31,  10,   6,   3,   2,   1,   8,  16,  13],\n",
            "       [  0,  28,   2,   3,   1,   0,   3,   3,   1,   0,   2,  29,   6,\n",
            "          1,   1,   2,   0,   2,   1,   1,   2,   3,   7],\n",
            "       [  0,  19,   4,   5,   5,   2,   3,   4,   2,   2,   6,   7,  47,\n",
            "          0,   3,   9,   2,   4,   3,   2,   0,   6,   7],\n",
            "       [  0,   0,   9,   4,   2,   1,   1,   4,   0,   2,   1,   3,   1,\n",
            "        104,   1,   0,   0,   0,   0,   0,   0,   1,   0],\n",
            "       [  0,   2,  12,   1,   6,   4,   8,   2,   0,  31,  22,   3,   2,\n",
            "          1, 122,   8,   2,   3,   0,   0,   1,   3,  15],\n",
            "       [  1,   2,   2,   4,   6,   0,   5,   4,   1,   2,   2,   0,   4,\n",
            "          2,   6,  49,   1,   1,   7,   0,   0,   0,   2],\n",
            "       [  0,   1,   4,   0,   1,   0,   0,   3,   2,   0,   3,   1,   2,\n",
            "          0,   0,   1,  26,   1,   3,   3,   1,   4,   3],\n",
            "       [  2,   3,   1,   2,   2,   0,   3,   0,   1,   0,   3,   0,   5,\n",
            "          0,   0,   4,   1,  17,   0,   0,   1,   0,   0],\n",
            "       [  1,   0,   1,   1,   1,   0,   0,   0,   2,   0,   1,   0,   0,\n",
            "          0,   1,   0,   3,   0,   2,   6,   1,   0,   0],\n",
            "       [  0,   0,   0,   0,   0,   0,   0,   3,   3,   1,   2,   2,   0,\n",
            "          0,   2,   0,   1,   0,   2,  16,   2,   0,   2],\n",
            "       [  0,  23,  75,  22,  18,   3,  35,  60,  29,  70, 143,  16,  25,\n",
            "         28,  26,   7,  13,  14,   5,   6,  70,  21,  18],\n",
            "       [  0,   4,   3,  13,   6,   0,  10,  21,   8,  12,  15,   6,   7,\n",
            "          0,   3,   3,   6,   1,   1,   2,   7,  38,   8],\n",
            "       [  0,   5,   6,   7,   8,   2,   5,   5,   1,   6,  10,  12,   0,\n",
            "          0,  11,   3,   2,   1,   0,   1,   1,   4,  65]])]}\n",
            "classification_reports: {'valid': ['                       precision    recall  f1-score   support\\n\\n        anticipazione       0.12      0.33      0.18         3\\n                causa       0.31      0.40      0.35        20\\n             commento       0.24      0.20      0.22        44\\n             conferma       0.10      0.25      0.15        12\\n            confronto       0.26      0.58      0.36        12\\n       considerazione       0.09      0.25      0.13         4\\n     contrapposizione       0.37      0.68      0.47        28\\n          descrizione       0.69      0.50      0.58       139\\ndichiarazione_intenti       0.24      0.50      0.32        22\\n     generalizzazione       0.18      0.10      0.13        39\\n             giudizio       0.58      0.47      0.52       122\\n      giustificazione       0.28      0.40      0.33        25\\n         implicazione       0.23      0.31      0.26        26\\n         non_risposta       0.67      0.74      0.70        27\\n             opinione       0.48      0.65      0.55        48\\n          possibilita       0.27      0.39      0.32        18\\n         prescrizione       0.32      0.38      0.34        16\\n           previsione       0.31      0.58      0.41        24\\n             proposta       0.27      0.50      0.35         8\\nriferimento_obiettivo       0.20      0.36      0.26        14\\n              sancire       0.50      0.14      0.22       155\\n       specificazione       0.31      0.39      0.34        38\\n          valutazione       0.36      0.34      0.35        44\\n\\n             accuracy                           0.39       888\\n            macro avg       0.32      0.41      0.34       888\\n         weighted avg       0.44      0.39      0.39       888\\n'], 'test': ['                       precision    recall  f1-score   support\\n\\n        anticipazione       0.00      0.00      0.00        12\\n                causa       0.24      0.40      0.30       119\\n             commento       0.15      0.17      0.16       197\\n             conferma       0.15      0.38      0.21        58\\n            confronto       0.27      0.47      0.34       106\\n       considerazione       0.04      0.12      0.06         8\\n     contrapposizione       0.39      0.63      0.48       137\\n          descrizione       0.69      0.42      0.52       831\\ndichiarazione_intenti       0.23      0.51      0.32        53\\n     generalizzazione       0.09      0.16      0.12       126\\n             giudizio       0.53      0.66      0.59       736\\n      giustificazione       0.20      0.30      0.24        98\\n         implicazione       0.36      0.33      0.34       142\\n         non_risposta       0.64      0.78      0.70       134\\n             opinione       0.48      0.49      0.48       248\\n          possibilita       0.37      0.49      0.42       101\\n         prescrizione       0.32      0.44      0.37        59\\n           previsione       0.25      0.38      0.30        45\\n             proposta       0.05      0.10      0.07        20\\nriferimento_obiettivo       0.27      0.44      0.34        36\\n              sancire       0.54      0.10      0.16       727\\n       specificazione       0.27      0.22      0.24       174\\n          valutazione       0.34      0.42      0.38       155\\n\\n             accuracy                           0.40      4322\\n            macro avg       0.30      0.37      0.31      4322\\n         weighted avg       0.46      0.40      0.39      4322\\n']}\n"
          ],
          "name": "stdout"
        }
      ]
    },
    {
      "cell_type": "code",
      "metadata": {
        "id": "INf7MwGYfpUx",
        "outputId": "5d3d0a3c-e8f3-4a81-cb37-261daceeb84f",
        "colab": {
          "base_uri": "https://localhost:8080/",
          "height": 1000
        }
      },
      "source": [
        "# Avvia esperimento\n",
        "exp.run()"
      ],
      "execution_count": null,
      "outputs": [
        {
          "output_type": "stream",
          "text": [
            "Token indices sequence length is longer than the specified maximum sequence length for this model (16 > 512). Running this sequence through the model will result in indexing errors\n",
            "Token indices sequence length is longer than the specified maximum sequence length for this model (27 > 512). Running this sequence through the model will result in indexing errors\n",
            "Token indices sequence length is longer than the specified maximum sequence length for this model (26 > 512). Running this sequence through the model will result in indexing errors\n",
            "Token indices sequence length is longer than the specified maximum sequence length for this model (25 > 512). Running this sequence through the model will result in indexing errors\n",
            "Some weights of the model checkpoint at dbmdz/bert-base-italian-xxl-uncased were not used when initializing BertForSequenceClassification: ['cls.predictions.bias', 'cls.predictions.transform.dense.weight', 'cls.predictions.transform.dense.bias', 'cls.predictions.transform.LayerNorm.weight', 'cls.predictions.transform.LayerNorm.bias', 'cls.predictions.decoder.weight', 'cls.predictions.decoder.bias', 'cls.seq_relationship.weight', 'cls.seq_relationship.bias']\n",
            "- This IS expected if you are initializing BertForSequenceClassification from the checkpoint of a model trained on another task or with another architecture (e.g. initializing a BertForSequenceClassification model from a BertForPretraining model).\n",
            "- This IS NOT expected if you are initializing BertForSequenceClassification from the checkpoint of a model that you expect to be exactly identical (initializing a BertForSequenceClassification model from a BertForSequenceClassification model).\n",
            "Some weights of BertForSequenceClassification were not initialized from the model checkpoint at dbmdz/bert-base-italian-xxl-uncased and are newly initialized: ['classifier.weight', 'classifier.bias']\n",
            "You should probably TRAIN this model on a down-stream task to be able to use it for predictions and inference.\n"
          ],
          "name": "stderr"
        },
        {
          "output_type": "stream",
          "text": [
            "dbmdz/bert-base-italian-xxl-uncased/2020-09-14_11:13:26 BertClfier - lr: 1e-06\n"
          ],
          "name": "stdout"
        },
        {
          "output_type": "display_data",
          "data": {
            "text/html": [
              ""
            ],
            "text/plain": [
              "<IPython.core.display.HTML object>"
            ]
          },
          "metadata": {
            "tags": []
          }
        },
        {
          "output_type": "stream",
          "text": [
            "Token indices sequence length is longer than the specified maximum sequence length for this model (27 > 512). Running this sequence through the model will result in indexing errors\n",
            "Token indices sequence length is longer than the specified maximum sequence length for this model (26 > 512). Running this sequence through the model will result in indexing errors\n",
            "Token indices sequence length is longer than the specified maximum sequence length for this model (26 > 512). Running this sequence through the model will result in indexing errors\n"
          ],
          "name": "stderr"
        },
        {
          "output_type": "display_data",
          "data": {
            "text/html": [
              ""
            ],
            "text/plain": [
              "<IPython.core.display.HTML object>"
            ]
          },
          "metadata": {
            "tags": []
          }
        },
        {
          "output_type": "stream",
          "text": [
            "Token indices sequence length is longer than the specified maximum sequence length for this model (25 > 512). Running this sequence through the model will result in indexing errors\n"
          ],
          "name": "stderr"
        },
        {
          "output_type": "stream",
          "text": [
            "Better model found at epoch 0 with valid_loss value: 3.161119222640991.\n"
          ],
          "name": "stdout"
        },
        {
          "output_type": "display_data",
          "data": {
            "text/html": [
              ""
            ],
            "text/plain": [
              "<IPython.core.display.HTML object>"
            ]
          },
          "metadata": {
            "tags": []
          }
        },
        {
          "output_type": "stream",
          "text": [
            "Token indices sequence length is longer than the specified maximum sequence length for this model (16 > 512). Running this sequence through the model will result in indexing errors\n"
          ],
          "name": "stderr"
        },
        {
          "output_type": "display_data",
          "data": {
            "text/html": [
              ""
            ],
            "text/plain": [
              "<IPython.core.display.HTML object>"
            ]
          },
          "metadata": {
            "tags": []
          }
        },
        {
          "output_type": "stream",
          "text": [
            "Token indices sequence length is longer than the specified maximum sequence length for this model (25 > 512). Running this sequence through the model will result in indexing errors\n"
          ],
          "name": "stderr"
        },
        {
          "output_type": "stream",
          "text": [
            "Better model found at epoch 1 with valid_loss value: 3.1372101306915283.\n"
          ],
          "name": "stdout"
        },
        {
          "output_type": "display_data",
          "data": {
            "text/html": [
              ""
            ],
            "text/plain": [
              "<IPython.core.display.HTML object>"
            ]
          },
          "metadata": {
            "tags": []
          }
        },
        {
          "output_type": "stream",
          "text": [
            "Token indices sequence length is longer than the specified maximum sequence length for this model (26 > 512). Running this sequence through the model will result in indexing errors\n",
            "Token indices sequence length is longer than the specified maximum sequence length for this model (27 > 512). Running this sequence through the model will result in indexing errors\n"
          ],
          "name": "stderr"
        },
        {
          "output_type": "display_data",
          "data": {
            "text/html": [
              ""
            ],
            "text/plain": [
              "<IPython.core.display.HTML object>"
            ]
          },
          "metadata": {
            "tags": []
          }
        },
        {
          "output_type": "stream",
          "text": [
            "Token indices sequence length is longer than the specified maximum sequence length for this model (25 > 512). Running this sequence through the model will result in indexing errors\n"
          ],
          "name": "stderr"
        },
        {
          "output_type": "stream",
          "text": [
            "Better model found at epoch 2 with valid_loss value: 3.1197497844696045.\n"
          ],
          "name": "stdout"
        },
        {
          "output_type": "display_data",
          "data": {
            "text/html": [
              ""
            ],
            "text/plain": [
              "<IPython.core.display.HTML object>"
            ]
          },
          "metadata": {
            "tags": []
          }
        },
        {
          "output_type": "stream",
          "text": [
            "Token indices sequence length is longer than the specified maximum sequence length for this model (27 > 512). Running this sequence through the model will result in indexing errors\n",
            "Token indices sequence length is longer than the specified maximum sequence length for this model (26 > 512). Running this sequence through the model will result in indexing errors\n",
            "Token indices sequence length is longer than the specified maximum sequence length for this model (16 > 512). Running this sequence through the model will result in indexing errors\n"
          ],
          "name": "stderr"
        },
        {
          "output_type": "display_data",
          "data": {
            "text/html": [
              ""
            ],
            "text/plain": [
              "<IPython.core.display.HTML object>"
            ]
          },
          "metadata": {
            "tags": []
          }
        },
        {
          "output_type": "stream",
          "text": [
            "Token indices sequence length is longer than the specified maximum sequence length for this model (25 > 512). Running this sequence through the model will result in indexing errors\n"
          ],
          "name": "stderr"
        },
        {
          "output_type": "stream",
          "text": [
            "Better model found at epoch 3 with valid_loss value: 3.105207681655884.\n"
          ],
          "name": "stdout"
        },
        {
          "output_type": "display_data",
          "data": {
            "text/html": [
              ""
            ],
            "text/plain": [
              "<IPython.core.display.HTML object>"
            ]
          },
          "metadata": {
            "tags": []
          }
        },
        {
          "output_type": "display_data",
          "data": {
            "text/html": [
              ""
            ],
            "text/plain": [
              "<IPython.core.display.HTML object>"
            ]
          },
          "metadata": {
            "tags": []
          }
        },
        {
          "output_type": "stream",
          "text": [
            "Token indices sequence length is longer than the specified maximum sequence length for this model (25 > 512). Running this sequence through the model will result in indexing errors\n"
          ],
          "name": "stderr"
        },
        {
          "output_type": "stream",
          "text": [
            "Better model found at epoch 4 with valid_loss value: 3.092620611190796.\n"
          ],
          "name": "stdout"
        },
        {
          "output_type": "display_data",
          "data": {
            "text/html": [
              ""
            ],
            "text/plain": [
              "<IPython.core.display.HTML object>"
            ]
          },
          "metadata": {
            "tags": []
          }
        },
        {
          "output_type": "stream",
          "text": [
            "Token indices sequence length is longer than the specified maximum sequence length for this model (26 > 512). Running this sequence through the model will result in indexing errors\n",
            "Token indices sequence length is longer than the specified maximum sequence length for this model (16 > 512). Running this sequence through the model will result in indexing errors\n",
            "Token indices sequence length is longer than the specified maximum sequence length for this model (27 > 512). Running this sequence through the model will result in indexing errors\n",
            "Token indices sequence length is longer than the specified maximum sequence length for this model (26 > 512). Running this sequence through the model will result in indexing errors\n",
            "Token indices sequence length is longer than the specified maximum sequence length for this model (16 > 512). Running this sequence through the model will result in indexing errors\n"
          ],
          "name": "stderr"
        },
        {
          "output_type": "display_data",
          "data": {
            "text/html": [
              ""
            ],
            "text/plain": [
              "<IPython.core.display.HTML object>"
            ]
          },
          "metadata": {
            "tags": []
          }
        },
        {
          "output_type": "stream",
          "text": [
            "Token indices sequence length is longer than the specified maximum sequence length for this model (25 > 512). Running this sequence through the model will result in indexing errors\n"
          ],
          "name": "stderr"
        },
        {
          "output_type": "stream",
          "text": [
            "Better model found at epoch 5 with valid_loss value: 3.0794880390167236.\n"
          ],
          "name": "stdout"
        },
        {
          "output_type": "display_data",
          "data": {
            "text/html": [
              ""
            ],
            "text/plain": [
              "<IPython.core.display.HTML object>"
            ]
          },
          "metadata": {
            "tags": []
          }
        },
        {
          "output_type": "stream",
          "text": [
            "Token indices sequence length is longer than the specified maximum sequence length for this model (27 > 512). Running this sequence through the model will result in indexing errors\n"
          ],
          "name": "stderr"
        },
        {
          "output_type": "display_data",
          "data": {
            "text/html": [
              ""
            ],
            "text/plain": [
              "<IPython.core.display.HTML object>"
            ]
          },
          "metadata": {
            "tags": []
          }
        },
        {
          "output_type": "stream",
          "text": [
            "Token indices sequence length is longer than the specified maximum sequence length for this model (25 > 512). Running this sequence through the model will result in indexing errors\n"
          ],
          "name": "stderr"
        },
        {
          "output_type": "stream",
          "text": [
            "Better model found at epoch 6 with valid_loss value: 3.0673487186431885.\n"
          ],
          "name": "stdout"
        },
        {
          "output_type": "display_data",
          "data": {
            "text/html": [
              ""
            ],
            "text/plain": [
              "<IPython.core.display.HTML object>"
            ]
          },
          "metadata": {
            "tags": []
          }
        },
        {
          "output_type": "stream",
          "text": [
            "Token indices sequence length is longer than the specified maximum sequence length for this model (16 > 512). Running this sequence through the model will result in indexing errors\n",
            "Token indices sequence length is longer than the specified maximum sequence length for this model (26 > 512). Running this sequence through the model will result in indexing errors\n",
            "Token indices sequence length is longer than the specified maximum sequence length for this model (27 > 512). Running this sequence through the model will result in indexing errors\n",
            "Token indices sequence length is longer than the specified maximum sequence length for this model (27 > 512). Running this sequence through the model will result in indexing errors\n",
            "Token indices sequence length is longer than the specified maximum sequence length for this model (26 > 512). Running this sequence through the model will result in indexing errors\n",
            "Token indices sequence length is longer than the specified maximum sequence length for this model (16 > 512). Running this sequence through the model will result in indexing errors\n",
            "Token indices sequence length is longer than the specified maximum sequence length for this model (27 > 512). Running this sequence through the model will result in indexing errors\n"
          ],
          "name": "stderr"
        },
        {
          "output_type": "display_data",
          "data": {
            "text/html": [
              ""
            ],
            "text/plain": [
              "<IPython.core.display.HTML object>"
            ]
          },
          "metadata": {
            "tags": []
          }
        },
        {
          "output_type": "stream",
          "text": [
            "Token indices sequence length is longer than the specified maximum sequence length for this model (25 > 512). Running this sequence through the model will result in indexing errors\n"
          ],
          "name": "stderr"
        },
        {
          "output_type": "stream",
          "text": [
            "Better model found at epoch 7 with valid_loss value: 3.0542373657226562.\n"
          ],
          "name": "stdout"
        },
        {
          "output_type": "display_data",
          "data": {
            "text/html": [
              ""
            ],
            "text/plain": [
              "<IPython.core.display.HTML object>"
            ]
          },
          "metadata": {
            "tags": []
          }
        },
        {
          "output_type": "stream",
          "text": [
            "Token indices sequence length is longer than the specified maximum sequence length for this model (26 > 512). Running this sequence through the model will result in indexing errors\n",
            "Token indices sequence length is longer than the specified maximum sequence length for this model (26 > 512). Running this sequence through the model will result in indexing errors\n"
          ],
          "name": "stderr"
        },
        {
          "output_type": "display_data",
          "data": {
            "text/html": [
              ""
            ],
            "text/plain": [
              "<IPython.core.display.HTML object>"
            ]
          },
          "metadata": {
            "tags": []
          }
        },
        {
          "output_type": "stream",
          "text": [
            "Token indices sequence length is longer than the specified maximum sequence length for this model (25 > 512). Running this sequence through the model will result in indexing errors\n"
          ],
          "name": "stderr"
        },
        {
          "output_type": "stream",
          "text": [
            "Better model found at epoch 8 with valid_loss value: 3.0397658348083496.\n"
          ],
          "name": "stdout"
        },
        {
          "output_type": "display_data",
          "data": {
            "text/html": [
              ""
            ],
            "text/plain": [
              "<IPython.core.display.HTML object>"
            ]
          },
          "metadata": {
            "tags": []
          }
        },
        {
          "output_type": "stream",
          "text": [
            "Token indices sequence length is longer than the specified maximum sequence length for this model (16 > 512). Running this sequence through the model will result in indexing errors\n",
            "Token indices sequence length is longer than the specified maximum sequence length for this model (16 > 512). Running this sequence through the model will result in indexing errors\n"
          ],
          "name": "stderr"
        },
        {
          "output_type": "display_data",
          "data": {
            "text/html": [
              ""
            ],
            "text/plain": [
              "<IPython.core.display.HTML object>"
            ]
          },
          "metadata": {
            "tags": []
          }
        },
        {
          "output_type": "stream",
          "text": [
            "Token indices sequence length is longer than the specified maximum sequence length for this model (25 > 512). Running this sequence through the model will result in indexing errors\n"
          ],
          "name": "stderr"
        },
        {
          "output_type": "stream",
          "text": [
            "Better model found at epoch 9 with valid_loss value: 3.025886297225952.\n"
          ],
          "name": "stdout"
        },
        {
          "output_type": "display_data",
          "data": {
            "text/html": [
              ""
            ],
            "text/plain": [
              "<IPython.core.display.HTML object>"
            ]
          },
          "metadata": {
            "tags": []
          }
        },
        {
          "output_type": "stream",
          "text": [
            "Token indices sequence length is longer than the specified maximum sequence length for this model (16 > 512). Running this sequence through the model will result in indexing errors\n",
            "Token indices sequence length is longer than the specified maximum sequence length for this model (26 > 512). Running this sequence through the model will result in indexing errors\n"
          ],
          "name": "stderr"
        },
        {
          "output_type": "display_data",
          "data": {
            "text/html": [
              ""
            ],
            "text/plain": [
              "<IPython.core.display.HTML object>"
            ]
          },
          "metadata": {
            "tags": []
          }
        },
        {
          "output_type": "stream",
          "text": [
            "Token indices sequence length is longer than the specified maximum sequence length for this model (25 > 512). Running this sequence through the model will result in indexing errors\n"
          ],
          "name": "stderr"
        },
        {
          "output_type": "stream",
          "text": [
            "Better model found at epoch 10 with valid_loss value: 3.010737895965576.\n"
          ],
          "name": "stdout"
        },
        {
          "output_type": "display_data",
          "data": {
            "text/html": [
              ""
            ],
            "text/plain": [
              "<IPython.core.display.HTML object>"
            ]
          },
          "metadata": {
            "tags": []
          }
        },
        {
          "output_type": "stream",
          "text": [
            "Token indices sequence length is longer than the specified maximum sequence length for this model (16 > 512). Running this sequence through the model will result in indexing errors\n",
            "Token indices sequence length is longer than the specified maximum sequence length for this model (26 > 512). Running this sequence through the model will result in indexing errors\n",
            "Token indices sequence length is longer than the specified maximum sequence length for this model (16 > 512). Running this sequence through the model will result in indexing errors\n",
            "Token indices sequence length is longer than the specified maximum sequence length for this model (27 > 512). Running this sequence through the model will result in indexing errors\n",
            "Token indices sequence length is longer than the specified maximum sequence length for this model (27 > 512). Running this sequence through the model will result in indexing errors\n",
            "Token indices sequence length is longer than the specified maximum sequence length for this model (26 > 512). Running this sequence through the model will result in indexing errors\n"
          ],
          "name": "stderr"
        },
        {
          "output_type": "display_data",
          "data": {
            "text/html": [
              ""
            ],
            "text/plain": [
              "<IPython.core.display.HTML object>"
            ]
          },
          "metadata": {
            "tags": []
          }
        },
        {
          "output_type": "stream",
          "text": [
            "Token indices sequence length is longer than the specified maximum sequence length for this model (25 > 512). Running this sequence through the model will result in indexing errors\n"
          ],
          "name": "stderr"
        },
        {
          "output_type": "stream",
          "text": [
            "Better model found at epoch 11 with valid_loss value: 2.9962611198425293.\n"
          ],
          "name": "stdout"
        },
        {
          "output_type": "display_data",
          "data": {
            "text/html": [
              ""
            ],
            "text/plain": [
              "<IPython.core.display.HTML object>"
            ]
          },
          "metadata": {
            "tags": []
          }
        },
        {
          "output_type": "stream",
          "text": [
            "Token indices sequence length is longer than the specified maximum sequence length for this model (27 > 512). Running this sequence through the model will result in indexing errors\n",
            "Token indices sequence length is longer than the specified maximum sequence length for this model (26 > 512). Running this sequence through the model will result in indexing errors\n"
          ],
          "name": "stderr"
        },
        {
          "output_type": "display_data",
          "data": {
            "text/html": [
              ""
            ],
            "text/plain": [
              "<IPython.core.display.HTML object>"
            ]
          },
          "metadata": {
            "tags": []
          }
        },
        {
          "output_type": "stream",
          "text": [
            "Token indices sequence length is longer than the specified maximum sequence length for this model (25 > 512). Running this sequence through the model will result in indexing errors\n"
          ],
          "name": "stderr"
        },
        {
          "output_type": "stream",
          "text": [
            "Better model found at epoch 12 with valid_loss value: 2.979525566101074.\n"
          ],
          "name": "stdout"
        },
        {
          "output_type": "display_data",
          "data": {
            "text/html": [
              ""
            ],
            "text/plain": [
              "<IPython.core.display.HTML object>"
            ]
          },
          "metadata": {
            "tags": []
          }
        },
        {
          "output_type": "stream",
          "text": [
            "Token indices sequence length is longer than the specified maximum sequence length for this model (27 > 512). Running this sequence through the model will result in indexing errors\n",
            "Token indices sequence length is longer than the specified maximum sequence length for this model (27 > 512). Running this sequence through the model will result in indexing errors\n",
            "Token indices sequence length is longer than the specified maximum sequence length for this model (16 > 512). Running this sequence through the model will result in indexing errors\n"
          ],
          "name": "stderr"
        },
        {
          "output_type": "display_data",
          "data": {
            "text/html": [
              ""
            ],
            "text/plain": [
              "<IPython.core.display.HTML object>"
            ]
          },
          "metadata": {
            "tags": []
          }
        },
        {
          "output_type": "stream",
          "text": [
            "Token indices sequence length is longer than the specified maximum sequence length for this model (25 > 512). Running this sequence through the model will result in indexing errors\n"
          ],
          "name": "stderr"
        },
        {
          "output_type": "stream",
          "text": [
            "Better model found at epoch 13 with valid_loss value: 2.9629054069519043.\n"
          ],
          "name": "stdout"
        },
        {
          "output_type": "display_data",
          "data": {
            "text/html": [
              ""
            ],
            "text/plain": [
              "<IPython.core.display.HTML object>"
            ]
          },
          "metadata": {
            "tags": []
          }
        },
        {
          "output_type": "stream",
          "text": [
            "Token indices sequence length is longer than the specified maximum sequence length for this model (27 > 512). Running this sequence through the model will result in indexing errors\n",
            "Token indices sequence length is longer than the specified maximum sequence length for this model (27 > 512). Running this sequence through the model will result in indexing errors\n"
          ],
          "name": "stderr"
        },
        {
          "output_type": "display_data",
          "data": {
            "text/html": [
              ""
            ],
            "text/plain": [
              "<IPython.core.display.HTML object>"
            ]
          },
          "metadata": {
            "tags": []
          }
        },
        {
          "output_type": "stream",
          "text": [
            "Token indices sequence length is longer than the specified maximum sequence length for this model (25 > 512). Running this sequence through the model will result in indexing errors\n"
          ],
          "name": "stderr"
        },
        {
          "output_type": "stream",
          "text": [
            "Better model found at epoch 14 with valid_loss value: 2.944563388824463.\n"
          ],
          "name": "stdout"
        },
        {
          "output_type": "display_data",
          "data": {
            "text/html": [
              ""
            ],
            "text/plain": [
              "<IPython.core.display.HTML object>"
            ]
          },
          "metadata": {
            "tags": []
          }
        },
        {
          "output_type": "stream",
          "text": [
            "Token indices sequence length is longer than the specified maximum sequence length for this model (26 > 512). Running this sequence through the model will result in indexing errors\n",
            "Token indices sequence length is longer than the specified maximum sequence length for this model (27 > 512). Running this sequence through the model will result in indexing errors\n",
            "Token indices sequence length is longer than the specified maximum sequence length for this model (27 > 512). Running this sequence through the model will result in indexing errors\n"
          ],
          "name": "stderr"
        },
        {
          "output_type": "display_data",
          "data": {
            "text/html": [
              ""
            ],
            "text/plain": [
              "<IPython.core.display.HTML object>"
            ]
          },
          "metadata": {
            "tags": []
          }
        },
        {
          "output_type": "stream",
          "text": [
            "Token indices sequence length is longer than the specified maximum sequence length for this model (25 > 512). Running this sequence through the model will result in indexing errors\n"
          ],
          "name": "stderr"
        },
        {
          "output_type": "stream",
          "text": [
            "Better model found at epoch 15 with valid_loss value: 2.9260776042938232.\n"
          ],
          "name": "stdout"
        },
        {
          "output_type": "display_data",
          "data": {
            "text/html": [
              ""
            ],
            "text/plain": [
              "<IPython.core.display.HTML object>"
            ]
          },
          "metadata": {
            "tags": []
          }
        },
        {
          "output_type": "stream",
          "text": [
            "Token indices sequence length is longer than the specified maximum sequence length for this model (27 > 512). Running this sequence through the model will result in indexing errors\n",
            "Token indices sequence length is longer than the specified maximum sequence length for this model (27 > 512). Running this sequence through the model will result in indexing errors\n",
            "Token indices sequence length is longer than the specified maximum sequence length for this model (27 > 512). Running this sequence through the model will result in indexing errors\n",
            "Token indices sequence length is longer than the specified maximum sequence length for this model (16 > 512). Running this sequence through the model will result in indexing errors\n"
          ],
          "name": "stderr"
        },
        {
          "output_type": "display_data",
          "data": {
            "text/html": [
              ""
            ],
            "text/plain": [
              "<IPython.core.display.HTML object>"
            ]
          },
          "metadata": {
            "tags": []
          }
        },
        {
          "output_type": "stream",
          "text": [
            "Token indices sequence length is longer than the specified maximum sequence length for this model (25 > 512). Running this sequence through the model will result in indexing errors\n"
          ],
          "name": "stderr"
        },
        {
          "output_type": "stream",
          "text": [
            "Better model found at epoch 16 with valid_loss value: 2.909438371658325.\n"
          ],
          "name": "stdout"
        },
        {
          "output_type": "display_data",
          "data": {
            "text/html": [
              ""
            ],
            "text/plain": [
              "<IPython.core.display.HTML object>"
            ]
          },
          "metadata": {
            "tags": []
          }
        },
        {
          "output_type": "stream",
          "text": [
            "Token indices sequence length is longer than the specified maximum sequence length for this model (27 > 512). Running this sequence through the model will result in indexing errors\n",
            "Token indices sequence length is longer than the specified maximum sequence length for this model (16 > 512). Running this sequence through the model will result in indexing errors\n",
            "Token indices sequence length is longer than the specified maximum sequence length for this model (27 > 512). Running this sequence through the model will result in indexing errors\n",
            "Token indices sequence length is longer than the specified maximum sequence length for this model (26 > 512). Running this sequence through the model will result in indexing errors\n"
          ],
          "name": "stderr"
        },
        {
          "output_type": "display_data",
          "data": {
            "text/html": [
              ""
            ],
            "text/plain": [
              "<IPython.core.display.HTML object>"
            ]
          },
          "metadata": {
            "tags": []
          }
        },
        {
          "output_type": "stream",
          "text": [
            "Token indices sequence length is longer than the specified maximum sequence length for this model (25 > 512). Running this sequence through the model will result in indexing errors\n"
          ],
          "name": "stderr"
        },
        {
          "output_type": "stream",
          "text": [
            "Better model found at epoch 17 with valid_loss value: 2.8906543254852295.\n"
          ],
          "name": "stdout"
        },
        {
          "output_type": "display_data",
          "data": {
            "text/html": [
              ""
            ],
            "text/plain": [
              "<IPython.core.display.HTML object>"
            ]
          },
          "metadata": {
            "tags": []
          }
        },
        {
          "output_type": "stream",
          "text": [
            "Token indices sequence length is longer than the specified maximum sequence length for this model (16 > 512). Running this sequence through the model will result in indexing errors\n"
          ],
          "name": "stderr"
        },
        {
          "output_type": "display_data",
          "data": {
            "text/html": [
              ""
            ],
            "text/plain": [
              "<IPython.core.display.HTML object>"
            ]
          },
          "metadata": {
            "tags": []
          }
        },
        {
          "output_type": "stream",
          "text": [
            "Token indices sequence length is longer than the specified maximum sequence length for this model (25 > 512). Running this sequence through the model will result in indexing errors\n"
          ],
          "name": "stderr"
        },
        {
          "output_type": "stream",
          "text": [
            "Better model found at epoch 18 with valid_loss value: 2.8714632987976074.\n"
          ],
          "name": "stdout"
        },
        {
          "output_type": "display_data",
          "data": {
            "text/html": [
              ""
            ],
            "text/plain": [
              "<IPython.core.display.HTML object>"
            ]
          },
          "metadata": {
            "tags": []
          }
        },
        {
          "output_type": "stream",
          "text": [
            "Token indices sequence length is longer than the specified maximum sequence length for this model (27 > 512). Running this sequence through the model will result in indexing errors\n"
          ],
          "name": "stderr"
        },
        {
          "output_type": "display_data",
          "data": {
            "text/html": [
              ""
            ],
            "text/plain": [
              "<IPython.core.display.HTML object>"
            ]
          },
          "metadata": {
            "tags": []
          }
        },
        {
          "output_type": "stream",
          "text": [
            "Token indices sequence length is longer than the specified maximum sequence length for this model (25 > 512). Running this sequence through the model will result in indexing errors\n"
          ],
          "name": "stderr"
        },
        {
          "output_type": "stream",
          "text": [
            "Better model found at epoch 19 with valid_loss value: 2.853869915008545.\n"
          ],
          "name": "stdout"
        },
        {
          "output_type": "display_data",
          "data": {
            "text/html": [
              ""
            ],
            "text/plain": [
              "<IPython.core.display.HTML object>"
            ]
          },
          "metadata": {
            "tags": []
          }
        },
        {
          "output_type": "stream",
          "text": [
            "Token indices sequence length is longer than the specified maximum sequence length for this model (27 > 512). Running this sequence through the model will result in indexing errors\n",
            "Token indices sequence length is longer than the specified maximum sequence length for this model (26 > 512). Running this sequence through the model will result in indexing errors\n",
            "Token indices sequence length is longer than the specified maximum sequence length for this model (27 > 512). Running this sequence through the model will result in indexing errors\n"
          ],
          "name": "stderr"
        },
        {
          "output_type": "display_data",
          "data": {
            "text/html": [
              ""
            ],
            "text/plain": [
              "<IPython.core.display.HTML object>"
            ]
          },
          "metadata": {
            "tags": []
          }
        },
        {
          "output_type": "stream",
          "text": [
            "Token indices sequence length is longer than the specified maximum sequence length for this model (25 > 512). Running this sequence through the model will result in indexing errors\n"
          ],
          "name": "stderr"
        },
        {
          "output_type": "stream",
          "text": [
            "Better model found at epoch 20 with valid_loss value: 2.8362767696380615.\n"
          ],
          "name": "stdout"
        },
        {
          "output_type": "display_data",
          "data": {
            "text/html": [
              ""
            ],
            "text/plain": [
              "<IPython.core.display.HTML object>"
            ]
          },
          "metadata": {
            "tags": []
          }
        },
        {
          "output_type": "stream",
          "text": [
            "Token indices sequence length is longer than the specified maximum sequence length for this model (27 > 512). Running this sequence through the model will result in indexing errors\n",
            "Token indices sequence length is longer than the specified maximum sequence length for this model (26 > 512). Running this sequence through the model will result in indexing errors\n",
            "Token indices sequence length is longer than the specified maximum sequence length for this model (27 > 512). Running this sequence through the model will result in indexing errors\n"
          ],
          "name": "stderr"
        },
        {
          "output_type": "display_data",
          "data": {
            "text/html": [
              ""
            ],
            "text/plain": [
              "<IPython.core.display.HTML object>"
            ]
          },
          "metadata": {
            "tags": []
          }
        },
        {
          "output_type": "stream",
          "text": [
            "Token indices sequence length is longer than the specified maximum sequence length for this model (25 > 512). Running this sequence through the model will result in indexing errors\n"
          ],
          "name": "stderr"
        },
        {
          "output_type": "stream",
          "text": [
            "Better model found at epoch 21 with valid_loss value: 2.8162224292755127.\n"
          ],
          "name": "stdout"
        },
        {
          "output_type": "display_data",
          "data": {
            "text/html": [
              ""
            ],
            "text/plain": [
              "<IPython.core.display.HTML object>"
            ]
          },
          "metadata": {
            "tags": []
          }
        },
        {
          "output_type": "stream",
          "text": [
            "Token indices sequence length is longer than the specified maximum sequence length for this model (26 > 512). Running this sequence through the model will result in indexing errors\n",
            "Token indices sequence length is longer than the specified maximum sequence length for this model (16 > 512). Running this sequence through the model will result in indexing errors\n"
          ],
          "name": "stderr"
        },
        {
          "output_type": "display_data",
          "data": {
            "text/html": [
              ""
            ],
            "text/plain": [
              "<IPython.core.display.HTML object>"
            ]
          },
          "metadata": {
            "tags": []
          }
        },
        {
          "output_type": "stream",
          "text": [
            "Token indices sequence length is longer than the specified maximum sequence length for this model (25 > 512). Running this sequence through the model will result in indexing errors\n"
          ],
          "name": "stderr"
        },
        {
          "output_type": "stream",
          "text": [
            "Better model found at epoch 22 with valid_loss value: 2.794771432876587.\n"
          ],
          "name": "stdout"
        },
        {
          "output_type": "display_data",
          "data": {
            "text/html": [
              ""
            ],
            "text/plain": [
              "<IPython.core.display.HTML object>"
            ]
          },
          "metadata": {
            "tags": []
          }
        },
        {
          "output_type": "stream",
          "text": [
            "Token indices sequence length is longer than the specified maximum sequence length for this model (27 > 512). Running this sequence through the model will result in indexing errors\n",
            "Token indices sequence length is longer than the specified maximum sequence length for this model (16 > 512). Running this sequence through the model will result in indexing errors\n",
            "Token indices sequence length is longer than the specified maximum sequence length for this model (27 > 512). Running this sequence through the model will result in indexing errors\n",
            "Token indices sequence length is longer than the specified maximum sequence length for this model (26 > 512). Running this sequence through the model will result in indexing errors\n"
          ],
          "name": "stderr"
        },
        {
          "output_type": "display_data",
          "data": {
            "text/html": [
              ""
            ],
            "text/plain": [
              "<IPython.core.display.HTML object>"
            ]
          },
          "metadata": {
            "tags": []
          }
        },
        {
          "output_type": "stream",
          "text": [
            "Token indices sequence length is longer than the specified maximum sequence length for this model (25 > 512). Running this sequence through the model will result in indexing errors\n"
          ],
          "name": "stderr"
        },
        {
          "output_type": "stream",
          "text": [
            "Better model found at epoch 23 with valid_loss value: 2.7731306552886963.\n"
          ],
          "name": "stdout"
        },
        {
          "output_type": "display_data",
          "data": {
            "text/html": [
              ""
            ],
            "text/plain": [
              "<IPython.core.display.HTML object>"
            ]
          },
          "metadata": {
            "tags": []
          }
        },
        {
          "output_type": "stream",
          "text": [
            "Token indices sequence length is longer than the specified maximum sequence length for this model (26 > 512). Running this sequence through the model will result in indexing errors\n",
            "Token indices sequence length is longer than the specified maximum sequence length for this model (27 > 512). Running this sequence through the model will result in indexing errors\n",
            "Token indices sequence length is longer than the specified maximum sequence length for this model (16 > 512). Running this sequence through the model will result in indexing errors\n"
          ],
          "name": "stderr"
        },
        {
          "output_type": "display_data",
          "data": {
            "text/html": [
              ""
            ],
            "text/plain": [
              "<IPython.core.display.HTML object>"
            ]
          },
          "metadata": {
            "tags": []
          }
        },
        {
          "output_type": "stream",
          "text": [
            "Token indices sequence length is longer than the specified maximum sequence length for this model (25 > 512). Running this sequence through the model will result in indexing errors\n"
          ],
          "name": "stderr"
        },
        {
          "output_type": "stream",
          "text": [
            "Better model found at epoch 24 with valid_loss value: 2.751709461212158.\n"
          ],
          "name": "stdout"
        },
        {
          "output_type": "display_data",
          "data": {
            "text/html": [
              ""
            ],
            "text/plain": [
              "<IPython.core.display.HTML object>"
            ]
          },
          "metadata": {
            "tags": []
          }
        },
        {
          "output_type": "stream",
          "text": [
            "Token indices sequence length is longer than the specified maximum sequence length for this model (16 > 512). Running this sequence through the model will result in indexing errors\n",
            "Token indices sequence length is longer than the specified maximum sequence length for this model (27 > 512). Running this sequence through the model will result in indexing errors\n"
          ],
          "name": "stderr"
        },
        {
          "output_type": "display_data",
          "data": {
            "text/html": [
              ""
            ],
            "text/plain": [
              "<IPython.core.display.HTML object>"
            ]
          },
          "metadata": {
            "tags": []
          }
        },
        {
          "output_type": "stream",
          "text": [
            "Token indices sequence length is longer than the specified maximum sequence length for this model (25 > 512). Running this sequence through the model will result in indexing errors\n"
          ],
          "name": "stderr"
        },
        {
          "output_type": "stream",
          "text": [
            "Better model found at epoch 25 with valid_loss value: 2.7320120334625244.\n"
          ],
          "name": "stdout"
        },
        {
          "output_type": "display_data",
          "data": {
            "text/html": [
              ""
            ],
            "text/plain": [
              "<IPython.core.display.HTML object>"
            ]
          },
          "metadata": {
            "tags": []
          }
        },
        {
          "output_type": "stream",
          "text": [
            "Token indices sequence length is longer than the specified maximum sequence length for this model (27 > 512). Running this sequence through the model will result in indexing errors\n",
            "Token indices sequence length is longer than the specified maximum sequence length for this model (26 > 512). Running this sequence through the model will result in indexing errors\n",
            "Token indices sequence length is longer than the specified maximum sequence length for this model (16 > 512). Running this sequence through the model will result in indexing errors\n",
            "Token indices sequence length is longer than the specified maximum sequence length for this model (26 > 512). Running this sequence through the model will result in indexing errors\n"
          ],
          "name": "stderr"
        },
        {
          "output_type": "display_data",
          "data": {
            "text/html": [
              ""
            ],
            "text/plain": [
              "<IPython.core.display.HTML object>"
            ]
          },
          "metadata": {
            "tags": []
          }
        },
        {
          "output_type": "stream",
          "text": [
            "Token indices sequence length is longer than the specified maximum sequence length for this model (25 > 512). Running this sequence through the model will result in indexing errors\n"
          ],
          "name": "stderr"
        },
        {
          "output_type": "stream",
          "text": [
            "Better model found at epoch 26 with valid_loss value: 2.7112302780151367.\n"
          ],
          "name": "stdout"
        },
        {
          "output_type": "display_data",
          "data": {
            "text/html": [
              ""
            ],
            "text/plain": [
              "<IPython.core.display.HTML object>"
            ]
          },
          "metadata": {
            "tags": []
          }
        },
        {
          "output_type": "stream",
          "text": [
            "Token indices sequence length is longer than the specified maximum sequence length for this model (26 > 512). Running this sequence through the model will result in indexing errors\n",
            "Token indices sequence length is longer than the specified maximum sequence length for this model (27 > 512). Running this sequence through the model will result in indexing errors\n",
            "Token indices sequence length is longer than the specified maximum sequence length for this model (16 > 512). Running this sequence through the model will result in indexing errors\n"
          ],
          "name": "stderr"
        },
        {
          "output_type": "display_data",
          "data": {
            "text/html": [
              ""
            ],
            "text/plain": [
              "<IPython.core.display.HTML object>"
            ]
          },
          "metadata": {
            "tags": []
          }
        },
        {
          "output_type": "stream",
          "text": [
            "Token indices sequence length is longer than the specified maximum sequence length for this model (25 > 512). Running this sequence through the model will result in indexing errors\n"
          ],
          "name": "stderr"
        },
        {
          "output_type": "stream",
          "text": [
            "Better model found at epoch 27 with valid_loss value: 2.691362142562866.\n"
          ],
          "name": "stdout"
        },
        {
          "output_type": "display_data",
          "data": {
            "text/html": [
              ""
            ],
            "text/plain": [
              "<IPython.core.display.HTML object>"
            ]
          },
          "metadata": {
            "tags": []
          }
        },
        {
          "output_type": "stream",
          "text": [
            "Token indices sequence length is longer than the specified maximum sequence length for this model (26 > 512). Running this sequence through the model will result in indexing errors\n",
            "Token indices sequence length is longer than the specified maximum sequence length for this model (27 > 512). Running this sequence through the model will result in indexing errors\n",
            "Token indices sequence length is longer than the specified maximum sequence length for this model (16 > 512). Running this sequence through the model will result in indexing errors\n",
            "Token indices sequence length is longer than the specified maximum sequence length for this model (26 > 512). Running this sequence through the model will result in indexing errors\n",
            "Token indices sequence length is longer than the specified maximum sequence length for this model (27 > 512). Running this sequence through the model will result in indexing errors\n"
          ],
          "name": "stderr"
        },
        {
          "output_type": "display_data",
          "data": {
            "text/html": [
              ""
            ],
            "text/plain": [
              "<IPython.core.display.HTML object>"
            ]
          },
          "metadata": {
            "tags": []
          }
        },
        {
          "output_type": "stream",
          "text": [
            "Token indices sequence length is longer than the specified maximum sequence length for this model (25 > 512). Running this sequence through the model will result in indexing errors\n"
          ],
          "name": "stderr"
        },
        {
          "output_type": "stream",
          "text": [
            "Better model found at epoch 28 with valid_loss value: 2.6714529991149902.\n"
          ],
          "name": "stdout"
        },
        {
          "output_type": "display_data",
          "data": {
            "text/html": [
              ""
            ],
            "text/plain": [
              "<IPython.core.display.HTML object>"
            ]
          },
          "metadata": {
            "tags": []
          }
        },
        {
          "output_type": "stream",
          "text": [
            "Token indices sequence length is longer than the specified maximum sequence length for this model (16 > 512). Running this sequence through the model will result in indexing errors\n",
            "Token indices sequence length is longer than the specified maximum sequence length for this model (27 > 512). Running this sequence through the model will result in indexing errors\n",
            "Token indices sequence length is longer than the specified maximum sequence length for this model (26 > 512). Running this sequence through the model will result in indexing errors\n",
            "Token indices sequence length is longer than the specified maximum sequence length for this model (16 > 512). Running this sequence through the model will result in indexing errors\n",
            "Token indices sequence length is longer than the specified maximum sequence length for this model (27 > 512). Running this sequence through the model will result in indexing errors\n"
          ],
          "name": "stderr"
        },
        {
          "output_type": "display_data",
          "data": {
            "text/html": [
              ""
            ],
            "text/plain": [
              "<IPython.core.display.HTML object>"
            ]
          },
          "metadata": {
            "tags": []
          }
        },
        {
          "output_type": "stream",
          "text": [
            "Token indices sequence length is longer than the specified maximum sequence length for this model (25 > 512). Running this sequence through the model will result in indexing errors\n"
          ],
          "name": "stderr"
        },
        {
          "output_type": "stream",
          "text": [
            "Better model found at epoch 29 with valid_loss value: 2.6518607139587402.\n"
          ],
          "name": "stdout"
        },
        {
          "output_type": "display_data",
          "data": {
            "text/html": [
              ""
            ],
            "text/plain": [
              "<IPython.core.display.HTML object>"
            ]
          },
          "metadata": {
            "tags": []
          }
        },
        {
          "output_type": "stream",
          "text": [
            "Token indices sequence length is longer than the specified maximum sequence length for this model (27 > 512). Running this sequence through the model will result in indexing errors\n",
            "Token indices sequence length is longer than the specified maximum sequence length for this model (27 > 512). Running this sequence through the model will result in indexing errors\n"
          ],
          "name": "stderr"
        },
        {
          "output_type": "display_data",
          "data": {
            "text/html": [
              ""
            ],
            "text/plain": [
              "<IPython.core.display.HTML object>"
            ]
          },
          "metadata": {
            "tags": []
          }
        },
        {
          "output_type": "stream",
          "text": [
            "Token indices sequence length is longer than the specified maximum sequence length for this model (25 > 512). Running this sequence through the model will result in indexing errors\n"
          ],
          "name": "stderr"
        },
        {
          "output_type": "stream",
          "text": [
            "Better model found at epoch 30 with valid_loss value: 2.632439374923706.\n"
          ],
          "name": "stdout"
        },
        {
          "output_type": "display_data",
          "data": {
            "text/html": [
              ""
            ],
            "text/plain": [
              "<IPython.core.display.HTML object>"
            ]
          },
          "metadata": {
            "tags": []
          }
        },
        {
          "output_type": "stream",
          "text": [
            "Token indices sequence length is longer than the specified maximum sequence length for this model (16 > 512). Running this sequence through the model will result in indexing errors\n",
            "Token indices sequence length is longer than the specified maximum sequence length for this model (26 > 512). Running this sequence through the model will result in indexing errors\n",
            "Token indices sequence length is longer than the specified maximum sequence length for this model (16 > 512). Running this sequence through the model will result in indexing errors\n"
          ],
          "name": "stderr"
        },
        {
          "output_type": "display_data",
          "data": {
            "text/html": [
              ""
            ],
            "text/plain": [
              "<IPython.core.display.HTML object>"
            ]
          },
          "metadata": {
            "tags": []
          }
        },
        {
          "output_type": "stream",
          "text": [
            "Token indices sequence length is longer than the specified maximum sequence length for this model (25 > 512). Running this sequence through the model will result in indexing errors\n"
          ],
          "name": "stderr"
        },
        {
          "output_type": "stream",
          "text": [
            "Better model found at epoch 31 with valid_loss value: 2.6121346950531006.\n"
          ],
          "name": "stdout"
        },
        {
          "output_type": "display_data",
          "data": {
            "text/html": [
              ""
            ],
            "text/plain": [
              "<IPython.core.display.HTML object>"
            ]
          },
          "metadata": {
            "tags": []
          }
        },
        {
          "output_type": "stream",
          "text": [
            "Token indices sequence length is longer than the specified maximum sequence length for this model (16 > 512). Running this sequence through the model will result in indexing errors\n",
            "Token indices sequence length is longer than the specified maximum sequence length for this model (26 > 512). Running this sequence through the model will result in indexing errors\n",
            "Token indices sequence length is longer than the specified maximum sequence length for this model (27 > 512). Running this sequence through the model will result in indexing errors\n"
          ],
          "name": "stderr"
        },
        {
          "output_type": "display_data",
          "data": {
            "text/html": [
              ""
            ],
            "text/plain": [
              "<IPython.core.display.HTML object>"
            ]
          },
          "metadata": {
            "tags": []
          }
        },
        {
          "output_type": "stream",
          "text": [
            "Token indices sequence length is longer than the specified maximum sequence length for this model (25 > 512). Running this sequence through the model will result in indexing errors\n"
          ],
          "name": "stderr"
        },
        {
          "output_type": "stream",
          "text": [
            "Better model found at epoch 32 with valid_loss value: 2.5934488773345947.\n"
          ],
          "name": "stdout"
        },
        {
          "output_type": "display_data",
          "data": {
            "text/html": [
              ""
            ],
            "text/plain": [
              "<IPython.core.display.HTML object>"
            ]
          },
          "metadata": {
            "tags": []
          }
        },
        {
          "output_type": "stream",
          "text": [
            "Token indices sequence length is longer than the specified maximum sequence length for this model (27 > 512). Running this sequence through the model will result in indexing errors\n",
            "Token indices sequence length is longer than the specified maximum sequence length for this model (26 > 512). Running this sequence through the model will result in indexing errors\n",
            "Token indices sequence length is longer than the specified maximum sequence length for this model (27 > 512). Running this sequence through the model will result in indexing errors\n"
          ],
          "name": "stderr"
        },
        {
          "output_type": "display_data",
          "data": {
            "text/html": [
              ""
            ],
            "text/plain": [
              "<IPython.core.display.HTML object>"
            ]
          },
          "metadata": {
            "tags": []
          }
        },
        {
          "output_type": "stream",
          "text": [
            "Token indices sequence length is longer than the specified maximum sequence length for this model (25 > 512). Running this sequence through the model will result in indexing errors\n"
          ],
          "name": "stderr"
        },
        {
          "output_type": "stream",
          "text": [
            "Better model found at epoch 33 with valid_loss value: 2.575946807861328.\n"
          ],
          "name": "stdout"
        },
        {
          "output_type": "display_data",
          "data": {
            "text/html": [
              ""
            ],
            "text/plain": [
              "<IPython.core.display.HTML object>"
            ]
          },
          "metadata": {
            "tags": []
          }
        },
        {
          "output_type": "stream",
          "text": [
            "Token indices sequence length is longer than the specified maximum sequence length for this model (26 > 512). Running this sequence through the model will result in indexing errors\n",
            "Token indices sequence length is longer than the specified maximum sequence length for this model (16 > 512). Running this sequence through the model will result in indexing errors\n"
          ],
          "name": "stderr"
        },
        {
          "output_type": "display_data",
          "data": {
            "text/html": [
              ""
            ],
            "text/plain": [
              "<IPython.core.display.HTML object>"
            ]
          },
          "metadata": {
            "tags": []
          }
        },
        {
          "output_type": "stream",
          "text": [
            "Token indices sequence length is longer than the specified maximum sequence length for this model (25 > 512). Running this sequence through the model will result in indexing errors\n"
          ],
          "name": "stderr"
        },
        {
          "output_type": "stream",
          "text": [
            "Better model found at epoch 34 with valid_loss value: 2.5586464405059814.\n"
          ],
          "name": "stdout"
        },
        {
          "output_type": "display_data",
          "data": {
            "text/html": [
              ""
            ],
            "text/plain": [
              "<IPython.core.display.HTML object>"
            ]
          },
          "metadata": {
            "tags": []
          }
        },
        {
          "output_type": "stream",
          "text": [
            "Token indices sequence length is longer than the specified maximum sequence length for this model (16 > 512). Running this sequence through the model will result in indexing errors\n",
            "Token indices sequence length is longer than the specified maximum sequence length for this model (16 > 512). Running this sequence through the model will result in indexing errors\n"
          ],
          "name": "stderr"
        },
        {
          "output_type": "display_data",
          "data": {
            "text/html": [
              ""
            ],
            "text/plain": [
              "<IPython.core.display.HTML object>"
            ]
          },
          "metadata": {
            "tags": []
          }
        },
        {
          "output_type": "stream",
          "text": [
            "Token indices sequence length is longer than the specified maximum sequence length for this model (25 > 512). Running this sequence through the model will result in indexing errors\n"
          ],
          "name": "stderr"
        },
        {
          "output_type": "stream",
          "text": [
            "Better model found at epoch 35 with valid_loss value: 2.5450921058654785.\n"
          ],
          "name": "stdout"
        },
        {
          "output_type": "display_data",
          "data": {
            "text/html": [
              ""
            ],
            "text/plain": [
              "<IPython.core.display.HTML object>"
            ]
          },
          "metadata": {
            "tags": []
          }
        },
        {
          "output_type": "stream",
          "text": [
            "Token indices sequence length is longer than the specified maximum sequence length for this model (27 > 512). Running this sequence through the model will result in indexing errors\n",
            "Token indices sequence length is longer than the specified maximum sequence length for this model (26 > 512). Running this sequence through the model will result in indexing errors\n",
            "Token indices sequence length is longer than the specified maximum sequence length for this model (16 > 512). Running this sequence through the model will result in indexing errors\n"
          ],
          "name": "stderr"
        },
        {
          "output_type": "display_data",
          "data": {
            "text/html": [
              ""
            ],
            "text/plain": [
              "<IPython.core.display.HTML object>"
            ]
          },
          "metadata": {
            "tags": []
          }
        },
        {
          "output_type": "stream",
          "text": [
            "Token indices sequence length is longer than the specified maximum sequence length for this model (25 > 512). Running this sequence through the model will result in indexing errors\n"
          ],
          "name": "stderr"
        },
        {
          "output_type": "stream",
          "text": [
            "Better model found at epoch 36 with valid_loss value: 2.5286056995391846.\n"
          ],
          "name": "stdout"
        },
        {
          "output_type": "display_data",
          "data": {
            "text/html": [
              ""
            ],
            "text/plain": [
              "<IPython.core.display.HTML object>"
            ]
          },
          "metadata": {
            "tags": []
          }
        },
        {
          "output_type": "stream",
          "text": [
            "Token indices sequence length is longer than the specified maximum sequence length for this model (27 > 512). Running this sequence through the model will result in indexing errors\n",
            "Token indices sequence length is longer than the specified maximum sequence length for this model (27 > 512). Running this sequence through the model will result in indexing errors\n",
            "Token indices sequence length is longer than the specified maximum sequence length for this model (26 > 512). Running this sequence through the model will result in indexing errors\n"
          ],
          "name": "stderr"
        },
        {
          "output_type": "display_data",
          "data": {
            "text/html": [
              ""
            ],
            "text/plain": [
              "<IPython.core.display.HTML object>"
            ]
          },
          "metadata": {
            "tags": []
          }
        },
        {
          "output_type": "stream",
          "text": [
            "Token indices sequence length is longer than the specified maximum sequence length for this model (25 > 512). Running this sequence through the model will result in indexing errors\n"
          ],
          "name": "stderr"
        },
        {
          "output_type": "stream",
          "text": [
            "Better model found at epoch 37 with valid_loss value: 2.513824462890625.\n"
          ],
          "name": "stdout"
        },
        {
          "output_type": "display_data",
          "data": {
            "text/html": [
              ""
            ],
            "text/plain": [
              "<IPython.core.display.HTML object>"
            ]
          },
          "metadata": {
            "tags": []
          }
        },
        {
          "output_type": "stream",
          "text": [
            "Token indices sequence length is longer than the specified maximum sequence length for this model (16 > 512). Running this sequence through the model will result in indexing errors\n",
            "Token indices sequence length is longer than the specified maximum sequence length for this model (27 > 512). Running this sequence through the model will result in indexing errors\n",
            "Token indices sequence length is longer than the specified maximum sequence length for this model (16 > 512). Running this sequence through the model will result in indexing errors\n"
          ],
          "name": "stderr"
        },
        {
          "output_type": "display_data",
          "data": {
            "text/html": [
              ""
            ],
            "text/plain": [
              "<IPython.core.display.HTML object>"
            ]
          },
          "metadata": {
            "tags": []
          }
        },
        {
          "output_type": "stream",
          "text": [
            "Token indices sequence length is longer than the specified maximum sequence length for this model (25 > 512). Running this sequence through the model will result in indexing errors\n"
          ],
          "name": "stderr"
        },
        {
          "output_type": "stream",
          "text": [
            "Better model found at epoch 38 with valid_loss value: 2.498415231704712.\n"
          ],
          "name": "stdout"
        },
        {
          "output_type": "display_data",
          "data": {
            "text/html": [
              ""
            ],
            "text/plain": [
              "<IPython.core.display.HTML object>"
            ]
          },
          "metadata": {
            "tags": []
          }
        },
        {
          "output_type": "stream",
          "text": [
            "Token indices sequence length is longer than the specified maximum sequence length for this model (26 > 512). Running this sequence through the model will result in indexing errors\n",
            "Token indices sequence length is longer than the specified maximum sequence length for this model (27 > 512). Running this sequence through the model will result in indexing errors\n",
            "Token indices sequence length is longer than the specified maximum sequence length for this model (26 > 512). Running this sequence through the model will result in indexing errors\n"
          ],
          "name": "stderr"
        },
        {
          "output_type": "display_data",
          "data": {
            "text/html": [
              ""
            ],
            "text/plain": [
              "<IPython.core.display.HTML object>"
            ]
          },
          "metadata": {
            "tags": []
          }
        },
        {
          "output_type": "stream",
          "text": [
            "Token indices sequence length is longer than the specified maximum sequence length for this model (25 > 512). Running this sequence through the model will result in indexing errors\n"
          ],
          "name": "stderr"
        },
        {
          "output_type": "stream",
          "text": [
            "Better model found at epoch 39 with valid_loss value: 2.484233856201172.\n"
          ],
          "name": "stdout"
        },
        {
          "output_type": "display_data",
          "data": {
            "text/html": [
              ""
            ],
            "text/plain": [
              "<IPython.core.display.HTML object>"
            ]
          },
          "metadata": {
            "tags": []
          }
        },
        {
          "output_type": "stream",
          "text": [
            "Token indices sequence length is longer than the specified maximum sequence length for this model (16 > 512). Running this sequence through the model will result in indexing errors\n",
            "Token indices sequence length is longer than the specified maximum sequence length for this model (27 > 512). Running this sequence through the model will result in indexing errors\n"
          ],
          "name": "stderr"
        },
        {
          "output_type": "display_data",
          "data": {
            "text/html": [
              ""
            ],
            "text/plain": [
              "<IPython.core.display.HTML object>"
            ]
          },
          "metadata": {
            "tags": []
          }
        },
        {
          "output_type": "stream",
          "text": [
            "Token indices sequence length is longer than the specified maximum sequence length for this model (25 > 512). Running this sequence through the model will result in indexing errors\n"
          ],
          "name": "stderr"
        },
        {
          "output_type": "stream",
          "text": [
            "Better model found at epoch 40 with valid_loss value: 2.4713752269744873.\n"
          ],
          "name": "stdout"
        },
        {
          "output_type": "display_data",
          "data": {
            "text/html": [
              ""
            ],
            "text/plain": [
              "<IPython.core.display.HTML object>"
            ]
          },
          "metadata": {
            "tags": []
          }
        },
        {
          "output_type": "stream",
          "text": [
            "Token indices sequence length is longer than the specified maximum sequence length for this model (26 > 512). Running this sequence through the model will result in indexing errors\n",
            "Token indices sequence length is longer than the specified maximum sequence length for this model (16 > 512). Running this sequence through the model will result in indexing errors\n",
            "Token indices sequence length is longer than the specified maximum sequence length for this model (27 > 512). Running this sequence through the model will result in indexing errors\n"
          ],
          "name": "stderr"
        },
        {
          "output_type": "display_data",
          "data": {
            "text/html": [
              ""
            ],
            "text/plain": [
              "<IPython.core.display.HTML object>"
            ]
          },
          "metadata": {
            "tags": []
          }
        },
        {
          "output_type": "stream",
          "text": [
            "Token indices sequence length is longer than the specified maximum sequence length for this model (25 > 512). Running this sequence through the model will result in indexing errors\n"
          ],
          "name": "stderr"
        },
        {
          "output_type": "stream",
          "text": [
            "Better model found at epoch 41 with valid_loss value: 2.456313371658325.\n"
          ],
          "name": "stdout"
        },
        {
          "output_type": "display_data",
          "data": {
            "text/html": [
              ""
            ],
            "text/plain": [
              "<IPython.core.display.HTML object>"
            ]
          },
          "metadata": {
            "tags": []
          }
        },
        {
          "output_type": "stream",
          "text": [
            "Token indices sequence length is longer than the specified maximum sequence length for this model (27 > 512). Running this sequence through the model will result in indexing errors\n",
            "Token indices sequence length is longer than the specified maximum sequence length for this model (16 > 512). Running this sequence through the model will result in indexing errors\n"
          ],
          "name": "stderr"
        },
        {
          "output_type": "display_data",
          "data": {
            "text/html": [
              ""
            ],
            "text/plain": [
              "<IPython.core.display.HTML object>"
            ]
          },
          "metadata": {
            "tags": []
          }
        },
        {
          "output_type": "stream",
          "text": [
            "Token indices sequence length is longer than the specified maximum sequence length for this model (25 > 512). Running this sequence through the model will result in indexing errors\n"
          ],
          "name": "stderr"
        },
        {
          "output_type": "stream",
          "text": [
            "Better model found at epoch 42 with valid_loss value: 2.4439027309417725.\n"
          ],
          "name": "stdout"
        },
        {
          "output_type": "display_data",
          "data": {
            "text/html": [
              ""
            ],
            "text/plain": [
              "<IPython.core.display.HTML object>"
            ]
          },
          "metadata": {
            "tags": []
          }
        },
        {
          "output_type": "stream",
          "text": [
            "Token indices sequence length is longer than the specified maximum sequence length for this model (16 > 512). Running this sequence through the model will result in indexing errors\n",
            "Token indices sequence length is longer than the specified maximum sequence length for this model (16 > 512). Running this sequence through the model will result in indexing errors\n",
            "Token indices sequence length is longer than the specified maximum sequence length for this model (26 > 512). Running this sequence through the model will result in indexing errors\n",
            "Token indices sequence length is longer than the specified maximum sequence length for this model (26 > 512). Running this sequence through the model will result in indexing errors\n"
          ],
          "name": "stderr"
        },
        {
          "output_type": "display_data",
          "data": {
            "text/html": [
              ""
            ],
            "text/plain": [
              "<IPython.core.display.HTML object>"
            ]
          },
          "metadata": {
            "tags": []
          }
        },
        {
          "output_type": "stream",
          "text": [
            "Token indices sequence length is longer than the specified maximum sequence length for this model (25 > 512). Running this sequence through the model will result in indexing errors\n"
          ],
          "name": "stderr"
        },
        {
          "output_type": "stream",
          "text": [
            "Better model found at epoch 43 with valid_loss value: 2.4301750659942627.\n"
          ],
          "name": "stdout"
        },
        {
          "output_type": "display_data",
          "data": {
            "text/html": [
              ""
            ],
            "text/plain": [
              "<IPython.core.display.HTML object>"
            ]
          },
          "metadata": {
            "tags": []
          }
        },
        {
          "output_type": "stream",
          "text": [
            "Token indices sequence length is longer than the specified maximum sequence length for this model (16 > 512). Running this sequence through the model will result in indexing errors\n",
            "Token indices sequence length is longer than the specified maximum sequence length for this model (26 > 512). Running this sequence through the model will result in indexing errors\n",
            "Token indices sequence length is longer than the specified maximum sequence length for this model (27 > 512). Running this sequence through the model will result in indexing errors\n",
            "Token indices sequence length is longer than the specified maximum sequence length for this model (27 > 512). Running this sequence through the model will result in indexing errors\n"
          ],
          "name": "stderr"
        },
        {
          "output_type": "display_data",
          "data": {
            "text/html": [
              ""
            ],
            "text/plain": [
              "<IPython.core.display.HTML object>"
            ]
          },
          "metadata": {
            "tags": []
          }
        },
        {
          "output_type": "stream",
          "text": [
            "Token indices sequence length is longer than the specified maximum sequence length for this model (25 > 512). Running this sequence through the model will result in indexing errors\n"
          ],
          "name": "stderr"
        },
        {
          "output_type": "stream",
          "text": [
            "Better model found at epoch 44 with valid_loss value: 2.4162545204162598.\n"
          ],
          "name": "stdout"
        },
        {
          "output_type": "display_data",
          "data": {
            "text/html": [
              ""
            ],
            "text/plain": [
              "<IPython.core.display.HTML object>"
            ]
          },
          "metadata": {
            "tags": []
          }
        },
        {
          "output_type": "stream",
          "text": [
            "Token indices sequence length is longer than the specified maximum sequence length for this model (26 > 512). Running this sequence through the model will result in indexing errors\n",
            "Token indices sequence length is longer than the specified maximum sequence length for this model (16 > 512). Running this sequence through the model will result in indexing errors\n",
            "Token indices sequence length is longer than the specified maximum sequence length for this model (27 > 512). Running this sequence through the model will result in indexing errors\n"
          ],
          "name": "stderr"
        },
        {
          "output_type": "display_data",
          "data": {
            "text/html": [
              ""
            ],
            "text/plain": [
              "<IPython.core.display.HTML object>"
            ]
          },
          "metadata": {
            "tags": []
          }
        },
        {
          "output_type": "stream",
          "text": [
            "Token indices sequence length is longer than the specified maximum sequence length for this model (25 > 512). Running this sequence through the model will result in indexing errors\n"
          ],
          "name": "stderr"
        },
        {
          "output_type": "stream",
          "text": [
            "Better model found at epoch 45 with valid_loss value: 2.4030706882476807.\n"
          ],
          "name": "stdout"
        },
        {
          "output_type": "display_data",
          "data": {
            "text/html": [
              ""
            ],
            "text/plain": [
              "<IPython.core.display.HTML object>"
            ]
          },
          "metadata": {
            "tags": []
          }
        },
        {
          "output_type": "stream",
          "text": [
            "Token indices sequence length is longer than the specified maximum sequence length for this model (27 > 512). Running this sequence through the model will result in indexing errors\n",
            "Token indices sequence length is longer than the specified maximum sequence length for this model (26 > 512). Running this sequence through the model will result in indexing errors\n",
            "Token indices sequence length is longer than the specified maximum sequence length for this model (27 > 512). Running this sequence through the model will result in indexing errors\n"
          ],
          "name": "stderr"
        },
        {
          "output_type": "display_data",
          "data": {
            "text/html": [
              ""
            ],
            "text/plain": [
              "<IPython.core.display.HTML object>"
            ]
          },
          "metadata": {
            "tags": []
          }
        },
        {
          "output_type": "stream",
          "text": [
            "Token indices sequence length is longer than the specified maximum sequence length for this model (25 > 512). Running this sequence through the model will result in indexing errors\n"
          ],
          "name": "stderr"
        },
        {
          "output_type": "stream",
          "text": [
            "Better model found at epoch 46 with valid_loss value: 2.3905627727508545.\n"
          ],
          "name": "stdout"
        },
        {
          "output_type": "display_data",
          "data": {
            "text/html": [
              ""
            ],
            "text/plain": [
              "<IPython.core.display.HTML object>"
            ]
          },
          "metadata": {
            "tags": []
          }
        },
        {
          "output_type": "display_data",
          "data": {
            "text/html": [
              ""
            ],
            "text/plain": [
              "<IPython.core.display.HTML object>"
            ]
          },
          "metadata": {
            "tags": []
          }
        },
        {
          "output_type": "stream",
          "text": [
            "Token indices sequence length is longer than the specified maximum sequence length for this model (25 > 512). Running this sequence through the model will result in indexing errors\n"
          ],
          "name": "stderr"
        },
        {
          "output_type": "stream",
          "text": [
            "Better model found at epoch 47 with valid_loss value: 2.378089666366577.\n"
          ],
          "name": "stdout"
        },
        {
          "output_type": "display_data",
          "data": {
            "text/html": [
              ""
            ],
            "text/plain": [
              "<IPython.core.display.HTML object>"
            ]
          },
          "metadata": {
            "tags": []
          }
        },
        {
          "output_type": "stream",
          "text": [
            "Token indices sequence length is longer than the specified maximum sequence length for this model (27 > 512). Running this sequence through the model will result in indexing errors\n",
            "Token indices sequence length is longer than the specified maximum sequence length for this model (26 > 512). Running this sequence through the model will result in indexing errors\n",
            "Token indices sequence length is longer than the specified maximum sequence length for this model (16 > 512). Running this sequence through the model will result in indexing errors\n"
          ],
          "name": "stderr"
        },
        {
          "output_type": "display_data",
          "data": {
            "text/html": [
              ""
            ],
            "text/plain": [
              "<IPython.core.display.HTML object>"
            ]
          },
          "metadata": {
            "tags": []
          }
        },
        {
          "output_type": "stream",
          "text": [
            "Token indices sequence length is longer than the specified maximum sequence length for this model (25 > 512). Running this sequence through the model will result in indexing errors\n"
          ],
          "name": "stderr"
        },
        {
          "output_type": "stream",
          "text": [
            "Better model found at epoch 48 with valid_loss value: 2.366628885269165.\n"
          ],
          "name": "stdout"
        },
        {
          "output_type": "display_data",
          "data": {
            "text/html": [
              ""
            ],
            "text/plain": [
              "<IPython.core.display.HTML object>"
            ]
          },
          "metadata": {
            "tags": []
          }
        },
        {
          "output_type": "stream",
          "text": [
            "Token indices sequence length is longer than the specified maximum sequence length for this model (26 > 512). Running this sequence through the model will result in indexing errors\n"
          ],
          "name": "stderr"
        },
        {
          "output_type": "display_data",
          "data": {
            "text/html": [
              ""
            ],
            "text/plain": [
              "<IPython.core.display.HTML object>"
            ]
          },
          "metadata": {
            "tags": []
          }
        },
        {
          "output_type": "stream",
          "text": [
            "Token indices sequence length is longer than the specified maximum sequence length for this model (25 > 512). Running this sequence through the model will result in indexing errors\n"
          ],
          "name": "stderr"
        },
        {
          "output_type": "stream",
          "text": [
            "Better model found at epoch 49 with valid_loss value: 2.3565902709960938.\n"
          ],
          "name": "stdout"
        },
        {
          "output_type": "display_data",
          "data": {
            "text/html": [
              ""
            ],
            "text/plain": [
              "<IPython.core.display.HTML object>"
            ]
          },
          "metadata": {
            "tags": []
          }
        },
        {
          "output_type": "stream",
          "text": [
            "Token indices sequence length is longer than the specified maximum sequence length for this model (27 > 512). Running this sequence through the model will result in indexing errors\n",
            "Token indices sequence length is longer than the specified maximum sequence length for this model (16 > 512). Running this sequence through the model will result in indexing errors\n",
            "Token indices sequence length is longer than the specified maximum sequence length for this model (27 > 512). Running this sequence through the model will result in indexing errors\n",
            "Token indices sequence length is longer than the specified maximum sequence length for this model (16 > 512). Running this sequence through the model will result in indexing errors\n"
          ],
          "name": "stderr"
        },
        {
          "output_type": "display_data",
          "data": {
            "text/html": [
              ""
            ],
            "text/plain": [
              "<IPython.core.display.HTML object>"
            ]
          },
          "metadata": {
            "tags": []
          }
        },
        {
          "output_type": "stream",
          "text": [
            "Token indices sequence length is longer than the specified maximum sequence length for this model (25 > 512). Running this sequence through the model will result in indexing errors\n"
          ],
          "name": "stderr"
        },
        {
          "output_type": "stream",
          "text": [
            "Better model found at epoch 50 with valid_loss value: 2.3453078269958496.\n"
          ],
          "name": "stdout"
        },
        {
          "output_type": "display_data",
          "data": {
            "text/html": [
              ""
            ],
            "text/plain": [
              "<IPython.core.display.HTML object>"
            ]
          },
          "metadata": {
            "tags": []
          }
        },
        {
          "output_type": "stream",
          "text": [
            "Token indices sequence length is longer than the specified maximum sequence length for this model (27 > 512). Running this sequence through the model will result in indexing errors\n",
            "Token indices sequence length is longer than the specified maximum sequence length for this model (16 > 512). Running this sequence through the model will result in indexing errors\n",
            "Token indices sequence length is longer than the specified maximum sequence length for this model (27 > 512). Running this sequence through the model will result in indexing errors\n"
          ],
          "name": "stderr"
        },
        {
          "output_type": "display_data",
          "data": {
            "text/html": [
              ""
            ],
            "text/plain": [
              "<IPython.core.display.HTML object>"
            ]
          },
          "metadata": {
            "tags": []
          }
        },
        {
          "output_type": "stream",
          "text": [
            "Token indices sequence length is longer than the specified maximum sequence length for this model (25 > 512). Running this sequence through the model will result in indexing errors\n"
          ],
          "name": "stderr"
        },
        {
          "output_type": "stream",
          "text": [
            "Better model found at epoch 51 with valid_loss value: 2.3321762084960938.\n"
          ],
          "name": "stdout"
        },
        {
          "output_type": "display_data",
          "data": {
            "text/html": [
              ""
            ],
            "text/plain": [
              "<IPython.core.display.HTML object>"
            ]
          },
          "metadata": {
            "tags": []
          }
        },
        {
          "output_type": "stream",
          "text": [
            "Token indices sequence length is longer than the specified maximum sequence length for this model (16 > 512). Running this sequence through the model will result in indexing errors\n"
          ],
          "name": "stderr"
        },
        {
          "output_type": "display_data",
          "data": {
            "text/html": [
              ""
            ],
            "text/plain": [
              "<IPython.core.display.HTML object>"
            ]
          },
          "metadata": {
            "tags": []
          }
        },
        {
          "output_type": "stream",
          "text": [
            "Token indices sequence length is longer than the specified maximum sequence length for this model (25 > 512). Running this sequence through the model will result in indexing errors\n"
          ],
          "name": "stderr"
        },
        {
          "output_type": "stream",
          "text": [
            "Better model found at epoch 52 with valid_loss value: 2.320822238922119.\n"
          ],
          "name": "stdout"
        },
        {
          "output_type": "display_data",
          "data": {
            "text/html": [
              ""
            ],
            "text/plain": [
              "<IPython.core.display.HTML object>"
            ]
          },
          "metadata": {
            "tags": []
          }
        },
        {
          "output_type": "stream",
          "text": [
            "Token indices sequence length is longer than the specified maximum sequence length for this model (16 > 512). Running this sequence through the model will result in indexing errors\n",
            "Token indices sequence length is longer than the specified maximum sequence length for this model (16 > 512). Running this sequence through the model will result in indexing errors\n",
            "Token indices sequence length is longer than the specified maximum sequence length for this model (27 > 512). Running this sequence through the model will result in indexing errors\n"
          ],
          "name": "stderr"
        },
        {
          "output_type": "display_data",
          "data": {
            "text/html": [
              ""
            ],
            "text/plain": [
              "<IPython.core.display.HTML object>"
            ]
          },
          "metadata": {
            "tags": []
          }
        },
        {
          "output_type": "stream",
          "text": [
            "Token indices sequence length is longer than the specified maximum sequence length for this model (25 > 512). Running this sequence through the model will result in indexing errors\n"
          ],
          "name": "stderr"
        },
        {
          "output_type": "stream",
          "text": [
            "Better model found at epoch 53 with valid_loss value: 2.3081488609313965.\n"
          ],
          "name": "stdout"
        },
        {
          "output_type": "display_data",
          "data": {
            "text/html": [
              ""
            ],
            "text/plain": [
              "<IPython.core.display.HTML object>"
            ]
          },
          "metadata": {
            "tags": []
          }
        },
        {
          "output_type": "stream",
          "text": [
            "Token indices sequence length is longer than the specified maximum sequence length for this model (26 > 512). Running this sequence through the model will result in indexing errors\n",
            "Token indices sequence length is longer than the specified maximum sequence length for this model (16 > 512). Running this sequence through the model will result in indexing errors\n",
            "Token indices sequence length is longer than the specified maximum sequence length for this model (16 > 512). Running this sequence through the model will result in indexing errors\n"
          ],
          "name": "stderr"
        },
        {
          "output_type": "display_data",
          "data": {
            "text/html": [
              ""
            ],
            "text/plain": [
              "<IPython.core.display.HTML object>"
            ]
          },
          "metadata": {
            "tags": []
          }
        },
        {
          "output_type": "stream",
          "text": [
            "Token indices sequence length is longer than the specified maximum sequence length for this model (25 > 512). Running this sequence through the model will result in indexing errors\n"
          ],
          "name": "stderr"
        },
        {
          "output_type": "stream",
          "text": [
            "Better model found at epoch 54 with valid_loss value: 2.2970054149627686.\n"
          ],
          "name": "stdout"
        },
        {
          "output_type": "display_data",
          "data": {
            "text/html": [
              ""
            ],
            "text/plain": [
              "<IPython.core.display.HTML object>"
            ]
          },
          "metadata": {
            "tags": []
          }
        },
        {
          "output_type": "stream",
          "text": [
            "Token indices sequence length is longer than the specified maximum sequence length for this model (26 > 512). Running this sequence through the model will result in indexing errors\n",
            "Token indices sequence length is longer than the specified maximum sequence length for this model (27 > 512). Running this sequence through the model will result in indexing errors\n",
            "Token indices sequence length is longer than the specified maximum sequence length for this model (16 > 512). Running this sequence through the model will result in indexing errors\n",
            "Token indices sequence length is longer than the specified maximum sequence length for this model (27 > 512). Running this sequence through the model will result in indexing errors\n",
            "Token indices sequence length is longer than the specified maximum sequence length for this model (27 > 512). Running this sequence through the model will result in indexing errors\n"
          ],
          "name": "stderr"
        },
        {
          "output_type": "display_data",
          "data": {
            "text/html": [
              ""
            ],
            "text/plain": [
              "<IPython.core.display.HTML object>"
            ]
          },
          "metadata": {
            "tags": []
          }
        },
        {
          "output_type": "stream",
          "text": [
            "Token indices sequence length is longer than the specified maximum sequence length for this model (25 > 512). Running this sequence through the model will result in indexing errors\n"
          ],
          "name": "stderr"
        },
        {
          "output_type": "stream",
          "text": [
            "Better model found at epoch 55 with valid_loss value: 2.2868492603302.\n"
          ],
          "name": "stdout"
        },
        {
          "output_type": "display_data",
          "data": {
            "text/html": [
              ""
            ],
            "text/plain": [
              "<IPython.core.display.HTML object>"
            ]
          },
          "metadata": {
            "tags": []
          }
        },
        {
          "output_type": "stream",
          "text": [
            "Token indices sequence length is longer than the specified maximum sequence length for this model (27 > 512). Running this sequence through the model will result in indexing errors\n",
            "Token indices sequence length is longer than the specified maximum sequence length for this model (26 > 512). Running this sequence through the model will result in indexing errors\n",
            "Token indices sequence length is longer than the specified maximum sequence length for this model (16 > 512). Running this sequence through the model will result in indexing errors\n",
            "Token indices sequence length is longer than the specified maximum sequence length for this model (27 > 512). Running this sequence through the model will result in indexing errors\n"
          ],
          "name": "stderr"
        },
        {
          "output_type": "display_data",
          "data": {
            "text/html": [
              ""
            ],
            "text/plain": [
              "<IPython.core.display.HTML object>"
            ]
          },
          "metadata": {
            "tags": []
          }
        },
        {
          "output_type": "stream",
          "text": [
            "Token indices sequence length is longer than the specified maximum sequence length for this model (25 > 512). Running this sequence through the model will result in indexing errors\n"
          ],
          "name": "stderr"
        },
        {
          "output_type": "stream",
          "text": [
            "Better model found at epoch 56 with valid_loss value: 2.2776191234588623.\n"
          ],
          "name": "stdout"
        },
        {
          "output_type": "display_data",
          "data": {
            "text/html": [
              ""
            ],
            "text/plain": [
              "<IPython.core.display.HTML object>"
            ]
          },
          "metadata": {
            "tags": []
          }
        },
        {
          "output_type": "stream",
          "text": [
            "Token indices sequence length is longer than the specified maximum sequence length for this model (16 > 512). Running this sequence through the model will result in indexing errors\n",
            "Token indices sequence length is longer than the specified maximum sequence length for this model (26 > 512). Running this sequence through the model will result in indexing errors\n",
            "Token indices sequence length is longer than the specified maximum sequence length for this model (16 > 512). Running this sequence through the model will result in indexing errors\n"
          ],
          "name": "stderr"
        },
        {
          "output_type": "display_data",
          "data": {
            "text/html": [
              ""
            ],
            "text/plain": [
              "<IPython.core.display.HTML object>"
            ]
          },
          "metadata": {
            "tags": []
          }
        },
        {
          "output_type": "stream",
          "text": [
            "Token indices sequence length is longer than the specified maximum sequence length for this model (25 > 512). Running this sequence through the model will result in indexing errors\n"
          ],
          "name": "stderr"
        },
        {
          "output_type": "stream",
          "text": [
            "Better model found at epoch 57 with valid_loss value: 2.269357442855835.\n"
          ],
          "name": "stdout"
        },
        {
          "output_type": "display_data",
          "data": {
            "text/html": [
              ""
            ],
            "text/plain": [
              "<IPython.core.display.HTML object>"
            ]
          },
          "metadata": {
            "tags": []
          }
        },
        {
          "output_type": "stream",
          "text": [
            "Token indices sequence length is longer than the specified maximum sequence length for this model (26 > 512). Running this sequence through the model will result in indexing errors\n",
            "Token indices sequence length is longer than the specified maximum sequence length for this model (16 > 512). Running this sequence through the model will result in indexing errors\n"
          ],
          "name": "stderr"
        },
        {
          "output_type": "display_data",
          "data": {
            "text/html": [
              ""
            ],
            "text/plain": [
              "<IPython.core.display.HTML object>"
            ]
          },
          "metadata": {
            "tags": []
          }
        },
        {
          "output_type": "stream",
          "text": [
            "Token indices sequence length is longer than the specified maximum sequence length for this model (25 > 512). Running this sequence through the model will result in indexing errors\n"
          ],
          "name": "stderr"
        },
        {
          "output_type": "stream",
          "text": [
            "Better model found at epoch 58 with valid_loss value: 2.257606029510498.\n"
          ],
          "name": "stdout"
        },
        {
          "output_type": "display_data",
          "data": {
            "text/html": [
              ""
            ],
            "text/plain": [
              "<IPython.core.display.HTML object>"
            ]
          },
          "metadata": {
            "tags": []
          }
        },
        {
          "output_type": "stream",
          "text": [
            "Token indices sequence length is longer than the specified maximum sequence length for this model (27 > 512). Running this sequence through the model will result in indexing errors\n",
            "Token indices sequence length is longer than the specified maximum sequence length for this model (27 > 512). Running this sequence through the model will result in indexing errors\n",
            "Token indices sequence length is longer than the specified maximum sequence length for this model (27 > 512). Running this sequence through the model will result in indexing errors\n",
            "Token indices sequence length is longer than the specified maximum sequence length for this model (16 > 512). Running this sequence through the model will result in indexing errors\n",
            "Token indices sequence length is longer than the specified maximum sequence length for this model (26 > 512). Running this sequence through the model will result in indexing errors\n",
            "Token indices sequence length is longer than the specified maximum sequence length for this model (27 > 512). Running this sequence through the model will result in indexing errors\n"
          ],
          "name": "stderr"
        },
        {
          "output_type": "display_data",
          "data": {
            "text/html": [
              ""
            ],
            "text/plain": [
              "<IPython.core.display.HTML object>"
            ]
          },
          "metadata": {
            "tags": []
          }
        },
        {
          "output_type": "stream",
          "text": [
            "Token indices sequence length is longer than the specified maximum sequence length for this model (25 > 512). Running this sequence through the model will result in indexing errors\n"
          ],
          "name": "stderr"
        },
        {
          "output_type": "stream",
          "text": [
            "Better model found at epoch 59 with valid_loss value: 2.2468326091766357.\n"
          ],
          "name": "stdout"
        },
        {
          "output_type": "display_data",
          "data": {
            "text/html": [
              ""
            ],
            "text/plain": [
              "<IPython.core.display.HTML object>"
            ]
          },
          "metadata": {
            "tags": []
          }
        },
        {
          "output_type": "stream",
          "text": [
            "Token indices sequence length is longer than the specified maximum sequence length for this model (26 > 512). Running this sequence through the model will result in indexing errors\n",
            "Token indices sequence length is longer than the specified maximum sequence length for this model (16 > 512). Running this sequence through the model will result in indexing errors\n"
          ],
          "name": "stderr"
        },
        {
          "output_type": "display_data",
          "data": {
            "text/html": [
              ""
            ],
            "text/plain": [
              "<IPython.core.display.HTML object>"
            ]
          },
          "metadata": {
            "tags": []
          }
        },
        {
          "output_type": "stream",
          "text": [
            "Token indices sequence length is longer than the specified maximum sequence length for this model (25 > 512). Running this sequence through the model will result in indexing errors\n"
          ],
          "name": "stderr"
        },
        {
          "output_type": "stream",
          "text": [
            "Better model found at epoch 60 with valid_loss value: 2.2353098392486572.\n"
          ],
          "name": "stdout"
        },
        {
          "output_type": "display_data",
          "data": {
            "text/html": [
              ""
            ],
            "text/plain": [
              "<IPython.core.display.HTML object>"
            ]
          },
          "metadata": {
            "tags": []
          }
        },
        {
          "output_type": "stream",
          "text": [
            "Token indices sequence length is longer than the specified maximum sequence length for this model (16 > 512). Running this sequence through the model will result in indexing errors\n",
            "Token indices sequence length is longer than the specified maximum sequence length for this model (27 > 512). Running this sequence through the model will result in indexing errors\n",
            "Token indices sequence length is longer than the specified maximum sequence length for this model (26 > 512). Running this sequence through the model will result in indexing errors\n"
          ],
          "name": "stderr"
        },
        {
          "output_type": "display_data",
          "data": {
            "text/html": [
              ""
            ],
            "text/plain": [
              "<IPython.core.display.HTML object>"
            ]
          },
          "metadata": {
            "tags": []
          }
        },
        {
          "output_type": "stream",
          "text": [
            "Token indices sequence length is longer than the specified maximum sequence length for this model (25 > 512). Running this sequence through the model will result in indexing errors\n"
          ],
          "name": "stderr"
        },
        {
          "output_type": "stream",
          "text": [
            "Better model found at epoch 61 with valid_loss value: 2.228667974472046.\n"
          ],
          "name": "stdout"
        },
        {
          "output_type": "display_data",
          "data": {
            "text/html": [
              ""
            ],
            "text/plain": [
              "<IPython.core.display.HTML object>"
            ]
          },
          "metadata": {
            "tags": []
          }
        },
        {
          "output_type": "stream",
          "text": [
            "Token indices sequence length is longer than the specified maximum sequence length for this model (16 > 512). Running this sequence through the model will result in indexing errors\n",
            "Token indices sequence length is longer than the specified maximum sequence length for this model (26 > 512). Running this sequence through the model will result in indexing errors\n",
            "Token indices sequence length is longer than the specified maximum sequence length for this model (26 > 512). Running this sequence through the model will result in indexing errors\n",
            "Token indices sequence length is longer than the specified maximum sequence length for this model (27 > 512). Running this sequence through the model will result in indexing errors\n"
          ],
          "name": "stderr"
        },
        {
          "output_type": "display_data",
          "data": {
            "text/html": [
              ""
            ],
            "text/plain": [
              "<IPython.core.display.HTML object>"
            ]
          },
          "metadata": {
            "tags": []
          }
        },
        {
          "output_type": "stream",
          "text": [
            "Token indices sequence length is longer than the specified maximum sequence length for this model (25 > 512). Running this sequence through the model will result in indexing errors\n"
          ],
          "name": "stderr"
        },
        {
          "output_type": "stream",
          "text": [
            "Better model found at epoch 62 with valid_loss value: 2.2193031311035156.\n"
          ],
          "name": "stdout"
        },
        {
          "output_type": "display_data",
          "data": {
            "text/html": [
              ""
            ],
            "text/plain": [
              "<IPython.core.display.HTML object>"
            ]
          },
          "metadata": {
            "tags": []
          }
        },
        {
          "output_type": "stream",
          "text": [
            "Token indices sequence length is longer than the specified maximum sequence length for this model (16 > 512). Running this sequence through the model will result in indexing errors\n",
            "Token indices sequence length is longer than the specified maximum sequence length for this model (27 > 512). Running this sequence through the model will result in indexing errors\n"
          ],
          "name": "stderr"
        },
        {
          "output_type": "display_data",
          "data": {
            "text/html": [
              ""
            ],
            "text/plain": [
              "<IPython.core.display.HTML object>"
            ]
          },
          "metadata": {
            "tags": []
          }
        },
        {
          "output_type": "stream",
          "text": [
            "Token indices sequence length is longer than the specified maximum sequence length for this model (25 > 512). Running this sequence through the model will result in indexing errors\n"
          ],
          "name": "stderr"
        },
        {
          "output_type": "stream",
          "text": [
            "Better model found at epoch 63 with valid_loss value: 2.2126376628875732.\n"
          ],
          "name": "stdout"
        },
        {
          "output_type": "display_data",
          "data": {
            "text/html": [
              ""
            ],
            "text/plain": [
              "<IPython.core.display.HTML object>"
            ]
          },
          "metadata": {
            "tags": []
          }
        },
        {
          "output_type": "stream",
          "text": [
            "Token indices sequence length is longer than the specified maximum sequence length for this model (16 > 512). Running this sequence through the model will result in indexing errors\n",
            "Token indices sequence length is longer than the specified maximum sequence length for this model (16 > 512). Running this sequence through the model will result in indexing errors\n"
          ],
          "name": "stderr"
        },
        {
          "output_type": "display_data",
          "data": {
            "text/html": [
              ""
            ],
            "text/plain": [
              "<IPython.core.display.HTML object>"
            ]
          },
          "metadata": {
            "tags": []
          }
        },
        {
          "output_type": "stream",
          "text": [
            "Token indices sequence length is longer than the specified maximum sequence length for this model (25 > 512). Running this sequence through the model will result in indexing errors\n"
          ],
          "name": "stderr"
        },
        {
          "output_type": "stream",
          "text": [
            "Better model found at epoch 64 with valid_loss value: 2.20074462890625.\n"
          ],
          "name": "stdout"
        },
        {
          "output_type": "display_data",
          "data": {
            "text/html": [
              ""
            ],
            "text/plain": [
              "<IPython.core.display.HTML object>"
            ]
          },
          "metadata": {
            "tags": []
          }
        },
        {
          "output_type": "stream",
          "text": [
            "Token indices sequence length is longer than the specified maximum sequence length for this model (27 > 512). Running this sequence through the model will result in indexing errors\n"
          ],
          "name": "stderr"
        },
        {
          "output_type": "display_data",
          "data": {
            "text/html": [
              ""
            ],
            "text/plain": [
              "<IPython.core.display.HTML object>"
            ]
          },
          "metadata": {
            "tags": []
          }
        },
        {
          "output_type": "stream",
          "text": [
            "Token indices sequence length is longer than the specified maximum sequence length for this model (25 > 512). Running this sequence through the model will result in indexing errors\n"
          ],
          "name": "stderr"
        },
        {
          "output_type": "stream",
          "text": [
            "Better model found at epoch 65 with valid_loss value: 2.1963412761688232.\n"
          ],
          "name": "stdout"
        },
        {
          "output_type": "display_data",
          "data": {
            "text/html": [
              ""
            ],
            "text/plain": [
              "<IPython.core.display.HTML object>"
            ]
          },
          "metadata": {
            "tags": []
          }
        },
        {
          "output_type": "stream",
          "text": [
            "Token indices sequence length is longer than the specified maximum sequence length for this model (16 > 512). Running this sequence through the model will result in indexing errors\n",
            "Token indices sequence length is longer than the specified maximum sequence length for this model (27 > 512). Running this sequence through the model will result in indexing errors\n"
          ],
          "name": "stderr"
        },
        {
          "output_type": "display_data",
          "data": {
            "text/html": [
              ""
            ],
            "text/plain": [
              "<IPython.core.display.HTML object>"
            ]
          },
          "metadata": {
            "tags": []
          }
        },
        {
          "output_type": "stream",
          "text": [
            "Token indices sequence length is longer than the specified maximum sequence length for this model (25 > 512). Running this sequence through the model will result in indexing errors\n"
          ],
          "name": "stderr"
        },
        {
          "output_type": "stream",
          "text": [
            "Better model found at epoch 66 with valid_loss value: 2.1854424476623535.\n"
          ],
          "name": "stdout"
        },
        {
          "output_type": "display_data",
          "data": {
            "text/html": [
              ""
            ],
            "text/plain": [
              "<IPython.core.display.HTML object>"
            ]
          },
          "metadata": {
            "tags": []
          }
        },
        {
          "output_type": "stream",
          "text": [
            "Token indices sequence length is longer than the specified maximum sequence length for this model (26 > 512). Running this sequence through the model will result in indexing errors\n",
            "Token indices sequence length is longer than the specified maximum sequence length for this model (16 > 512). Running this sequence through the model will result in indexing errors\n",
            "Token indices sequence length is longer than the specified maximum sequence length for this model (26 > 512). Running this sequence through the model will result in indexing errors\n"
          ],
          "name": "stderr"
        },
        {
          "output_type": "display_data",
          "data": {
            "text/html": [
              ""
            ],
            "text/plain": [
              "<IPython.core.display.HTML object>"
            ]
          },
          "metadata": {
            "tags": []
          }
        },
        {
          "output_type": "stream",
          "text": [
            "Token indices sequence length is longer than the specified maximum sequence length for this model (25 > 512). Running this sequence through the model will result in indexing errors\n"
          ],
          "name": "stderr"
        },
        {
          "output_type": "stream",
          "text": [
            "Better model found at epoch 67 with valid_loss value: 2.1782257556915283.\n"
          ],
          "name": "stdout"
        },
        {
          "output_type": "display_data",
          "data": {
            "text/html": [
              ""
            ],
            "text/plain": [
              "<IPython.core.display.HTML object>"
            ]
          },
          "metadata": {
            "tags": []
          }
        },
        {
          "output_type": "stream",
          "text": [
            "Token indices sequence length is longer than the specified maximum sequence length for this model (26 > 512). Running this sequence through the model will result in indexing errors\n",
            "Token indices sequence length is longer than the specified maximum sequence length for this model (27 > 512). Running this sequence through the model will result in indexing errors\n",
            "Token indices sequence length is longer than the specified maximum sequence length for this model (27 > 512). Running this sequence through the model will result in indexing errors\n"
          ],
          "name": "stderr"
        },
        {
          "output_type": "display_data",
          "data": {
            "text/html": [
              ""
            ],
            "text/plain": [
              "<IPython.core.display.HTML object>"
            ]
          },
          "metadata": {
            "tags": []
          }
        },
        {
          "output_type": "stream",
          "text": [
            "Token indices sequence length is longer than the specified maximum sequence length for this model (25 > 512). Running this sequence through the model will result in indexing errors\n"
          ],
          "name": "stderr"
        },
        {
          "output_type": "stream",
          "text": [
            "Better model found at epoch 68 with valid_loss value: 2.169191360473633.\n"
          ],
          "name": "stdout"
        },
        {
          "output_type": "display_data",
          "data": {
            "text/html": [
              ""
            ],
            "text/plain": [
              "<IPython.core.display.HTML object>"
            ]
          },
          "metadata": {
            "tags": []
          }
        },
        {
          "output_type": "stream",
          "text": [
            "Token indices sequence length is longer than the specified maximum sequence length for this model (16 > 512). Running this sequence through the model will result in indexing errors\n",
            "Token indices sequence length is longer than the specified maximum sequence length for this model (16 > 512). Running this sequence through the model will result in indexing errors\n",
            "Token indices sequence length is longer than the specified maximum sequence length for this model (26 > 512). Running this sequence through the model will result in indexing errors\n",
            "Token indices sequence length is longer than the specified maximum sequence length for this model (26 > 512). Running this sequence through the model will result in indexing errors\n"
          ],
          "name": "stderr"
        },
        {
          "output_type": "display_data",
          "data": {
            "text/html": [
              ""
            ],
            "text/plain": [
              "<IPython.core.display.HTML object>"
            ]
          },
          "metadata": {
            "tags": []
          }
        },
        {
          "output_type": "stream",
          "text": [
            "Token indices sequence length is longer than the specified maximum sequence length for this model (25 > 512). Running this sequence through the model will result in indexing errors\n"
          ],
          "name": "stderr"
        },
        {
          "output_type": "stream",
          "text": [
            "Better model found at epoch 69 with valid_loss value: 2.160933256149292.\n"
          ],
          "name": "stdout"
        },
        {
          "output_type": "display_data",
          "data": {
            "text/html": [
              ""
            ],
            "text/plain": [
              "<IPython.core.display.HTML object>"
            ]
          },
          "metadata": {
            "tags": []
          }
        },
        {
          "output_type": "stream",
          "text": [
            "Token indices sequence length is longer than the specified maximum sequence length for this model (16 > 512). Running this sequence through the model will result in indexing errors\n",
            "Token indices sequence length is longer than the specified maximum sequence length for this model (26 > 512). Running this sequence through the model will result in indexing errors\n"
          ],
          "name": "stderr"
        },
        {
          "output_type": "display_data",
          "data": {
            "text/html": [
              ""
            ],
            "text/plain": [
              "<IPython.core.display.HTML object>"
            ]
          },
          "metadata": {
            "tags": []
          }
        },
        {
          "output_type": "stream",
          "text": [
            "Token indices sequence length is longer than the specified maximum sequence length for this model (25 > 512). Running this sequence through the model will result in indexing errors\n"
          ],
          "name": "stderr"
        },
        {
          "output_type": "stream",
          "text": [
            "Better model found at epoch 70 with valid_loss value: 2.153346538543701.\n"
          ],
          "name": "stdout"
        },
        {
          "output_type": "display_data",
          "data": {
            "text/html": [
              ""
            ],
            "text/plain": [
              "<IPython.core.display.HTML object>"
            ]
          },
          "metadata": {
            "tags": []
          }
        },
        {
          "output_type": "stream",
          "text": [
            "Token indices sequence length is longer than the specified maximum sequence length for this model (16 > 512). Running this sequence through the model will result in indexing errors\n",
            "Token indices sequence length is longer than the specified maximum sequence length for this model (16 > 512). Running this sequence through the model will result in indexing errors\n",
            "Token indices sequence length is longer than the specified maximum sequence length for this model (26 > 512). Running this sequence through the model will result in indexing errors\n",
            "Token indices sequence length is longer than the specified maximum sequence length for this model (27 > 512). Running this sequence through the model will result in indexing errors\n",
            "Token indices sequence length is longer than the specified maximum sequence length for this model (26 > 512). Running this sequence through the model will result in indexing errors\n"
          ],
          "name": "stderr"
        },
        {
          "output_type": "display_data",
          "data": {
            "text/html": [
              ""
            ],
            "text/plain": [
              "<IPython.core.display.HTML object>"
            ]
          },
          "metadata": {
            "tags": []
          }
        },
        {
          "output_type": "stream",
          "text": [
            "Token indices sequence length is longer than the specified maximum sequence length for this model (25 > 512). Running this sequence through the model will result in indexing errors\n"
          ],
          "name": "stderr"
        },
        {
          "output_type": "stream",
          "text": [
            "Better model found at epoch 71 with valid_loss value: 2.1423754692077637.\n"
          ],
          "name": "stdout"
        },
        {
          "output_type": "display_data",
          "data": {
            "text/html": [
              ""
            ],
            "text/plain": [
              "<IPython.core.display.HTML object>"
            ]
          },
          "metadata": {
            "tags": []
          }
        },
        {
          "output_type": "stream",
          "text": [
            "Token indices sequence length is longer than the specified maximum sequence length for this model (27 > 512). Running this sequence through the model will result in indexing errors\n",
            "Token indices sequence length is longer than the specified maximum sequence length for this model (26 > 512). Running this sequence through the model will result in indexing errors\n",
            "Token indices sequence length is longer than the specified maximum sequence length for this model (16 > 512). Running this sequence through the model will result in indexing errors\n",
            "Token indices sequence length is longer than the specified maximum sequence length for this model (16 > 512). Running this sequence through the model will result in indexing errors\n",
            "Token indices sequence length is longer than the specified maximum sequence length for this model (27 > 512). Running this sequence through the model will result in indexing errors\n"
          ],
          "name": "stderr"
        },
        {
          "output_type": "display_data",
          "data": {
            "text/html": [
              ""
            ],
            "text/plain": [
              "<IPython.core.display.HTML object>"
            ]
          },
          "metadata": {
            "tags": []
          }
        },
        {
          "output_type": "stream",
          "text": [
            "Token indices sequence length is longer than the specified maximum sequence length for this model (25 > 512). Running this sequence through the model will result in indexing errors\n"
          ],
          "name": "stderr"
        },
        {
          "output_type": "stream",
          "text": [
            "Better model found at epoch 72 with valid_loss value: 2.1369943618774414.\n"
          ],
          "name": "stdout"
        },
        {
          "output_type": "display_data",
          "data": {
            "text/html": [
              ""
            ],
            "text/plain": [
              "<IPython.core.display.HTML object>"
            ]
          },
          "metadata": {
            "tags": []
          }
        },
        {
          "output_type": "stream",
          "text": [
            "Token indices sequence length is longer than the specified maximum sequence length for this model (26 > 512). Running this sequence through the model will result in indexing errors\n"
          ],
          "name": "stderr"
        },
        {
          "output_type": "display_data",
          "data": {
            "text/html": [
              ""
            ],
            "text/plain": [
              "<IPython.core.display.HTML object>"
            ]
          },
          "metadata": {
            "tags": []
          }
        },
        {
          "output_type": "stream",
          "text": [
            "Token indices sequence length is longer than the specified maximum sequence length for this model (25 > 512). Running this sequence through the model will result in indexing errors\n"
          ],
          "name": "stderr"
        },
        {
          "output_type": "stream",
          "text": [
            "Better model found at epoch 73 with valid_loss value: 2.1337389945983887.\n"
          ],
          "name": "stdout"
        },
        {
          "output_type": "display_data",
          "data": {
            "text/html": [
              ""
            ],
            "text/plain": [
              "<IPython.core.display.HTML object>"
            ]
          },
          "metadata": {
            "tags": []
          }
        },
        {
          "output_type": "stream",
          "text": [
            "Token indices sequence length is longer than the specified maximum sequence length for this model (26 > 512). Running this sequence through the model will result in indexing errors\n",
            "Token indices sequence length is longer than the specified maximum sequence length for this model (27 > 512). Running this sequence through the model will result in indexing errors\n"
          ],
          "name": "stderr"
        },
        {
          "output_type": "display_data",
          "data": {
            "text/html": [
              ""
            ],
            "text/plain": [
              "<IPython.core.display.HTML object>"
            ]
          },
          "metadata": {
            "tags": []
          }
        },
        {
          "output_type": "stream",
          "text": [
            "Token indices sequence length is longer than the specified maximum sequence length for this model (25 > 512). Running this sequence through the model will result in indexing errors\n"
          ],
          "name": "stderr"
        },
        {
          "output_type": "stream",
          "text": [
            "Better model found at epoch 74 with valid_loss value: 2.128262758255005.\n"
          ],
          "name": "stdout"
        },
        {
          "output_type": "display_data",
          "data": {
            "text/html": [
              ""
            ],
            "text/plain": [
              "<IPython.core.display.HTML object>"
            ]
          },
          "metadata": {
            "tags": []
          }
        },
        {
          "output_type": "stream",
          "text": [
            "Token indices sequence length is longer than the specified maximum sequence length for this model (16 > 512). Running this sequence through the model will result in indexing errors\n"
          ],
          "name": "stderr"
        },
        {
          "output_type": "display_data",
          "data": {
            "text/html": [
              ""
            ],
            "text/plain": [
              "<IPython.core.display.HTML object>"
            ]
          },
          "metadata": {
            "tags": []
          }
        },
        {
          "output_type": "stream",
          "text": [
            "Token indices sequence length is longer than the specified maximum sequence length for this model (25 > 512). Running this sequence through the model will result in indexing errors\n"
          ],
          "name": "stderr"
        },
        {
          "output_type": "stream",
          "text": [
            "Better model found at epoch 75 with valid_loss value: 2.118901491165161.\n"
          ],
          "name": "stdout"
        },
        {
          "output_type": "display_data",
          "data": {
            "text/html": [
              ""
            ],
            "text/plain": [
              "<IPython.core.display.HTML object>"
            ]
          },
          "metadata": {
            "tags": []
          }
        },
        {
          "output_type": "stream",
          "text": [
            "Token indices sequence length is longer than the specified maximum sequence length for this model (26 > 512). Running this sequence through the model will result in indexing errors\n"
          ],
          "name": "stderr"
        },
        {
          "output_type": "display_data",
          "data": {
            "text/html": [
              ""
            ],
            "text/plain": [
              "<IPython.core.display.HTML object>"
            ]
          },
          "metadata": {
            "tags": []
          }
        },
        {
          "output_type": "stream",
          "text": [
            "Token indices sequence length is longer than the specified maximum sequence length for this model (25 > 512). Running this sequence through the model will result in indexing errors\n"
          ],
          "name": "stderr"
        },
        {
          "output_type": "stream",
          "text": [
            "Better model found at epoch 76 with valid_loss value: 2.1153972148895264.\n"
          ],
          "name": "stdout"
        },
        {
          "output_type": "display_data",
          "data": {
            "text/html": [
              ""
            ],
            "text/plain": [
              "<IPython.core.display.HTML object>"
            ]
          },
          "metadata": {
            "tags": []
          }
        },
        {
          "output_type": "stream",
          "text": [
            "Token indices sequence length is longer than the specified maximum sequence length for this model (16 > 512). Running this sequence through the model will result in indexing errors\n",
            "Token indices sequence length is longer than the specified maximum sequence length for this model (26 > 512). Running this sequence through the model will result in indexing errors\n",
            "Token indices sequence length is longer than the specified maximum sequence length for this model (26 > 512). Running this sequence through the model will result in indexing errors\n",
            "Token indices sequence length is longer than the specified maximum sequence length for this model (26 > 512). Running this sequence through the model will result in indexing errors\n",
            "Token indices sequence length is longer than the specified maximum sequence length for this model (16 > 512). Running this sequence through the model will result in indexing errors\n"
          ],
          "name": "stderr"
        },
        {
          "output_type": "display_data",
          "data": {
            "text/html": [
              ""
            ],
            "text/plain": [
              "<IPython.core.display.HTML object>"
            ]
          },
          "metadata": {
            "tags": []
          }
        },
        {
          "output_type": "stream",
          "text": [
            "Token indices sequence length is longer than the specified maximum sequence length for this model (25 > 512). Running this sequence through the model will result in indexing errors\n"
          ],
          "name": "stderr"
        },
        {
          "output_type": "stream",
          "text": [
            "Better model found at epoch 77 with valid_loss value: 2.1115453243255615.\n"
          ],
          "name": "stdout"
        },
        {
          "output_type": "display_data",
          "data": {
            "text/html": [
              ""
            ],
            "text/plain": [
              "<IPython.core.display.HTML object>"
            ]
          },
          "metadata": {
            "tags": []
          }
        },
        {
          "output_type": "display_data",
          "data": {
            "text/html": [
              ""
            ],
            "text/plain": [
              "<IPython.core.display.HTML object>"
            ]
          },
          "metadata": {
            "tags": []
          }
        },
        {
          "output_type": "stream",
          "text": [
            "Token indices sequence length is longer than the specified maximum sequence length for this model (25 > 512). Running this sequence through the model will result in indexing errors\n"
          ],
          "name": "stderr"
        },
        {
          "output_type": "stream",
          "text": [
            "Better model found at epoch 78 with valid_loss value: 2.1053574085235596.\n"
          ],
          "name": "stdout"
        },
        {
          "output_type": "display_data",
          "data": {
            "text/html": [
              ""
            ],
            "text/plain": [
              "<IPython.core.display.HTML object>"
            ]
          },
          "metadata": {
            "tags": []
          }
        },
        {
          "output_type": "stream",
          "text": [
            "Token indices sequence length is longer than the specified maximum sequence length for this model (26 > 512). Running this sequence through the model will result in indexing errors\n",
            "Token indices sequence length is longer than the specified maximum sequence length for this model (27 > 512). Running this sequence through the model will result in indexing errors\n",
            "Token indices sequence length is longer than the specified maximum sequence length for this model (16 > 512). Running this sequence through the model will result in indexing errors\n",
            "Token indices sequence length is longer than the specified maximum sequence length for this model (27 > 512). Running this sequence through the model will result in indexing errors\n"
          ],
          "name": "stderr"
        },
        {
          "output_type": "display_data",
          "data": {
            "text/html": [
              ""
            ],
            "text/plain": [
              "<IPython.core.display.HTML object>"
            ]
          },
          "metadata": {
            "tags": []
          }
        },
        {
          "output_type": "stream",
          "text": [
            "Token indices sequence length is longer than the specified maximum sequence length for this model (25 > 512). Running this sequence through the model will result in indexing errors\n"
          ],
          "name": "stderr"
        },
        {
          "output_type": "stream",
          "text": [
            "Better model found at epoch 79 with valid_loss value: 2.100641965866089.\n"
          ],
          "name": "stdout"
        },
        {
          "output_type": "display_data",
          "data": {
            "text/html": [
              ""
            ],
            "text/plain": [
              "<IPython.core.display.HTML object>"
            ]
          },
          "metadata": {
            "tags": []
          }
        },
        {
          "output_type": "stream",
          "text": [
            "Token indices sequence length is longer than the specified maximum sequence length for this model (16 > 512). Running this sequence through the model will result in indexing errors\n",
            "Token indices sequence length is longer than the specified maximum sequence length for this model (27 > 512). Running this sequence through the model will result in indexing errors\n",
            "Token indices sequence length is longer than the specified maximum sequence length for this model (16 > 512). Running this sequence through the model will result in indexing errors\n",
            "Token indices sequence length is longer than the specified maximum sequence length for this model (27 > 512). Running this sequence through the model will result in indexing errors\n"
          ],
          "name": "stderr"
        },
        {
          "output_type": "display_data",
          "data": {
            "text/html": [
              ""
            ],
            "text/plain": [
              "<IPython.core.display.HTML object>"
            ]
          },
          "metadata": {
            "tags": []
          }
        },
        {
          "output_type": "stream",
          "text": [
            "Token indices sequence length is longer than the specified maximum sequence length for this model (25 > 512). Running this sequence through the model will result in indexing errors\n"
          ],
          "name": "stderr"
        },
        {
          "output_type": "stream",
          "text": [
            "Better model found at epoch 80 with valid_loss value: 2.095707893371582.\n"
          ],
          "name": "stdout"
        },
        {
          "output_type": "display_data",
          "data": {
            "text/html": [
              ""
            ],
            "text/plain": [
              "<IPython.core.display.HTML object>"
            ]
          },
          "metadata": {
            "tags": []
          }
        },
        {
          "output_type": "stream",
          "text": [
            "Token indices sequence length is longer than the specified maximum sequence length for this model (16 > 512). Running this sequence through the model will result in indexing errors\n",
            "Token indices sequence length is longer than the specified maximum sequence length for this model (26 > 512). Running this sequence through the model will result in indexing errors\n",
            "Token indices sequence length is longer than the specified maximum sequence length for this model (16 > 512). Running this sequence through the model will result in indexing errors\n"
          ],
          "name": "stderr"
        },
        {
          "output_type": "display_data",
          "data": {
            "text/html": [
              ""
            ],
            "text/plain": [
              "<IPython.core.display.HTML object>"
            ]
          },
          "metadata": {
            "tags": []
          }
        },
        {
          "output_type": "stream",
          "text": [
            "Token indices sequence length is longer than the specified maximum sequence length for this model (25 > 512). Running this sequence through the model will result in indexing errors\n"
          ],
          "name": "stderr"
        },
        {
          "output_type": "stream",
          "text": [
            "Better model found at epoch 81 with valid_loss value: 2.091383934020996.\n"
          ],
          "name": "stdout"
        },
        {
          "output_type": "display_data",
          "data": {
            "text/html": [
              ""
            ],
            "text/plain": [
              "<IPython.core.display.HTML object>"
            ]
          },
          "metadata": {
            "tags": []
          }
        },
        {
          "output_type": "stream",
          "text": [
            "Token indices sequence length is longer than the specified maximum sequence length for this model (16 > 512). Running this sequence through the model will result in indexing errors\n",
            "Token indices sequence length is longer than the specified maximum sequence length for this model (26 > 512). Running this sequence through the model will result in indexing errors\n"
          ],
          "name": "stderr"
        },
        {
          "output_type": "display_data",
          "data": {
            "text/html": [
              ""
            ],
            "text/plain": [
              "<IPython.core.display.HTML object>"
            ]
          },
          "metadata": {
            "tags": []
          }
        },
        {
          "output_type": "stream",
          "text": [
            "Token indices sequence length is longer than the specified maximum sequence length for this model (25 > 512). Running this sequence through the model will result in indexing errors\n"
          ],
          "name": "stderr"
        },
        {
          "output_type": "stream",
          "text": [
            "Better model found at epoch 82 with valid_loss value: 2.088146686553955.\n"
          ],
          "name": "stdout"
        },
        {
          "output_type": "display_data",
          "data": {
            "text/html": [
              ""
            ],
            "text/plain": [
              "<IPython.core.display.HTML object>"
            ]
          },
          "metadata": {
            "tags": []
          }
        },
        {
          "output_type": "stream",
          "text": [
            "Token indices sequence length is longer than the specified maximum sequence length for this model (26 > 512). Running this sequence through the model will result in indexing errors\n",
            "Token indices sequence length is longer than the specified maximum sequence length for this model (16 > 512). Running this sequence through the model will result in indexing errors\n"
          ],
          "name": "stderr"
        },
        {
          "output_type": "display_data",
          "data": {
            "text/html": [
              ""
            ],
            "text/plain": [
              "<IPython.core.display.HTML object>"
            ]
          },
          "metadata": {
            "tags": []
          }
        },
        {
          "output_type": "stream",
          "text": [
            "Token indices sequence length is longer than the specified maximum sequence length for this model (25 > 512). Running this sequence through the model will result in indexing errors\n"
          ],
          "name": "stderr"
        },
        {
          "output_type": "stream",
          "text": [
            "Better model found at epoch 83 with valid_loss value: 2.0829005241394043.\n"
          ],
          "name": "stdout"
        },
        {
          "output_type": "display_data",
          "data": {
            "text/html": [
              ""
            ],
            "text/plain": [
              "<IPython.core.display.HTML object>"
            ]
          },
          "metadata": {
            "tags": []
          }
        },
        {
          "output_type": "stream",
          "text": [
            "Token indices sequence length is longer than the specified maximum sequence length for this model (16 > 512). Running this sequence through the model will result in indexing errors\n",
            "Token indices sequence length is longer than the specified maximum sequence length for this model (26 > 512). Running this sequence through the model will result in indexing errors\n"
          ],
          "name": "stderr"
        },
        {
          "output_type": "display_data",
          "data": {
            "text/html": [
              ""
            ],
            "text/plain": [
              "<IPython.core.display.HTML object>"
            ]
          },
          "metadata": {
            "tags": []
          }
        },
        {
          "output_type": "stream",
          "text": [
            "Token indices sequence length is longer than the specified maximum sequence length for this model (25 > 512). Running this sequence through the model will result in indexing errors\n"
          ],
          "name": "stderr"
        },
        {
          "output_type": "stream",
          "text": [
            "Better model found at epoch 84 with valid_loss value: 2.078230857849121.\n"
          ],
          "name": "stdout"
        },
        {
          "output_type": "display_data",
          "data": {
            "text/html": [
              ""
            ],
            "text/plain": [
              "<IPython.core.display.HTML object>"
            ]
          },
          "metadata": {
            "tags": []
          }
        },
        {
          "output_type": "stream",
          "text": [
            "Token indices sequence length is longer than the specified maximum sequence length for this model (26 > 512). Running this sequence through the model will result in indexing errors\n",
            "Token indices sequence length is longer than the specified maximum sequence length for this model (27 > 512). Running this sequence through the model will result in indexing errors\n",
            "Token indices sequence length is longer than the specified maximum sequence length for this model (26 > 512). Running this sequence through the model will result in indexing errors\n"
          ],
          "name": "stderr"
        },
        {
          "output_type": "display_data",
          "data": {
            "text/html": [
              ""
            ],
            "text/plain": [
              "<IPython.core.display.HTML object>"
            ]
          },
          "metadata": {
            "tags": []
          }
        },
        {
          "output_type": "stream",
          "text": [
            "Token indices sequence length is longer than the specified maximum sequence length for this model (25 > 512). Running this sequence through the model will result in indexing errors\n"
          ],
          "name": "stderr"
        },
        {
          "output_type": "stream",
          "text": [
            "Better model found at epoch 85 with valid_loss value: 2.0726664066314697.\n"
          ],
          "name": "stdout"
        },
        {
          "output_type": "display_data",
          "data": {
            "text/html": [
              ""
            ],
            "text/plain": [
              "<IPython.core.display.HTML object>"
            ]
          },
          "metadata": {
            "tags": []
          }
        },
        {
          "output_type": "stream",
          "text": [
            "Token indices sequence length is longer than the specified maximum sequence length for this model (27 > 512). Running this sequence through the model will result in indexing errors\n",
            "Token indices sequence length is longer than the specified maximum sequence length for this model (16 > 512). Running this sequence through the model will result in indexing errors\n"
          ],
          "name": "stderr"
        },
        {
          "output_type": "display_data",
          "data": {
            "text/html": [
              ""
            ],
            "text/plain": [
              "<IPython.core.display.HTML object>"
            ]
          },
          "metadata": {
            "tags": []
          }
        },
        {
          "output_type": "stream",
          "text": [
            "Token indices sequence length is longer than the specified maximum sequence length for this model (25 > 512). Running this sequence through the model will result in indexing errors\n"
          ],
          "name": "stderr"
        },
        {
          "output_type": "stream",
          "text": [
            "Better model found at epoch 86 with valid_loss value: 2.0684585571289062.\n"
          ],
          "name": "stdout"
        },
        {
          "output_type": "display_data",
          "data": {
            "text/html": [
              ""
            ],
            "text/plain": [
              "<IPython.core.display.HTML object>"
            ]
          },
          "metadata": {
            "tags": []
          }
        },
        {
          "output_type": "stream",
          "text": [
            "Token indices sequence length is longer than the specified maximum sequence length for this model (27 > 512). Running this sequence through the model will result in indexing errors\n",
            "Token indices sequence length is longer than the specified maximum sequence length for this model (26 > 512). Running this sequence through the model will result in indexing errors\n",
            "Token indices sequence length is longer than the specified maximum sequence length for this model (26 > 512). Running this sequence through the model will result in indexing errors\n"
          ],
          "name": "stderr"
        },
        {
          "output_type": "display_data",
          "data": {
            "text/html": [
              ""
            ],
            "text/plain": [
              "<IPython.core.display.HTML object>"
            ]
          },
          "metadata": {
            "tags": []
          }
        },
        {
          "output_type": "stream",
          "text": [
            "Token indices sequence length is longer than the specified maximum sequence length for this model (25 > 512). Running this sequence through the model will result in indexing errors\n"
          ],
          "name": "stderr"
        },
        {
          "output_type": "stream",
          "text": [
            "Better model found at epoch 87 with valid_loss value: 2.067326068878174.\n"
          ],
          "name": "stdout"
        },
        {
          "output_type": "display_data",
          "data": {
            "text/html": [
              ""
            ],
            "text/plain": [
              "<IPython.core.display.HTML object>"
            ]
          },
          "metadata": {
            "tags": []
          }
        },
        {
          "output_type": "stream",
          "text": [
            "Token indices sequence length is longer than the specified maximum sequence length for this model (26 > 512). Running this sequence through the model will result in indexing errors\n",
            "Token indices sequence length is longer than the specified maximum sequence length for this model (27 > 512). Running this sequence through the model will result in indexing errors\n"
          ],
          "name": "stderr"
        },
        {
          "output_type": "display_data",
          "data": {
            "text/html": [
              ""
            ],
            "text/plain": [
              "<IPython.core.display.HTML object>"
            ]
          },
          "metadata": {
            "tags": []
          }
        },
        {
          "output_type": "stream",
          "text": [
            "Token indices sequence length is longer than the specified maximum sequence length for this model (25 > 512). Running this sequence through the model will result in indexing errors\n"
          ],
          "name": "stderr"
        },
        {
          "output_type": "stream",
          "text": [
            "Better model found at epoch 88 with valid_loss value: 2.059894323348999.\n"
          ],
          "name": "stdout"
        },
        {
          "output_type": "display_data",
          "data": {
            "text/html": [
              ""
            ],
            "text/plain": [
              "<IPython.core.display.HTML object>"
            ]
          },
          "metadata": {
            "tags": []
          }
        },
        {
          "output_type": "stream",
          "text": [
            "Token indices sequence length is longer than the specified maximum sequence length for this model (27 > 512). Running this sequence through the model will result in indexing errors\n",
            "Token indices sequence length is longer than the specified maximum sequence length for this model (27 > 512). Running this sequence through the model will result in indexing errors\n",
            "Token indices sequence length is longer than the specified maximum sequence length for this model (16 > 512). Running this sequence through the model will result in indexing errors\n",
            "Token indices sequence length is longer than the specified maximum sequence length for this model (26 > 512). Running this sequence through the model will result in indexing errors\n"
          ],
          "name": "stderr"
        },
        {
          "output_type": "display_data",
          "data": {
            "text/html": [
              ""
            ],
            "text/plain": [
              "<IPython.core.display.HTML object>"
            ]
          },
          "metadata": {
            "tags": []
          }
        },
        {
          "output_type": "stream",
          "text": [
            "Token indices sequence length is longer than the specified maximum sequence length for this model (25 > 512). Running this sequence through the model will result in indexing errors\n"
          ],
          "name": "stderr"
        },
        {
          "output_type": "stream",
          "text": [
            "Better model found at epoch 89 with valid_loss value: 2.0562918186187744.\n"
          ],
          "name": "stdout"
        },
        {
          "output_type": "display_data",
          "data": {
            "text/html": [
              ""
            ],
            "text/plain": [
              "<IPython.core.display.HTML object>"
            ]
          },
          "metadata": {
            "tags": []
          }
        },
        {
          "output_type": "stream",
          "text": [
            "Token indices sequence length is longer than the specified maximum sequence length for this model (27 > 512). Running this sequence through the model will result in indexing errors\n",
            "Token indices sequence length is longer than the specified maximum sequence length for this model (26 > 512). Running this sequence through the model will result in indexing errors\n"
          ],
          "name": "stderr"
        },
        {
          "output_type": "display_data",
          "data": {
            "text/html": [
              ""
            ],
            "text/plain": [
              "<IPython.core.display.HTML object>"
            ]
          },
          "metadata": {
            "tags": []
          }
        },
        {
          "output_type": "stream",
          "text": [
            "Token indices sequence length is longer than the specified maximum sequence length for this model (25 > 512). Running this sequence through the model will result in indexing errors\n"
          ],
          "name": "stderr"
        },
        {
          "output_type": "stream",
          "text": [
            "Better model found at epoch 90 with valid_loss value: 2.0523979663848877.\n"
          ],
          "name": "stdout"
        },
        {
          "output_type": "display_data",
          "data": {
            "text/html": [
              ""
            ],
            "text/plain": [
              "<IPython.core.display.HTML object>"
            ]
          },
          "metadata": {
            "tags": []
          }
        },
        {
          "output_type": "stream",
          "text": [
            "Token indices sequence length is longer than the specified maximum sequence length for this model (16 > 512). Running this sequence through the model will result in indexing errors\n",
            "Token indices sequence length is longer than the specified maximum sequence length for this model (27 > 512). Running this sequence through the model will result in indexing errors\n"
          ],
          "name": "stderr"
        },
        {
          "output_type": "display_data",
          "data": {
            "text/html": [
              ""
            ],
            "text/plain": [
              "<IPython.core.display.HTML object>"
            ]
          },
          "metadata": {
            "tags": []
          }
        },
        {
          "output_type": "stream",
          "text": [
            "Token indices sequence length is longer than the specified maximum sequence length for this model (25 > 512). Running this sequence through the model will result in indexing errors\n"
          ],
          "name": "stderr"
        },
        {
          "output_type": "stream",
          "text": [
            "Better model found at epoch 91 with valid_loss value: 2.047717332839966.\n"
          ],
          "name": "stdout"
        },
        {
          "output_type": "display_data",
          "data": {
            "text/html": [
              ""
            ],
            "text/plain": [
              "<IPython.core.display.HTML object>"
            ]
          },
          "metadata": {
            "tags": []
          }
        },
        {
          "output_type": "stream",
          "text": [
            "Token indices sequence length is longer than the specified maximum sequence length for this model (16 > 512). Running this sequence through the model will result in indexing errors\n",
            "Token indices sequence length is longer than the specified maximum sequence length for this model (27 > 512). Running this sequence through the model will result in indexing errors\n",
            "Token indices sequence length is longer than the specified maximum sequence length for this model (27 > 512). Running this sequence through the model will result in indexing errors\n"
          ],
          "name": "stderr"
        },
        {
          "output_type": "display_data",
          "data": {
            "text/html": [
              ""
            ],
            "text/plain": [
              "<IPython.core.display.HTML object>"
            ]
          },
          "metadata": {
            "tags": []
          }
        },
        {
          "output_type": "stream",
          "text": [
            "Token indices sequence length is longer than the specified maximum sequence length for this model (25 > 512). Running this sequence through the model will result in indexing errors\n"
          ],
          "name": "stderr"
        },
        {
          "output_type": "stream",
          "text": [
            "Better model found at epoch 92 with valid_loss value: 2.0465266704559326.\n"
          ],
          "name": "stdout"
        },
        {
          "output_type": "display_data",
          "data": {
            "text/html": [
              ""
            ],
            "text/plain": [
              "<IPython.core.display.HTML object>"
            ]
          },
          "metadata": {
            "tags": []
          }
        },
        {
          "output_type": "stream",
          "text": [
            "Token indices sequence length is longer than the specified maximum sequence length for this model (27 > 512). Running this sequence through the model will result in indexing errors\n",
            "Token indices sequence length is longer than the specified maximum sequence length for this model (26 > 512). Running this sequence through the model will result in indexing errors\n",
            "Token indices sequence length is longer than the specified maximum sequence length for this model (16 > 512). Running this sequence through the model will result in indexing errors\n"
          ],
          "name": "stderr"
        },
        {
          "output_type": "display_data",
          "data": {
            "text/html": [
              ""
            ],
            "text/plain": [
              "<IPython.core.display.HTML object>"
            ]
          },
          "metadata": {
            "tags": []
          }
        },
        {
          "output_type": "stream",
          "text": [
            "Token indices sequence length is longer than the specified maximum sequence length for this model (25 > 512). Running this sequence through the model will result in indexing errors\n"
          ],
          "name": "stderr"
        },
        {
          "output_type": "stream",
          "text": [
            "Better model found at epoch 93 with valid_loss value: 2.0463171005249023.\n"
          ],
          "name": "stdout"
        },
        {
          "output_type": "display_data",
          "data": {
            "text/html": [
              ""
            ],
            "text/plain": [
              "<IPython.core.display.HTML object>"
            ]
          },
          "metadata": {
            "tags": []
          }
        },
        {
          "output_type": "stream",
          "text": [
            "Token indices sequence length is longer than the specified maximum sequence length for this model (26 > 512). Running this sequence through the model will result in indexing errors\n",
            "Token indices sequence length is longer than the specified maximum sequence length for this model (26 > 512). Running this sequence through the model will result in indexing errors\n",
            "Token indices sequence length is longer than the specified maximum sequence length for this model (27 > 512). Running this sequence through the model will result in indexing errors\n",
            "Token indices sequence length is longer than the specified maximum sequence length for this model (26 > 512). Running this sequence through the model will result in indexing errors\n",
            "Token indices sequence length is longer than the specified maximum sequence length for this model (16 > 512). Running this sequence through the model will result in indexing errors\n"
          ],
          "name": "stderr"
        },
        {
          "output_type": "display_data",
          "data": {
            "text/html": [
              ""
            ],
            "text/plain": [
              "<IPython.core.display.HTML object>"
            ]
          },
          "metadata": {
            "tags": []
          }
        },
        {
          "output_type": "stream",
          "text": [
            "Token indices sequence length is longer than the specified maximum sequence length for this model (25 > 512). Running this sequence through the model will result in indexing errors\n"
          ],
          "name": "stderr"
        },
        {
          "output_type": "stream",
          "text": [
            "Better model found at epoch 94 with valid_loss value: 2.042968988418579.\n"
          ],
          "name": "stdout"
        },
        {
          "output_type": "display_data",
          "data": {
            "text/html": [
              ""
            ],
            "text/plain": [
              "<IPython.core.display.HTML object>"
            ]
          },
          "metadata": {
            "tags": []
          }
        },
        {
          "output_type": "stream",
          "text": [
            "Token indices sequence length is longer than the specified maximum sequence length for this model (26 > 512). Running this sequence through the model will result in indexing errors\n"
          ],
          "name": "stderr"
        },
        {
          "output_type": "display_data",
          "data": {
            "text/html": [
              ""
            ],
            "text/plain": [
              "<IPython.core.display.HTML object>"
            ]
          },
          "metadata": {
            "tags": []
          }
        },
        {
          "output_type": "stream",
          "text": [
            "Token indices sequence length is longer than the specified maximum sequence length for this model (25 > 512). Running this sequence through the model will result in indexing errors\n"
          ],
          "name": "stderr"
        },
        {
          "output_type": "stream",
          "text": [
            "Better model found at epoch 95 with valid_loss value: 2.0405986309051514.\n"
          ],
          "name": "stdout"
        },
        {
          "output_type": "display_data",
          "data": {
            "text/html": [
              ""
            ],
            "text/plain": [
              "<IPython.core.display.HTML object>"
            ]
          },
          "metadata": {
            "tags": []
          }
        },
        {
          "output_type": "stream",
          "text": [
            "Token indices sequence length is longer than the specified maximum sequence length for this model (16 > 512). Running this sequence through the model will result in indexing errors\n",
            "Token indices sequence length is longer than the specified maximum sequence length for this model (27 > 512). Running this sequence through the model will result in indexing errors\n",
            "Token indices sequence length is longer than the specified maximum sequence length for this model (27 > 512). Running this sequence through the model will result in indexing errors\n",
            "Token indices sequence length is longer than the specified maximum sequence length for this model (27 > 512). Running this sequence through the model will result in indexing errors\n"
          ],
          "name": "stderr"
        },
        {
          "output_type": "display_data",
          "data": {
            "text/html": [
              ""
            ],
            "text/plain": [
              "<IPython.core.display.HTML object>"
            ]
          },
          "metadata": {
            "tags": []
          }
        },
        {
          "output_type": "stream",
          "text": [
            "Token indices sequence length is longer than the specified maximum sequence length for this model (25 > 512). Running this sequence through the model will result in indexing errors\n"
          ],
          "name": "stderr"
        },
        {
          "output_type": "stream",
          "text": [
            "Better model found at epoch 96 with valid_loss value: 2.0381479263305664.\n"
          ],
          "name": "stdout"
        },
        {
          "output_type": "display_data",
          "data": {
            "text/html": [
              ""
            ],
            "text/plain": [
              "<IPython.core.display.HTML object>"
            ]
          },
          "metadata": {
            "tags": []
          }
        },
        {
          "output_type": "stream",
          "text": [
            "Token indices sequence length is longer than the specified maximum sequence length for this model (26 > 512). Running this sequence through the model will result in indexing errors\n",
            "Token indices sequence length is longer than the specified maximum sequence length for this model (16 > 512). Running this sequence through the model will result in indexing errors\n",
            "Token indices sequence length is longer than the specified maximum sequence length for this model (16 > 512). Running this sequence through the model will result in indexing errors\n",
            "Token indices sequence length is longer than the specified maximum sequence length for this model (27 > 512). Running this sequence through the model will result in indexing errors\n"
          ],
          "name": "stderr"
        },
        {
          "output_type": "display_data",
          "data": {
            "text/html": [
              ""
            ],
            "text/plain": [
              "<IPython.core.display.HTML object>"
            ]
          },
          "metadata": {
            "tags": []
          }
        },
        {
          "output_type": "stream",
          "text": [
            "Token indices sequence length is longer than the specified maximum sequence length for this model (25 > 512). Running this sequence through the model will result in indexing errors\n"
          ],
          "name": "stderr"
        },
        {
          "output_type": "stream",
          "text": [
            "Better model found at epoch 97 with valid_loss value: 2.0332319736480713.\n"
          ],
          "name": "stdout"
        },
        {
          "output_type": "display_data",
          "data": {
            "text/html": [
              ""
            ],
            "text/plain": [
              "<IPython.core.display.HTML object>"
            ]
          },
          "metadata": {
            "tags": []
          }
        },
        {
          "output_type": "stream",
          "text": [
            "Token indices sequence length is longer than the specified maximum sequence length for this model (26 > 512). Running this sequence through the model will result in indexing errors\n",
            "Token indices sequence length is longer than the specified maximum sequence length for this model (27 > 512). Running this sequence through the model will result in indexing errors\n",
            "Token indices sequence length is longer than the specified maximum sequence length for this model (16 > 512). Running this sequence through the model will result in indexing errors\n"
          ],
          "name": "stderr"
        },
        {
          "output_type": "display_data",
          "data": {
            "text/html": [
              ""
            ],
            "text/plain": [
              "<IPython.core.display.HTML object>"
            ]
          },
          "metadata": {
            "tags": []
          }
        },
        {
          "output_type": "stream",
          "text": [
            "Token indices sequence length is longer than the specified maximum sequence length for this model (25 > 512). Running this sequence through the model will result in indexing errors\n"
          ],
          "name": "stderr"
        },
        {
          "output_type": "stream",
          "text": [
            "Better model found at epoch 98 with valid_loss value: 2.030104875564575.\n"
          ],
          "name": "stdout"
        },
        {
          "output_type": "display_data",
          "data": {
            "text/html": [
              ""
            ],
            "text/plain": [
              "<IPython.core.display.HTML object>"
            ]
          },
          "metadata": {
            "tags": []
          }
        },
        {
          "output_type": "stream",
          "text": [
            "Token indices sequence length is longer than the specified maximum sequence length for this model (26 > 512). Running this sequence through the model will result in indexing errors\n",
            "Token indices sequence length is longer than the specified maximum sequence length for this model (16 > 512). Running this sequence through the model will result in indexing errors\n",
            "Token indices sequence length is longer than the specified maximum sequence length for this model (27 > 512). Running this sequence through the model will result in indexing errors\n",
            "Token indices sequence length is longer than the specified maximum sequence length for this model (26 > 512). Running this sequence through the model will result in indexing errors\n",
            "Token indices sequence length is longer than the specified maximum sequence length for this model (16 > 512). Running this sequence through the model will result in indexing errors\n"
          ],
          "name": "stderr"
        },
        {
          "output_type": "display_data",
          "data": {
            "text/html": [
              ""
            ],
            "text/plain": [
              "<IPython.core.display.HTML object>"
            ]
          },
          "metadata": {
            "tags": []
          }
        },
        {
          "output_type": "stream",
          "text": [
            "Token indices sequence length is longer than the specified maximum sequence length for this model (25 > 512). Running this sequence through the model will result in indexing errors\n"
          ],
          "name": "stderr"
        },
        {
          "output_type": "stream",
          "text": [
            "Better model found at epoch 99 with valid_loss value: 2.029416799545288.\n"
          ],
          "name": "stdout"
        },
        {
          "output_type": "display_data",
          "data": {
            "text/html": [
              ""
            ],
            "text/plain": [
              "<IPython.core.display.HTML object>"
            ]
          },
          "metadata": {
            "tags": []
          }
        },
        {
          "output_type": "stream",
          "text": [
            "Token indices sequence length is longer than the specified maximum sequence length for this model (26 > 512). Running this sequence through the model will result in indexing errors\n",
            "Token indices sequence length is longer than the specified maximum sequence length for this model (26 > 512). Running this sequence through the model will result in indexing errors\n"
          ],
          "name": "stderr"
        },
        {
          "output_type": "display_data",
          "data": {
            "text/html": [
              ""
            ],
            "text/plain": [
              "<IPython.core.display.HTML object>"
            ]
          },
          "metadata": {
            "tags": []
          }
        },
        {
          "output_type": "stream",
          "text": [
            "Token indices sequence length is longer than the specified maximum sequence length for this model (25 > 512). Running this sequence through the model will result in indexing errors\n"
          ],
          "name": "stderr"
        },
        {
          "output_type": "stream",
          "text": [
            "Better model found at epoch 100 with valid_loss value: 2.0247256755828857.\n"
          ],
          "name": "stdout"
        },
        {
          "output_type": "display_data",
          "data": {
            "text/html": [
              ""
            ],
            "text/plain": [
              "<IPython.core.display.HTML object>"
            ]
          },
          "metadata": {
            "tags": []
          }
        },
        {
          "output_type": "stream",
          "text": [
            "Token indices sequence length is longer than the specified maximum sequence length for this model (16 > 512). Running this sequence through the model will result in indexing errors\n",
            "Token indices sequence length is longer than the specified maximum sequence length for this model (26 > 512). Running this sequence through the model will result in indexing errors\n",
            "Token indices sequence length is longer than the specified maximum sequence length for this model (16 > 512). Running this sequence through the model will result in indexing errors\n"
          ],
          "name": "stderr"
        },
        {
          "output_type": "display_data",
          "data": {
            "text/html": [
              ""
            ],
            "text/plain": [
              "<IPython.core.display.HTML object>"
            ]
          },
          "metadata": {
            "tags": []
          }
        },
        {
          "output_type": "stream",
          "text": [
            "Token indices sequence length is longer than the specified maximum sequence length for this model (25 > 512). Running this sequence through the model will result in indexing errors\n"
          ],
          "name": "stderr"
        },
        {
          "output_type": "stream",
          "text": [
            "Better model found at epoch 101 with valid_loss value: 2.0220367908477783.\n"
          ],
          "name": "stdout"
        },
        {
          "output_type": "display_data",
          "data": {
            "text/html": [
              ""
            ],
            "text/plain": [
              "<IPython.core.display.HTML object>"
            ]
          },
          "metadata": {
            "tags": []
          }
        },
        {
          "output_type": "stream",
          "text": [
            "Token indices sequence length is longer than the specified maximum sequence length for this model (16 > 512). Running this sequence through the model will result in indexing errors\n",
            "Token indices sequence length is longer than the specified maximum sequence length for this model (16 > 512). Running this sequence through the model will result in indexing errors\n",
            "Token indices sequence length is longer than the specified maximum sequence length for this model (16 > 512). Running this sequence through the model will result in indexing errors\n"
          ],
          "name": "stderr"
        },
        {
          "output_type": "display_data",
          "data": {
            "text/html": [
              ""
            ],
            "text/plain": [
              "<IPython.core.display.HTML object>"
            ]
          },
          "metadata": {
            "tags": []
          }
        },
        {
          "output_type": "stream",
          "text": [
            "Token indices sequence length is longer than the specified maximum sequence length for this model (25 > 512). Running this sequence through the model will result in indexing errors\n"
          ],
          "name": "stderr"
        },
        {
          "output_type": "stream",
          "text": [
            "Better model found at epoch 102 with valid_loss value: 2.0170397758483887.\n"
          ],
          "name": "stdout"
        },
        {
          "output_type": "display_data",
          "data": {
            "text/html": [
              ""
            ],
            "text/plain": [
              "<IPython.core.display.HTML object>"
            ]
          },
          "metadata": {
            "tags": []
          }
        },
        {
          "output_type": "display_data",
          "data": {
            "text/html": [
              ""
            ],
            "text/plain": [
              "<IPython.core.display.HTML object>"
            ]
          },
          "metadata": {
            "tags": []
          }
        },
        {
          "output_type": "stream",
          "text": [
            "Token indices sequence length is longer than the specified maximum sequence length for this model (25 > 512). Running this sequence through the model will result in indexing errors\n"
          ],
          "name": "stderr"
        },
        {
          "output_type": "stream",
          "text": [
            "Better model found at epoch 103 with valid_loss value: 2.0144364833831787.\n"
          ],
          "name": "stdout"
        },
        {
          "output_type": "display_data",
          "data": {
            "text/html": [
              ""
            ],
            "text/plain": [
              "<IPython.core.display.HTML object>"
            ]
          },
          "metadata": {
            "tags": []
          }
        },
        {
          "output_type": "stream",
          "text": [
            "Token indices sequence length is longer than the specified maximum sequence length for this model (26 > 512). Running this sequence through the model will result in indexing errors\n",
            "Token indices sequence length is longer than the specified maximum sequence length for this model (26 > 512). Running this sequence through the model will result in indexing errors\n"
          ],
          "name": "stderr"
        },
        {
          "output_type": "display_data",
          "data": {
            "text/html": [
              ""
            ],
            "text/plain": [
              "<IPython.core.display.HTML object>"
            ]
          },
          "metadata": {
            "tags": []
          }
        },
        {
          "output_type": "stream",
          "text": [
            "Token indices sequence length is longer than the specified maximum sequence length for this model (25 > 512). Running this sequence through the model will result in indexing errors\n"
          ],
          "name": "stderr"
        },
        {
          "output_type": "display_data",
          "data": {
            "text/html": [
              ""
            ],
            "text/plain": [
              "<IPython.core.display.HTML object>"
            ]
          },
          "metadata": {
            "tags": []
          }
        },
        {
          "output_type": "display_data",
          "data": {
            "text/html": [
              ""
            ],
            "text/plain": [
              "<IPython.core.display.HTML object>"
            ]
          },
          "metadata": {
            "tags": []
          }
        },
        {
          "output_type": "stream",
          "text": [
            "Token indices sequence length is longer than the specified maximum sequence length for this model (25 > 512). Running this sequence through the model will result in indexing errors\n"
          ],
          "name": "stderr"
        },
        {
          "output_type": "display_data",
          "data": {
            "text/html": [
              ""
            ],
            "text/plain": [
              "<IPython.core.display.HTML object>"
            ]
          },
          "metadata": {
            "tags": []
          }
        },
        {
          "output_type": "stream",
          "text": [
            "Token indices sequence length is longer than the specified maximum sequence length for this model (27 > 512). Running this sequence through the model will result in indexing errors\n",
            "Token indices sequence length is longer than the specified maximum sequence length for this model (26 > 512). Running this sequence through the model will result in indexing errors\n"
          ],
          "name": "stderr"
        },
        {
          "output_type": "display_data",
          "data": {
            "text/html": [
              ""
            ],
            "text/plain": [
              "<IPython.core.display.HTML object>"
            ]
          },
          "metadata": {
            "tags": []
          }
        },
        {
          "output_type": "stream",
          "text": [
            "Token indices sequence length is longer than the specified maximum sequence length for this model (25 > 512). Running this sequence through the model will result in indexing errors\n"
          ],
          "name": "stderr"
        },
        {
          "output_type": "stream",
          "text": [
            "Better model found at epoch 106 with valid_loss value: 2.010471820831299.\n"
          ],
          "name": "stdout"
        },
        {
          "output_type": "display_data",
          "data": {
            "text/html": [
              ""
            ],
            "text/plain": [
              "<IPython.core.display.HTML object>"
            ]
          },
          "metadata": {
            "tags": []
          }
        },
        {
          "output_type": "stream",
          "text": [
            "Token indices sequence length is longer than the specified maximum sequence length for this model (16 > 512). Running this sequence through the model will result in indexing errors\n",
            "Token indices sequence length is longer than the specified maximum sequence length for this model (16 > 512). Running this sequence through the model will result in indexing errors\n",
            "Token indices sequence length is longer than the specified maximum sequence length for this model (27 > 512). Running this sequence through the model will result in indexing errors\n",
            "Token indices sequence length is longer than the specified maximum sequence length for this model (16 > 512). Running this sequence through the model will result in indexing errors\n"
          ],
          "name": "stderr"
        },
        {
          "output_type": "display_data",
          "data": {
            "text/html": [
              ""
            ],
            "text/plain": [
              "<IPython.core.display.HTML object>"
            ]
          },
          "metadata": {
            "tags": []
          }
        },
        {
          "output_type": "stream",
          "text": [
            "Token indices sequence length is longer than the specified maximum sequence length for this model (25 > 512). Running this sequence through the model will result in indexing errors\n"
          ],
          "name": "stderr"
        },
        {
          "output_type": "stream",
          "text": [
            "Better model found at epoch 107 with valid_loss value: 2.0077266693115234.\n"
          ],
          "name": "stdout"
        },
        {
          "output_type": "display_data",
          "data": {
            "text/html": [
              ""
            ],
            "text/plain": [
              "<IPython.core.display.HTML object>"
            ]
          },
          "metadata": {
            "tags": []
          }
        },
        {
          "output_type": "stream",
          "text": [
            "Token indices sequence length is longer than the specified maximum sequence length for this model (16 > 512). Running this sequence through the model will result in indexing errors\n",
            "Token indices sequence length is longer than the specified maximum sequence length for this model (16 > 512). Running this sequence through the model will result in indexing errors\n",
            "Token indices sequence length is longer than the specified maximum sequence length for this model (27 > 512). Running this sequence through the model will result in indexing errors\n",
            "Token indices sequence length is longer than the specified maximum sequence length for this model (16 > 512). Running this sequence through the model will result in indexing errors\n",
            "Token indices sequence length is longer than the specified maximum sequence length for this model (27 > 512). Running this sequence through the model will result in indexing errors\n",
            "Token indices sequence length is longer than the specified maximum sequence length for this model (26 > 512). Running this sequence through the model will result in indexing errors\n"
          ],
          "name": "stderr"
        },
        {
          "output_type": "display_data",
          "data": {
            "text/html": [
              ""
            ],
            "text/plain": [
              "<IPython.core.display.HTML object>"
            ]
          },
          "metadata": {
            "tags": []
          }
        },
        {
          "output_type": "stream",
          "text": [
            "Token indices sequence length is longer than the specified maximum sequence length for this model (25 > 512). Running this sequence through the model will result in indexing errors\n"
          ],
          "name": "stderr"
        },
        {
          "output_type": "stream",
          "text": [
            "Better model found at epoch 108 with valid_loss value: 2.005463123321533.\n"
          ],
          "name": "stdout"
        },
        {
          "output_type": "display_data",
          "data": {
            "text/html": [
              ""
            ],
            "text/plain": [
              "<IPython.core.display.HTML object>"
            ]
          },
          "metadata": {
            "tags": []
          }
        },
        {
          "output_type": "stream",
          "text": [
            "Token indices sequence length is longer than the specified maximum sequence length for this model (16 > 512). Running this sequence through the model will result in indexing errors\n",
            "Token indices sequence length is longer than the specified maximum sequence length for this model (27 > 512). Running this sequence through the model will result in indexing errors\n",
            "Token indices sequence length is longer than the specified maximum sequence length for this model (26 > 512). Running this sequence through the model will result in indexing errors\n"
          ],
          "name": "stderr"
        },
        {
          "output_type": "display_data",
          "data": {
            "text/html": [
              ""
            ],
            "text/plain": [
              "<IPython.core.display.HTML object>"
            ]
          },
          "metadata": {
            "tags": []
          }
        },
        {
          "output_type": "stream",
          "text": [
            "Token indices sequence length is longer than the specified maximum sequence length for this model (25 > 512). Running this sequence through the model will result in indexing errors\n"
          ],
          "name": "stderr"
        },
        {
          "output_type": "stream",
          "text": [
            "Better model found at epoch 109 with valid_loss value: 2.0031678676605225.\n"
          ],
          "name": "stdout"
        },
        {
          "output_type": "display_data",
          "data": {
            "text/html": [
              ""
            ],
            "text/plain": [
              "<IPython.core.display.HTML object>"
            ]
          },
          "metadata": {
            "tags": []
          }
        },
        {
          "output_type": "stream",
          "text": [
            "Token indices sequence length is longer than the specified maximum sequence length for this model (27 > 512). Running this sequence through the model will result in indexing errors\n"
          ],
          "name": "stderr"
        },
        {
          "output_type": "display_data",
          "data": {
            "text/html": [
              ""
            ],
            "text/plain": [
              "<IPython.core.display.HTML object>"
            ]
          },
          "metadata": {
            "tags": []
          }
        },
        {
          "output_type": "stream",
          "text": [
            "Token indices sequence length is longer than the specified maximum sequence length for this model (25 > 512). Running this sequence through the model will result in indexing errors\n"
          ],
          "name": "stderr"
        },
        {
          "output_type": "stream",
          "text": [
            "Better model found at epoch 110 with valid_loss value: 2.002249240875244.\n"
          ],
          "name": "stdout"
        },
        {
          "output_type": "display_data",
          "data": {
            "text/html": [
              ""
            ],
            "text/plain": [
              "<IPython.core.display.HTML object>"
            ]
          },
          "metadata": {
            "tags": []
          }
        },
        {
          "output_type": "stream",
          "text": [
            "Token indices sequence length is longer than the specified maximum sequence length for this model (27 > 512). Running this sequence through the model will result in indexing errors\n"
          ],
          "name": "stderr"
        },
        {
          "output_type": "display_data",
          "data": {
            "text/html": [
              ""
            ],
            "text/plain": [
              "<IPython.core.display.HTML object>"
            ]
          },
          "metadata": {
            "tags": []
          }
        },
        {
          "output_type": "stream",
          "text": [
            "Token indices sequence length is longer than the specified maximum sequence length for this model (25 > 512). Running this sequence through the model will result in indexing errors\n"
          ],
          "name": "stderr"
        },
        {
          "output_type": "stream",
          "text": [
            "Better model found at epoch 111 with valid_loss value: 1.999325156211853.\n"
          ],
          "name": "stdout"
        },
        {
          "output_type": "display_data",
          "data": {
            "text/html": [
              ""
            ],
            "text/plain": [
              "<IPython.core.display.HTML object>"
            ]
          },
          "metadata": {
            "tags": []
          }
        },
        {
          "output_type": "stream",
          "text": [
            "Token indices sequence length is longer than the specified maximum sequence length for this model (27 > 512). Running this sequence through the model will result in indexing errors\n",
            "Token indices sequence length is longer than the specified maximum sequence length for this model (16 > 512). Running this sequence through the model will result in indexing errors\n",
            "Token indices sequence length is longer than the specified maximum sequence length for this model (26 > 512). Running this sequence through the model will result in indexing errors\n",
            "Token indices sequence length is longer than the specified maximum sequence length for this model (27 > 512). Running this sequence through the model will result in indexing errors\n"
          ],
          "name": "stderr"
        },
        {
          "output_type": "display_data",
          "data": {
            "text/html": [
              ""
            ],
            "text/plain": [
              "<IPython.core.display.HTML object>"
            ]
          },
          "metadata": {
            "tags": []
          }
        },
        {
          "output_type": "stream",
          "text": [
            "Token indices sequence length is longer than the specified maximum sequence length for this model (25 > 512). Running this sequence through the model will result in indexing errors\n"
          ],
          "name": "stderr"
        },
        {
          "output_type": "stream",
          "text": [
            "Better model found at epoch 112 with valid_loss value: 1.9965543746948242.\n"
          ],
          "name": "stdout"
        },
        {
          "output_type": "display_data",
          "data": {
            "text/html": [
              ""
            ],
            "text/plain": [
              "<IPython.core.display.HTML object>"
            ]
          },
          "metadata": {
            "tags": []
          }
        },
        {
          "output_type": "stream",
          "text": [
            "Token indices sequence length is longer than the specified maximum sequence length for this model (26 > 512). Running this sequence through the model will result in indexing errors\n",
            "Token indices sequence length is longer than the specified maximum sequence length for this model (16 > 512). Running this sequence through the model will result in indexing errors\n",
            "Token indices sequence length is longer than the specified maximum sequence length for this model (27 > 512). Running this sequence through the model will result in indexing errors\n",
            "Token indices sequence length is longer than the specified maximum sequence length for this model (16 > 512). Running this sequence through the model will result in indexing errors\n"
          ],
          "name": "stderr"
        },
        {
          "output_type": "display_data",
          "data": {
            "text/html": [
              ""
            ],
            "text/plain": [
              "<IPython.core.display.HTML object>"
            ]
          },
          "metadata": {
            "tags": []
          }
        },
        {
          "output_type": "stream",
          "text": [
            "Token indices sequence length is longer than the specified maximum sequence length for this model (25 > 512). Running this sequence through the model will result in indexing errors\n"
          ],
          "name": "stderr"
        },
        {
          "output_type": "display_data",
          "data": {
            "text/html": [
              ""
            ],
            "text/plain": [
              "<IPython.core.display.HTML object>"
            ]
          },
          "metadata": {
            "tags": []
          }
        },
        {
          "output_type": "stream",
          "text": [
            "Token indices sequence length is longer than the specified maximum sequence length for this model (26 > 512). Running this sequence through the model will result in indexing errors\n",
            "Token indices sequence length is longer than the specified maximum sequence length for this model (27 > 512). Running this sequence through the model will result in indexing errors\n",
            "Token indices sequence length is longer than the specified maximum sequence length for this model (27 > 512). Running this sequence through the model will result in indexing errors\n"
          ],
          "name": "stderr"
        },
        {
          "output_type": "display_data",
          "data": {
            "text/html": [
              ""
            ],
            "text/plain": [
              "<IPython.core.display.HTML object>"
            ]
          },
          "metadata": {
            "tags": []
          }
        },
        {
          "output_type": "stream",
          "text": [
            "Token indices sequence length is longer than the specified maximum sequence length for this model (25 > 512). Running this sequence through the model will result in indexing errors\n"
          ],
          "name": "stderr"
        },
        {
          "output_type": "stream",
          "text": [
            "Better model found at epoch 114 with valid_loss value: 1.9934934377670288.\n"
          ],
          "name": "stdout"
        },
        {
          "output_type": "display_data",
          "data": {
            "text/html": [
              ""
            ],
            "text/plain": [
              "<IPython.core.display.HTML object>"
            ]
          },
          "metadata": {
            "tags": []
          }
        },
        {
          "output_type": "stream",
          "text": [
            "Token indices sequence length is longer than the specified maximum sequence length for this model (26 > 512). Running this sequence through the model will result in indexing errors\n",
            "Token indices sequence length is longer than the specified maximum sequence length for this model (27 > 512). Running this sequence through the model will result in indexing errors\n",
            "Token indices sequence length is longer than the specified maximum sequence length for this model (27 > 512). Running this sequence through the model will result in indexing errors\n"
          ],
          "name": "stderr"
        },
        {
          "output_type": "display_data",
          "data": {
            "text/html": [
              ""
            ],
            "text/plain": [
              "<IPython.core.display.HTML object>"
            ]
          },
          "metadata": {
            "tags": []
          }
        },
        {
          "output_type": "stream",
          "text": [
            "Token indices sequence length is longer than the specified maximum sequence length for this model (25 > 512). Running this sequence through the model will result in indexing errors\n"
          ],
          "name": "stderr"
        },
        {
          "output_type": "display_data",
          "data": {
            "text/html": [
              ""
            ],
            "text/plain": [
              "<IPython.core.display.HTML object>"
            ]
          },
          "metadata": {
            "tags": []
          }
        },
        {
          "output_type": "stream",
          "text": [
            "Token indices sequence length is longer than the specified maximum sequence length for this model (27 > 512). Running this sequence through the model will result in indexing errors\n",
            "Token indices sequence length is longer than the specified maximum sequence length for this model (26 > 512). Running this sequence through the model will result in indexing errors\n",
            "Token indices sequence length is longer than the specified maximum sequence length for this model (26 > 512). Running this sequence through the model will result in indexing errors\n",
            "Token indices sequence length is longer than the specified maximum sequence length for this model (26 > 512). Running this sequence through the model will result in indexing errors\n",
            "Token indices sequence length is longer than the specified maximum sequence length for this model (27 > 512). Running this sequence through the model will result in indexing errors\n",
            "Token indices sequence length is longer than the specified maximum sequence length for this model (26 > 512). Running this sequence through the model will result in indexing errors\n"
          ],
          "name": "stderr"
        },
        {
          "output_type": "display_data",
          "data": {
            "text/html": [
              ""
            ],
            "text/plain": [
              "<IPython.core.display.HTML object>"
            ]
          },
          "metadata": {
            "tags": []
          }
        },
        {
          "output_type": "stream",
          "text": [
            "Token indices sequence length is longer than the specified maximum sequence length for this model (25 > 512). Running this sequence through the model will result in indexing errors\n"
          ],
          "name": "stderr"
        },
        {
          "output_type": "display_data",
          "data": {
            "text/html": [
              ""
            ],
            "text/plain": [
              "<IPython.core.display.HTML object>"
            ]
          },
          "metadata": {
            "tags": []
          }
        },
        {
          "output_type": "stream",
          "text": [
            "Token indices sequence length is longer than the specified maximum sequence length for this model (26 > 512). Running this sequence through the model will result in indexing errors\n",
            "Token indices sequence length is longer than the specified maximum sequence length for this model (27 > 512). Running this sequence through the model will result in indexing errors\n",
            "Token indices sequence length is longer than the specified maximum sequence length for this model (16 > 512). Running this sequence through the model will result in indexing errors\n",
            "Token indices sequence length is longer than the specified maximum sequence length for this model (27 > 512). Running this sequence through the model will result in indexing errors\n"
          ],
          "name": "stderr"
        },
        {
          "output_type": "display_data",
          "data": {
            "text/html": [
              ""
            ],
            "text/plain": [
              "<IPython.core.display.HTML object>"
            ]
          },
          "metadata": {
            "tags": []
          }
        },
        {
          "output_type": "stream",
          "text": [
            "Token indices sequence length is longer than the specified maximum sequence length for this model (25 > 512). Running this sequence through the model will result in indexing errors\n"
          ],
          "name": "stderr"
        },
        {
          "output_type": "stream",
          "text": [
            "Better model found at epoch 117 with valid_loss value: 1.9915775060653687.\n"
          ],
          "name": "stdout"
        },
        {
          "output_type": "display_data",
          "data": {
            "text/html": [
              ""
            ],
            "text/plain": [
              "<IPython.core.display.HTML object>"
            ]
          },
          "metadata": {
            "tags": []
          }
        },
        {
          "output_type": "stream",
          "text": [
            "Token indices sequence length is longer than the specified maximum sequence length for this model (16 > 512). Running this sequence through the model will result in indexing errors\n",
            "Token indices sequence length is longer than the specified maximum sequence length for this model (16 > 512). Running this sequence through the model will result in indexing errors\n",
            "Token indices sequence length is longer than the specified maximum sequence length for this model (26 > 512). Running this sequence through the model will result in indexing errors\n"
          ],
          "name": "stderr"
        },
        {
          "output_type": "display_data",
          "data": {
            "text/html": [
              ""
            ],
            "text/plain": [
              "<IPython.core.display.HTML object>"
            ]
          },
          "metadata": {
            "tags": []
          }
        },
        {
          "output_type": "stream",
          "text": [
            "Token indices sequence length is longer than the specified maximum sequence length for this model (25 > 512). Running this sequence through the model will result in indexing errors\n"
          ],
          "name": "stderr"
        },
        {
          "output_type": "display_data",
          "data": {
            "text/html": [
              ""
            ],
            "text/plain": [
              "<IPython.core.display.HTML object>"
            ]
          },
          "metadata": {
            "tags": []
          }
        },
        {
          "output_type": "stream",
          "text": [
            "Token indices sequence length is longer than the specified maximum sequence length for this model (26 > 512). Running this sequence through the model will result in indexing errors\n"
          ],
          "name": "stderr"
        },
        {
          "output_type": "display_data",
          "data": {
            "text/html": [
              ""
            ],
            "text/plain": [
              "<IPython.core.display.HTML object>"
            ]
          },
          "metadata": {
            "tags": []
          }
        },
        {
          "output_type": "stream",
          "text": [
            "Token indices sequence length is longer than the specified maximum sequence length for this model (25 > 512). Running this sequence through the model will result in indexing errors\n"
          ],
          "name": "stderr"
        },
        {
          "output_type": "display_data",
          "data": {
            "text/html": [
              ""
            ],
            "text/plain": [
              "<IPython.core.display.HTML object>"
            ]
          },
          "metadata": {
            "tags": []
          }
        },
        {
          "output_type": "stream",
          "text": [
            "Token indices sequence length is longer than the specified maximum sequence length for this model (26 > 512). Running this sequence through the model will result in indexing errors\n",
            "Token indices sequence length is longer than the specified maximum sequence length for this model (27 > 512). Running this sequence through the model will result in indexing errors\n"
          ],
          "name": "stderr"
        },
        {
          "output_type": "display_data",
          "data": {
            "text/html": [
              ""
            ],
            "text/plain": [
              "<IPython.core.display.HTML object>"
            ]
          },
          "metadata": {
            "tags": []
          }
        },
        {
          "output_type": "stream",
          "text": [
            "Token indices sequence length is longer than the specified maximum sequence length for this model (25 > 512). Running this sequence through the model will result in indexing errors\n"
          ],
          "name": "stderr"
        },
        {
          "output_type": "stream",
          "text": [
            "Better model found at epoch 120 with valid_loss value: 1.988615870475769.\n"
          ],
          "name": "stdout"
        },
        {
          "output_type": "display_data",
          "data": {
            "text/html": [
              "\n",
              "    <div>\n",
              "        <style>\n",
              "            /* Turns off some styling */\n",
              "            progress {\n",
              "                /* gets rid of default border in Firefox and Opera. */\n",
              "                border: none;\n",
              "                /* Needs to be in here for Safari polyfill so background images work as expected. */\n",
              "                background-size: auto;\n",
              "            }\n",
              "            .progress-bar-interrupted, .progress-bar-interrupted::-webkit-progress-bar {\n",
              "                background: #F44336;\n",
              "            }\n",
              "        </style>\n",
              "      <progress value='35' class='' max='249' style='width:300px; height:20px; vertical-align: middle;'></progress>\n",
              "      14.06% [35/249 00:14<01:26 1.5123]\n",
              "    </div>\n",
              "    "
            ],
            "text/plain": [
              "<IPython.core.display.HTML object>"
            ]
          },
          "metadata": {
            "tags": []
          }
        },
        {
          "output_type": "stream",
          "text": [
            "Buffered data was truncated after reaching the output size limit."
          ],
          "name": "stdout"
        }
      ]
    },
    {
      "cell_type": "code",
      "metadata": {
        "id": "gBxJQNdj-wSW",
        "outputId": "9da9d092-1f9e-4e9c-e423-973c115ba4c2",
        "colab": {
          "base_uri": "https://localhost:8080/",
          "height": 1000,
          "referenced_widgets": [
            "730aae8fdaff4bf892ccb6372410d559",
            "b2b5874660404bd092a1f1dc82fa14f2",
            "923ded28e91942078c1b6675950aebe5",
            "89fb6129963a41638f6ffa6c9b4b3e7e",
            "ed17929b343141a6ba817325f2af9688",
            "1a978564e27c4d22930b7f9067fe7989",
            "785e7a0413f843969e3efde77896abb2",
            "d54e4e33588240de9817fe4e11a17136"
          ]
        }
      },
      "source": [
        "# Metriche dell'esperimento (utile come call separata perchè, come da cella precedente, a volte l'output della cella viene tagliato)\n",
        "exp.benchmark()"
      ],
      "execution_count": null,
      "outputs": [
        {
          "output_type": "stream",
          "text": [
            "Token indices sequence length is longer than the specified maximum sequence length for this model (16 > 512). Running this sequence through the model will result in indexing errors\n",
            "Token indices sequence length is longer than the specified maximum sequence length for this model (27 > 512). Running this sequence through the model will result in indexing errors\n",
            "Token indices sequence length is longer than the specified maximum sequence length for this model (26 > 512). Running this sequence through the model will result in indexing errors\n",
            "Token indices sequence length is longer than the specified maximum sequence length for this model (25 > 512). Running this sequence through the model will result in indexing errors\n"
          ],
          "name": "stderr"
        },
        {
          "output_type": "display_data",
          "data": {
            "application/vnd.jupyter.widget-view+json": {
              "model_id": "730aae8fdaff4bf892ccb6372410d559",
              "version_minor": 0,
              "version_major": 2
            },
            "text/plain": [
              "HBox(children=(FloatProgress(value=0.0, description='Downloading', max=445332528.0, style=ProgressStyle(descri…"
            ]
          },
          "metadata": {
            "tags": []
          }
        },
        {
          "output_type": "stream",
          "text": [
            "\n"
          ],
          "name": "stdout"
        },
        {
          "output_type": "stream",
          "text": [
            "Some weights of the model checkpoint at dbmdz/bert-base-italian-xxl-uncased were not used when initializing BertForSequenceClassification: ['cls.predictions.bias', 'cls.predictions.transform.dense.weight', 'cls.predictions.transform.dense.bias', 'cls.predictions.transform.LayerNorm.weight', 'cls.predictions.transform.LayerNorm.bias', 'cls.predictions.decoder.weight', 'cls.predictions.decoder.bias', 'cls.seq_relationship.weight', 'cls.seq_relationship.bias']\n",
            "- This IS expected if you are initializing BertForSequenceClassification from the checkpoint of a model trained on another task or with another architecture (e.g. initializing a BertForSequenceClassification model from a BertForPretraining model).\n",
            "- This IS NOT expected if you are initializing BertForSequenceClassification from the checkpoint of a model that you expect to be exactly identical (initializing a BertForSequenceClassification model from a BertForSequenceClassification model).\n",
            "Some weights of BertForSequenceClassification were not initialized from the model checkpoint at dbmdz/bert-base-italian-xxl-uncased and are newly initialized: ['classifier.weight', 'classifier.bias']\n",
            "You should probably TRAIN this model on a down-stream task to be able to use it for predictions and inference.\n"
          ],
          "name": "stderr"
        },
        {
          "output_type": "stream",
          "text": [
            "dbmdz/bert-base-italian-xxl-uncased/2020-09-14_11:13:26 BertClfier - lr: 1e-06\n",
            "******************************\n",
            "valid metrics for dbmdz/bert-base-italian-xxl-uncased/2020-09-14_11:13:26 BertClfier - lr: 1e-06\n"
          ],
          "name": "stdout"
        },
        {
          "output_type": "display_data",
          "data": {
            "text/html": [
              ""
            ],
            "text/plain": [
              "<IPython.core.display.HTML object>"
            ]
          },
          "metadata": {
            "tags": []
          }
        },
        {
          "output_type": "stream",
          "text": [
            "Token indices sequence length is longer than the specified maximum sequence length for this model (25 > 512). Running this sequence through the model will result in indexing errors\n"
          ],
          "name": "stderr"
        },
        {
          "output_type": "stream",
          "text": [
            "Better model found at epoch 0 with valid_loss value: 0.38963964581489563.\n"
          ],
          "name": "stdout"
        },
        {
          "output_type": "display_data",
          "data": {
            "text/html": [
              ""
            ],
            "text/plain": [
              "<IPython.core.display.HTML object>"
            ]
          },
          "metadata": {
            "tags": []
          }
        },
        {
          "output_type": "stream",
          "text": [
            "Token indices sequence length is longer than the specified maximum sequence length for this model (25 > 512). Running this sequence through the model will result in indexing errors\n"
          ],
          "name": "stderr"
        },
        {
          "output_type": "display_data",
          "data": {
            "text/html": [
              ""
            ],
            "text/plain": [
              "<IPython.core.display.HTML object>"
            ]
          },
          "metadata": {
            "tags": []
          }
        },
        {
          "output_type": "stream",
          "text": [
            "Token indices sequence length is longer than the specified maximum sequence length for this model (25 > 512). Running this sequence through the model will result in indexing errors\n"
          ],
          "name": "stderr"
        },
        {
          "output_type": "display_data",
          "data": {
            "text/html": [
              ""
            ],
            "text/plain": [
              "<IPython.core.display.HTML object>"
            ]
          },
          "metadata": {
            "tags": []
          }
        },
        {
          "output_type": "stream",
          "text": [
            "Token indices sequence length is longer than the specified maximum sequence length for this model (25 > 512). Running this sequence through the model will result in indexing errors\n"
          ],
          "name": "stderr"
        },
        {
          "output_type": "display_data",
          "data": {
            "text/html": [
              ""
            ],
            "text/plain": [
              "<IPython.core.display.HTML object>"
            ]
          },
          "metadata": {
            "tags": []
          }
        },
        {
          "output_type": "stream",
          "text": [
            "Token indices sequence length is longer than the specified maximum sequence length for this model (25 > 512). Running this sequence through the model will result in indexing errors\n"
          ],
          "name": "stderr"
        },
        {
          "output_type": "display_data",
          "data": {
            "text/html": [
              ""
            ],
            "text/plain": [
              "<IPython.core.display.HTML object>"
            ]
          },
          "metadata": {
            "tags": []
          }
        },
        {
          "output_type": "stream",
          "text": [
            "Token indices sequence length is longer than the specified maximum sequence length for this model (25 > 512). Running this sequence through the model will result in indexing errors\n"
          ],
          "name": "stderr"
        },
        {
          "output_type": "display_data",
          "data": {
            "image/png": "[encoded data removed]",
            "text/plain": [
              "<Figure size 720x720 with 1 Axes>"
            ]
          },
          "metadata": {
            "tags": [],
            "needs_background": "light"
          }
        },
        {
          "output_type": "stream",
          "text": [
            "                       precision    recall  f1-score   support\n",
            "\n",
            "        anticipazione       0.12      0.33      0.18         3\n",
            "                causa       0.31      0.40      0.35        20\n",
            "             commento       0.24      0.20      0.22        44\n",
            "             conferma       0.10      0.25      0.15        12\n",
            "            confronto       0.26      0.58      0.36        12\n",
            "       considerazione       0.09      0.25      0.13         4\n",
            "     contrapposizione       0.37      0.68      0.47        28\n",
            "          descrizione       0.69      0.50      0.58       139\n",
            "dichiarazione_intenti       0.24      0.50      0.32        22\n",
            "     generalizzazione       0.18      0.10      0.13        39\n",
            "             giudizio       0.58      0.47      0.52       122\n",
            "      giustificazione       0.28      0.40      0.33        25\n",
            "         implicazione       0.23      0.31      0.26        26\n",
            "         non_risposta       0.67      0.74      0.70        27\n",
            "             opinione       0.48      0.65      0.55        48\n",
            "          possibilita       0.27      0.39      0.32        18\n",
            "         prescrizione       0.32      0.38      0.34        16\n",
            "           previsione       0.31      0.58      0.41        24\n",
            "             proposta       0.27      0.50      0.35         8\n",
            "riferimento_obiettivo       0.20      0.36      0.26        14\n",
            "              sancire       0.50      0.14      0.22       155\n",
            "       specificazione       0.31      0.39      0.34        38\n",
            "          valutazione       0.36      0.34      0.35        44\n",
            "\n",
            "             accuracy                           0.39       888\n",
            "            macro avg       0.32      0.41      0.34       888\n",
            "         weighted avg       0.44      0.39      0.39       888\n",
            "\n"
          ],
          "name": "stdout"
        },
        {
          "output_type": "stream",
          "text": [
            "Token indices sequence length is longer than the specified maximum sequence length for this model (66 > 512). Running this sequence through the model will result in indexing errors\n",
            "Some weights of the model checkpoint at dbmdz/bert-base-italian-xxl-uncased were not used when initializing BertForSequenceClassification: ['cls.predictions.bias', 'cls.predictions.transform.dense.weight', 'cls.predictions.transform.dense.bias', 'cls.predictions.transform.LayerNorm.weight', 'cls.predictions.transform.LayerNorm.bias', 'cls.predictions.decoder.weight', 'cls.predictions.decoder.bias', 'cls.seq_relationship.weight', 'cls.seq_relationship.bias']\n",
            "- This IS expected if you are initializing BertForSequenceClassification from the checkpoint of a model trained on another task or with another architecture (e.g. initializing a BertForSequenceClassification model from a BertForPretraining model).\n",
            "- This IS NOT expected if you are initializing BertForSequenceClassification from the checkpoint of a model that you expect to be exactly identical (initializing a BertForSequenceClassification model from a BertForSequenceClassification model).\n",
            "Some weights of BertForSequenceClassification were not initialized from the model checkpoint at dbmdz/bert-base-italian-xxl-uncased and are newly initialized: ['classifier.weight', 'classifier.bias']\n",
            "You should probably TRAIN this model on a down-stream task to be able to use it for predictions and inference.\n"
          ],
          "name": "stderr"
        },
        {
          "output_type": "stream",
          "text": [
            "dbmdz/bert-base-italian-xxl-uncased/2020-09-14_11:13:26 BertClfier - lr: 1e-06\n",
            "******************************\n",
            "test metrics for dbmdz/bert-base-italian-xxl-uncased/2020-09-14_11:13:26 BertClfier - lr: 1e-06\n"
          ],
          "name": "stdout"
        },
        {
          "output_type": "display_data",
          "data": {
            "text/html": [
              ""
            ],
            "text/plain": [
              "<IPython.core.display.HTML object>"
            ]
          },
          "metadata": {
            "tags": []
          }
        },
        {
          "output_type": "stream",
          "text": [
            "Token indices sequence length is longer than the specified maximum sequence length for this model (66 > 512). Running this sequence through the model will result in indexing errors\n"
          ],
          "name": "stderr"
        },
        {
          "output_type": "stream",
          "text": [
            "Better model found at epoch 0 with valid_loss value: 0.38675743341445923.\n"
          ],
          "name": "stdout"
        },
        {
          "output_type": "display_data",
          "data": {
            "text/html": [
              ""
            ],
            "text/plain": [
              "<IPython.core.display.HTML object>"
            ]
          },
          "metadata": {
            "tags": []
          }
        },
        {
          "output_type": "stream",
          "text": [
            "Token indices sequence length is longer than the specified maximum sequence length for this model (66 > 512). Running this sequence through the model will result in indexing errors\n"
          ],
          "name": "stderr"
        },
        {
          "output_type": "display_data",
          "data": {
            "text/html": [
              ""
            ],
            "text/plain": [
              "<IPython.core.display.HTML object>"
            ]
          },
          "metadata": {
            "tags": []
          }
        },
        {
          "output_type": "stream",
          "text": [
            "Token indices sequence length is longer than the specified maximum sequence length for this model (66 > 512). Running this sequence through the model will result in indexing errors\n"
          ],
          "name": "stderr"
        },
        {
          "output_type": "display_data",
          "data": {
            "text/html": [
              ""
            ],
            "text/plain": [
              "<IPython.core.display.HTML object>"
            ]
          },
          "metadata": {
            "tags": []
          }
        },
        {
          "output_type": "stream",
          "text": [
            "Token indices sequence length is longer than the specified maximum sequence length for this model (66 > 512). Running this sequence through the model will result in indexing errors\n"
          ],
          "name": "stderr"
        },
        {
          "output_type": "display_data",
          "data": {
            "text/html": [
              ""
            ],
            "text/plain": [
              "<IPython.core.display.HTML object>"
            ]
          },
          "metadata": {
            "tags": []
          }
        },
        {
          "output_type": "stream",
          "text": [
            "Token indices sequence length is longer than the specified maximum sequence length for this model (66 > 512). Running this sequence through the model will result in indexing errors\n"
          ],
          "name": "stderr"
        },
        {
          "output_type": "display_data",
          "data": {
            "text/html": [
              ""
            ],
            "text/plain": [
              "<IPython.core.display.HTML object>"
            ]
          },
          "metadata": {
            "tags": []
          }
        },
        {
          "output_type": "stream",
          "text": [
            "Token indices sequence length is longer than the specified maximum sequence length for this model (66 > 512). Running this sequence through the model will result in indexing errors\n"
          ],
          "name": "stderr"
        },
        {
          "output_type": "stream",
          "text": [
            "\n",
            "\n",
            "\n"
          ],
          "name": "stdout"
        },
        {
          "output_type": "display_data",
          "data": {
            "text/html": [
              "<table border=\"1\" class=\"dataframe\">\n",
              "  <thead>\n",
              "    <tr style=\"text-align: right;\">\n",
              "      <th></th>\n",
              "      <th>precision</th>\n",
              "      <th>recall</th>\n",
              "      <th>f1-score</th>\n",
              "      <th>support</th>\n",
              "    </tr>\n",
              "  </thead>\n",
              "  <tbody>\n",
              "    <tr>\n",
              "      <th>anticipazione</th>\n",
              "      <td>0.00</td>\n",
              "      <td>0.00</td>\n",
              "      <td>0.00</td>\n",
              "      <td>11</td>\n",
              "    </tr>\n",
              "    <tr>\n",
              "      <th>causa</th>\n",
              "      <td>0.23</td>\n",
              "      <td>0.44</td>\n",
              "      <td>0.30</td>\n",
              "      <td>79</td>\n",
              "    </tr>\n",
              "    <tr>\n",
              "      <th>commento</th>\n",
              "      <td>0.17</td>\n",
              "      <td>0.17</td>\n",
              "      <td>0.17</td>\n",
              "      <td>159</td>\n",
              "    </tr>\n",
              "    <tr>\n",
              "      <th>conferma</th>\n",
              "      <td>0.15</td>\n",
              "      <td>0.39</td>\n",
              "      <td>0.22</td>\n",
              "      <td>46</td>\n",
              "    </tr>\n",
              "    <tr>\n",
              "      <th>confronto</th>\n",
              "      <td>0.23</td>\n",
              "      <td>0.53</td>\n",
              "      <td>0.32</td>\n",
              "      <td>57</td>\n",
              "    </tr>\n",
              "    <tr>\n",
              "      <th>considerazione</th>\n",
              "      <td>0.04</td>\n",
              "      <td>0.12</td>\n",
              "      <td>0.06</td>\n",
              "      <td>8</td>\n",
              "    </tr>\n",
              "    <tr>\n",
              "      <th>contrapposizione</th>\n",
              "      <td>0.41</td>\n",
              "      <td>0.64</td>\n",
              "      <td>0.50</td>\n",
              "      <td>104</td>\n",
              "    </tr>\n",
              "    <tr>\n",
              "      <th>descrizione</th>\n",
              "      <td>0.65</td>\n",
              "      <td>0.44</td>\n",
              "      <td>0.53</td>\n",
              "      <td>554</td>\n",
              "    </tr>\n",
              "    <tr>\n",
              "      <th>dichiarazione_intenti</th>\n",
              "      <td>0.27</td>\n",
              "      <td>0.51</td>\n",
              "      <td>0.35</td>\n",
              "      <td>53</td>\n",
              "    </tr>\n",
              "    <tr>\n",
              "      <th>generalizzazione</th>\n",
              "      <td>0.12</td>\n",
              "      <td>0.16</td>\n",
              "      <td>0.14</td>\n",
              "      <td>126</td>\n",
              "    </tr>\n",
              "    <tr>\n",
              "      <th>giudizio</th>\n",
              "      <td>0.49</td>\n",
              "      <td>0.65</td>\n",
              "      <td>0.56</td>\n",
              "      <td>488</td>\n",
              "    </tr>\n",
              "    <tr>\n",
              "      <th>giustificazione</th>\n",
              "      <td>0.24</td>\n",
              "      <td>0.30</td>\n",
              "      <td>0.27</td>\n",
              "      <td>87</td>\n",
              "    </tr>\n",
              "    <tr>\n",
              "      <th>implicazione</th>\n",
              "      <td>0.31</td>\n",
              "      <td>0.31</td>\n",
              "      <td>0.31</td>\n",
              "      <td>98</td>\n",
              "    </tr>\n",
              "    <tr>\n",
              "      <th>non_risposta</th>\n",
              "      <td>0.65</td>\n",
              "      <td>0.78</td>\n",
              "      <td>0.71</td>\n",
              "      <td>100</td>\n",
              "    </tr>\n",
              "    <tr>\n",
              "      <th>opinione</th>\n",
              "      <td>0.46</td>\n",
              "      <td>0.48</td>\n",
              "      <td>0.47</td>\n",
              "      <td>182</td>\n",
              "    </tr>\n",
              "    <tr>\n",
              "      <th>possibilita</th>\n",
              "      <td>0.32</td>\n",
              "      <td>0.50</td>\n",
              "      <td>0.39</td>\n",
              "      <td>68</td>\n",
              "    </tr>\n",
              "    <tr>\n",
              "      <th>prescrizione</th>\n",
              "      <td>0.39</td>\n",
              "      <td>0.44</td>\n",
              "      <td>0.42</td>\n",
              "      <td>54</td>\n",
              "    </tr>\n",
              "    <tr>\n",
              "      <th>previsione</th>\n",
              "      <td>0.33</td>\n",
              "      <td>0.38</td>\n",
              "      <td>0.35</td>\n",
              "      <td>45</td>\n",
              "    </tr>\n",
              "    <tr>\n",
              "      <th>proposta</th>\n",
              "      <td>0.07</td>\n",
              "      <td>0.10</td>\n",
              "      <td>0.08</td>\n",
              "      <td>20</td>\n",
              "    </tr>\n",
              "    <tr>\n",
              "      <th>riferimento_obiettivo</th>\n",
              "      <td>0.30</td>\n",
              "      <td>0.44</td>\n",
              "      <td>0.36</td>\n",
              "      <td>36</td>\n",
              "    </tr>\n",
              "    <tr>\n",
              "      <th>sancire</th>\n",
              "      <td>0.60</td>\n",
              "      <td>0.10</td>\n",
              "      <td>0.17</td>\n",
              "      <td>571</td>\n",
              "    </tr>\n",
              "    <tr>\n",
              "      <th>specificazione</th>\n",
              "      <td>0.29</td>\n",
              "      <td>0.20</td>\n",
              "      <td>0.24</td>\n",
              "      <td>138</td>\n",
              "    </tr>\n",
              "    <tr>\n",
              "      <th>valutazione</th>\n",
              "      <td>0.37</td>\n",
              "      <td>0.41</td>\n",
              "      <td>0.39</td>\n",
              "      <td>148</td>\n",
              "    </tr>\n",
              "    <tr>\n",
              "      <th>accuracy</th>\n",
              "      <td></td>\n",
              "      <td></td>\n",
              "      <td>0.39</td>\n",
              "      <td>3232</td>\n",
              "    </tr>\n",
              "    <tr>\n",
              "      <th>macro avg</th>\n",
              "      <td>0.31</td>\n",
              "      <td>0.37</td>\n",
              "      <td>0.32</td>\n",
              "      <td>3232</td>\n",
              "    </tr>\n",
              "    <tr>\n",
              "      <th>weighted avg</th>\n",
              "      <td>0.45</td>\n",
              "      <td>0.39</td>\n",
              "      <td>0.37</td>\n",
              "      <td>3232</td>\n",
              "    </tr>\n",
              "  </tbody>\n",
              "</table>"
            ],
            "text/plain": [
              "<IPython.core.display.HTML object>"
            ]
          },
          "metadata": {
            "tags": []
          }
        },
        {
          "output_type": "stream",
          "text": [
            "{'test': {'accuracy': 0.38675743341445923,\n",
            "          'fbeta': 0.31739256252798176,\n",
            "          'loss': 2.0436363220214844,\n",
            "          'mcc': 0.3417976849427512,\n",
            "          'rocauc': 0.869167869157139},\n",
            " 'valid': {'accuracy': 0.38963964581489563,\n",
            "           'fbeta': 0.3410323497687747,\n",
            "           'loss': 1.9644321203231812,\n",
            "           'mcc': 0.3518271924436428,\n",
            "           'rocauc': 0.8955507063193539}}\n"
          ],
          "name": "stdout"
        },
        {
          "output_type": "display_data",
          "data": {
            "image/png": "[encoded data removed]",
            "text/plain": [
              "<Figure size 864x864 with 2 Axes>"
            ]
          },
          "metadata": {
            "tags": [],
            "needs_background": "light"
          }
        }
      ]
    }
  ]
}