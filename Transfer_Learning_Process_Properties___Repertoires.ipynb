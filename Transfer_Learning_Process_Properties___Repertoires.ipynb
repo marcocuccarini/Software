{
  "nbformat": 4,
  "nbformat_minor": 0,
  "metadata": {
    "colab": {
      "name": "Transfer_Learning_Process_Properties___Repertoires.ipynb",
      "provenance": [],
      "collapsed_sections": [],
      "machine_shape": "hm"
    },
    "kernelspec": {
      "name": "python3",
      "display_name": "Python 3"
    },
    "accelerator": "GPU"
  },
  "cells": [
    {
      "cell_type": "code",
      "metadata": {
        "id": "YdfKIqdzI9q-"
      },
      "source": [
        "%reload_ext autoreload\n",
        "%autoreload 2\n",
        "import os\n",
        "os.environ['CUDA_LAUNCH_BLOCKING'] = \"1\""
      ],
      "execution_count": null,
      "outputs": []
    },
    {
      "cell_type": "code",
      "metadata": {
        "id": "EoPYsd7MI6Pi"
      },
      "source": [
        "%%capture\n",
        "!pip install transformers"
      ],
      "execution_count": null,
      "outputs": []
    },
    {
      "cell_type": "code",
      "metadata": {
        "id": "IEf2tTkAI7IW"
      },
      "source": [
        "%%capture\n",
        "!pip install git+https://github.com/fastai/fastai\n"
      ],
      "execution_count": null,
      "outputs": []
    },
    {
      "cell_type": "code",
      "metadata": {
        "id": "d29PhYvjaUiW"
      },
      "source": [
        "from fastai.basics import *\n",
        "from fastai.text.all import *\n",
        "from fastai.callback.all import *\n",
        "from fastai.interpret import *\n",
        "import sys\n",
        "import IPython.utils.io\n",
        "\n",
        "from functools import partial\n",
        "\n",
        "from dsnlplib import *\n"
      ],
      "execution_count": null,
      "outputs": []
    },
    {
      "cell_type": "code",
      "metadata": {
        "id": "F8TyL39fr5sv"
      },
      "source": [
        "class BertPPClfier(TransformerClassifier):\n",
        "    transformer_cls = AutoModelForSequenceClassification\n",
        "    variation = 'bert'\n",
        "\n",
        "    def __init__(self, *args, **kwargs):\n",
        "        super().__init__(*args, **kwargs)\n",
        "\n",
        "        self.loadPretrained()\n",
        "        \n",
        "    def forward(self, input_ids, attention_mask=None, token_type_ids=None, position_ids=None, head_mask=None, inputs_embeds=None, labels=None,):\n",
        "        \n",
        "        attention_mask = (input_ids!=1).type(input_ids.type()) \n",
        "        logits = self.transformer(input_ids, attention_mask = attention_mask)[0] \n",
        "        \n",
        "        return logits"
      ],
      "execution_count": null,
      "outputs": []
    },
    {
      "cell_type": "code",
      "metadata": {
        "id": "-fPpVPl3jT_1"
      },
      "source": [
        "class BertRepFromPPClfier(TransformerClassifier):\n",
        "    transformer_cls = AutoModelForSequenceClassification\n",
        "    variation = 'bertfinetuned'\n",
        "\n",
        "    def __init__(self, *args, **kwargs):\n",
        "        super().__init__(*args, **kwargs)\n",
        "        self.classifier2 = nn.Linear(13, 23)\n",
        "        self.activation = nn.ReLU()\n",
        "\n",
        "        self.loadPretrained()\n",
        "        \n",
        "    def forward(self, input_ids, attention_mask=None, token_type_ids=None, position_ids=None, head_mask=None, inputs_embeds=None, labels=None,):\n",
        "        \n",
        "        attention_mask = (input_ids!=1).type(input_ids.type()) \n",
        "        logits = self.transformer(input_ids, attention_mask = attention_mask)[0] \n",
        "        \n",
        "        logits = self.classifier2(logits)\n",
        "        \n",
        "        return logits"
      ],
      "execution_count": null,
      "outputs": []
    },
    {
      "cell_type": "code",
      "metadata": {
        "id": "6CcyzF2LWMU8"
      },
      "source": [
        "c = DSConfig()"
      ],
      "execution_count": null,
      "outputs": []
    },
    {
      "cell_type": "code",
      "metadata": {
        "id": "tg52VdpUCu4q"
      },
      "source": [
        "c.bs = 32\n",
        "c.max_seq_len = 512  \n",
        "\n",
        "\n",
        "c.eps=0.0001\n",
        "\n",
        "c.lr=1e-6\n",
        "c.epochs=2000\n",
        "c.patience=20\n",
        "c.use_activ=True\n",
        "\n",
        "# Imponiamo il numero di \n",
        "c.num_labels = 13"
      ],
      "execution_count": null,
      "outputs": []
    },
    {
      "cell_type": "code",
      "metadata": {
        "id": "mLGWbBdGcD12"
      },
      "source": [
        "c.pretraineds = ['dbmdz/bert-base-italian-xxl-uncased', \n",
        "                 './process_properties'\n",
        "               #'m-polignano-uniba/bert_uncased_L-12_H-768_A-12_italian_alb3rt0'\n",
        "               ]\n",
        "c.models = [\n",
        "            (BertClfier,empty_config),\n",
        "            (BertLast4ClsTokenClfier,empty_config),\n",
        "            (BertLast4ClsTokenDenseClfier,empty_config),\n",
        "            (BertLast4CnnClfier, cnn_config),\n",
        "            (BertLast4PadCnnClfier, cnn_config),\n",
        "            (BertPPClfier, cnn_config),\n",
        "            (BertRepFromPPClfier, cnn_config),\n",
        "]"
      ],
      "execution_count": null,
      "outputs": []
    },
    {
      "cell_type": "code",
      "metadata": {
        "id": "xSbd_861x7lz"
      },
      "source": [
        "c.results = {}"
      ],
      "execution_count": null,
      "outputs": []
    },
    {
      "cell_type": "code",
      "metadata": {
        "id": "7Hx5HDgq7Ndj"
      },
      "source": [
        "c.pretrain_id = c.pretraineds[0]\n",
        "\n",
        "c.tokenizer = AutoTokenizer.from_pretrained(c.pretrain_id)\n",
        "tokenizer_vocab=c.tokenizer.get_vocab() \n",
        "c.tokenizer_vocab_ls = [k for k, v in sorted(tokenizer_vocab.items(), key=lambda item: item[1])]\n",
        "\n",
        "c.max_seq_len = min(c.max_seq_len,c.tokenizer.max_len)\n",
        "  \n",
        "tok_func = FastHugsTokenizer(transformer_tokenizer=c.tokenizer, model_name=c.pretrain_id, max_seq_len=c.max_seq_len, sentence_pair=c.sentence_pair)\n",
        "\n",
        "c.fai_tokenizer = Tokenizer.from_df(text_cols='text', res_col_name='text', tok=tok_func, rules=[])"
      ],
      "execution_count": null,
      "outputs": []
    },
    {
      "cell_type": "code",
      "metadata": {
        "id": "MzI_x0aeNRSB"
      },
      "source": [
        "c.df = pd.read_csv('data/texts2.1.max_512.train.balanced_rep.csv')\n",
        "c.test_df = pd.read_csv('data/texts2.1.max_512.test.balanced_rep.csv')"
      ],
      "execution_count": null,
      "outputs": []
    },
    {
      "cell_type": "code",
      "metadata": {
        "id": "CJ8j0ecKFBih"
      },
      "source": [
        "c.df['label'] = c.df['Rep']\n",
        "c.test_df['label'] = c.test_df['Rep']"
      ],
      "execution_count": null,
      "outputs": []
    },
    {
      "cell_type": "code",
      "metadata": {
        "id": "5nBDYCf35Nyx"
      },
      "source": [
        "c.df['labels'] = c.df['Rep'].apply(assignPP)\n",
        "c.df['labels'] = c.df['labels'].apply(str.split)"
      ],
      "execution_count": null,
      "outputs": []
    },
    {
      "cell_type": "code",
      "metadata": {
        "id": "kVN6Ja2Vcl_v"
      },
      "source": [
        "c.test_df['labels'] = c.test_df['Rep'].apply(assignPP)\n",
        "c.test_df['labels'] = c.test_df['labels'].apply(str.split)"
      ],
      "execution_count": null,
      "outputs": []
    },
    {
      "cell_type": "code",
      "metadata": {
        "id": "JmpFFevc7nqu"
      },
      "source": [
        "# fit on process properties first\n",
        "c.model_idx = 5"
      ],
      "execution_count": null,
      "outputs": []
    },
    {
      "cell_type": "code",
      "metadata": {
        "id": "PI4Cxf957o9G"
      },
      "source": [
        "model = dsc.models[dsc.model_idx]"
      ],
      "execution_count": null,
      "outputs": []
    },
    {
      "cell_type": "code",
      "metadata": {
        "id": "Z4uTwbLw7rAs"
      },
      "source": [
        "(model_cls, config) = model\n",
        "model_name = model_cls.__name__"
      ],
      "execution_count": null,
      "outputs": []
    },
    {
      "cell_type": "code",
      "metadata": {
        "id": "-AZxASKS7t5K"
      },
      "source": [
        "config_dict = AutoConfig.from_pretrained(dsc.pretrain_id)\n",
        "print(\"\\n\\nWeights: %s - Model: %s\" % (dsc.pretrain_id, model_name), flush= True)\n"
      ],
      "execution_count": null,
      "outputs": []
    },
    {
      "cell_type": "code",
      "metadata": {
        "id": "OEysDcZN7wFL"
      },
      "source": [
        "x_tfms = [attrgetter(\"text\"), dsc.fai_tokenizer, Numericalize(vocab=dsc.tokenizer_vocab_ls)]\n"
      ],
      "execution_count": null,
      "outputs": []
    },
    {
      "cell_type": "code",
      "metadata": {
        "id": "U81Vahfh7yMo"
      },
      "source": [
        "y_tfms = [attrgetter(\"labels\"), MultiCategorize(),OneHotEncode()]"
      ],
      "execution_count": null,
      "outputs": []
    },
    {
      "cell_type": "code",
      "metadata": {
        "id": "d5oqpjU674S4"
      },
      "source": [
        "splits = ColSplitter()(dsc.df)"
      ],
      "execution_count": null,
      "outputs": []
    },
    {
      "cell_type": "code",
      "metadata": {
        "id": "lkqkckR175cu"
      },
      "source": [
        "dsets = Datasets(dsc.df, splits=splits, tfms=[x_tfms, y_tfms], dl_type=SortedDL)\n"
      ],
      "execution_count": null,
      "outputs": []
    },
    {
      "cell_type": "code",
      "metadata": {
        "id": "i1u8mEsG78iC"
      },
      "source": [
        "padding=transformer_padding(dsc.tokenizer)\n",
        "dls = dsets.dataloaders(bs=dsc.bs, before_batch=[padding])"
      ],
      "execution_count": null,
      "outputs": []
    },
    {
      "cell_type": "code",
      "metadata": {
        "id": "wfmmx9g2bqXW"
      },
      "source": [
        "config_dict.num_labels = dsc.num_labels if dsc.num_labels is not None else dls.c\n"
      ],
      "execution_count": null,
      "outputs": []
    },
    {
      "cell_type": "code",
      "metadata": {
        "id": "ekLFR_joWywb"
      },
      "source": [
        "exp = DSExperiment(c)"
      ],
      "execution_count": null,
      "outputs": []
    },
    {
      "cell_type": "code",
      "metadata": {
        "id": "Q56I3wlsMYb9"
      },
      "source": [
        "opt_func = partial(Adam, decouple_wd=True, eps=dsc.eps)"
      ],
      "execution_count": null,
      "outputs": []
    },
    {
      "cell_type": "code",
      "metadata": {
        "id": "SmjYHU9BMbF4"
      },
      "source": [
        "useRocAuc = (dls.c <= 3)\n"
      ],
      "execution_count": null,
      "outputs": []
    },
    {
      "cell_type": "code",
      "metadata": {
        "id": "5UGvM3pDMgnf"
      },
      "source": [
        "fai_model = model_cls(config_dict = config_dict, model_name = dsc.pretrain_id, pretrained = True, use_activ=dsc.use_activ)\n"
      ],
      "execution_count": null,
      "outputs": []
    },
    {
      "cell_type": "code",
      "metadata": {
        "id": "YXSWuAHOMkoH"
      },
      "source": [
        "metrics = [accuracy_multi,F1ScoreMulti(average='macro')]"
      ],
      "execution_count": null,
      "outputs": []
    },
    {
      "cell_type": "code",
      "metadata": {
        "id": "O7HMpIkyMmZn"
      },
      "source": [
        "if (useRocAuc):\n",
        "  metrics.append(RocAuc(multi_class='ovo'))\n",
        "\n",
        "# current date and time\n",
        "now = datetime.now()\n",
        "\n",
        "timestamp = now.isoformat(sep='_', timespec='seconds')\n",
        "\n",
        "fname_id = dsc.pretrain_id + '/' + timestamp + ' ' + model_name + ' - lr: ' + str(dsc.lr)\n",
        "\n",
        "fname = '/content/drive/My Drive/dnlp_models/' + fname_id"
      ],
      "execution_count": null,
      "outputs": []
    },
    {
      "cell_type": "code",
      "metadata": {
        "id": "O38k5FVEMvQi"
      },
      "source": [
        "learn = Learner(dls, fai_model, loss_func=BCEWithLogitsLossFlat(), metrics=metrics, cbs=[SaveModelCallback(fname=fname),EarlyStoppingCallback(patience=dsc.patience),ReduceLROnPlateau(patience=dsc.plateau_patience)], splitter=fai_model.transformer_spltr).to_fp16()\n"
      ],
      "execution_count": null,
      "outputs": []
    },
    {
      "cell_type": "code",
      "metadata": {
        "id": "I6O85sPjgOfS"
      },
      "source": [
        "learn.freeze_to(0)"
      ],
      "execution_count": null,
      "outputs": []
    },
    {
      "cell_type": "code",
      "metadata": {
        "id": "4JZlAZiUM2Uk"
      },
      "source": [
        "learn.fit(dsc.epochs, lr=dsc.lr, wds=1e-4, use_wd_sched=True)"
      ],
      "execution_count": null,
      "outputs": []
    },
    {
      "cell_type": "code",
      "metadata": {
        "id": "O_B53ArJwrm5"
      },
      "source": [
        "process_p_pretraining = '/content/drive/My Drive/dnlp_pretrainings/pp_uncased_ans'"
      ],
      "execution_count": null,
      "outputs": []
    },
    {
      "cell_type": "code",
      "metadata": {
        "id": "zbkMDXTMwzNg"
      },
      "source": [
        "!mkdir -p process_p_pretraining"
      ],
      "execution_count": null,
      "outputs": []
    },
    {
      "cell_type": "code",
      "metadata": {
        "id": "VXC2mStMghbA"
      },
      "source": [
        "learn.model.transformer.save_pretrained(process_p_pretraining)"
      ],
      "execution_count": null,
      "outputs": []
    },
    {
      "cell_type": "code",
      "metadata": {
        "id": "czzsjDmjWzME"
      },
      "source": [
        "c.freeze_to = 3"
      ],
      "execution_count": null,
      "outputs": []
    },
    {
      "cell_type": "code",
      "metadata": {
        "id": "Qvh38S7Vg99k"
      },
      "source": [
        "c.pretrain_id = process_p_pretraining"
      ],
      "execution_count": null,
      "outputs": []
    },
    {
      "cell_type": "code",
      "metadata": {
        "id": "Oc7cEkpzhbg5"
      },
      "source": [
        "c.model_idx = 6"
      ],
      "execution_count": null,
      "outputs": []
    },
    {
      "cell_type": "code",
      "metadata": {
        "id": "LEsR_piMqYAk"
      },
      "source": [
        "# fit on repertoires\n",
        "exp.run()"
      ],
      "execution_count": null,
      "outputs": []
    },
    {
      "cell_type": "code",
      "metadata": {
        "id": "qWn-z03D3prf"
      },
      "source": [
        "exp.benchmark()"
      ],
      "execution_count": null,
      "outputs": []
    }
  ]
}